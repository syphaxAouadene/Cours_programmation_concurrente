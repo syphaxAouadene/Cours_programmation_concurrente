{
  "nbformat": 4,
  "nbformat_minor": 0,
  "metadata": {
    "colab": {
      "name": "my_first_CNN_for_handwritten_digit_classification version 1.0.ipynb",
      "provenance": [],
      "collapsed_sections": [
        "uXOxpXATeNlp",
        "hx6wKd0xuzaj",
        "kkMiwVr_vD2f"
      ],
      "authorship_tag": "ABX9TyPj22xJKwrVpEXRCct0Jf1o",
      "include_colab_link": true
    },
    "kernelspec": {
      "name": "python3",
      "display_name": "Python 3"
    },
    "language_info": {
      "name": "python"
    }
  },
  "cells": [
    {
      "cell_type": "markdown",
      "metadata": {
        "id": "view-in-github",
        "colab_type": "text"
      },
      "source": [
        "<a href=\"https://colab.research.google.com/github/syphaxAouadene/Cours_programmation_concurrente/blob/main/my_first_CNN_for_handwritten_digit_classification_version_1_0.ipynb\" target=\"_parent\"><img src=\"https://colab.research.google.com/assets/colab-badge.svg\" alt=\"Open In Colab\"/></a>"
      ]
    },
    {
      "cell_type": "code",
      "metadata": {
        "id": "xgimDyAjarpZ"
      },
      "source": [
        ""
      ],
      "execution_count": null,
      "outputs": []
    },
    {
      "cell_type": "code",
      "metadata": {
        "colab": {
          "base_uri": "https://localhost:8080/"
        },
        "id": "HJVQMAlSsyCc",
        "outputId": "a34fb06b-34f8-41ee-bd1f-92e18136941a"
      },
      "source": [
        "import numpy as np\n",
        "import pandas as pd\n",
        "import time\n",
        "from IPython.display import clear_output\n",
        "import json\n",
        "import matplotlib.pyplot as plt\n",
        "%pylab inline\n",
        "import os"
      ],
      "execution_count": 1,
      "outputs": [
        {
          "output_type": "stream",
          "text": [
            "Populating the interactive namespace from numpy and matplotlib\n"
          ],
          "name": "stdout"
        }
      ]
    },
    {
      "cell_type": "code",
      "metadata": {
        "id": "DAYSvMPYsy05"
      },
      "source": [
        "from mlxtend.data import loadlocal_mnist\n",
        "import platform"
      ],
      "execution_count": 2,
      "outputs": []
    },
    {
      "cell_type": "code",
      "metadata": {
        "colab": {
          "base_uri": "https://localhost:8080/"
        },
        "id": "Gg09QpqgtTza",
        "outputId": "f8d0fb33-1a15-4605-fb1d-cdd8a15836bc"
      },
      "source": [
        "from google.colab import drive\n",
        "drive.mount('/content/drive')"
      ],
      "execution_count": 3,
      "outputs": [
        {
          "output_type": "stream",
          "text": [
            "Drive already mounted at /content/drive; to attempt to forcibly remount, call drive.mount(\"/content/drive\", force_remount=True).\n"
          ],
          "name": "stdout"
        }
      ]
    },
    {
      "cell_type": "code",
      "metadata": {
        "id": "0zLyEq5leMs8"
      },
      "source": [
        ""
      ],
      "execution_count": 3,
      "outputs": []
    },
    {
      "cell_type": "markdown",
      "metadata": {
        "id": "uXOxpXATeNlp"
      },
      "source": [
        "# CNN operations"
      ]
    },
    {
      "cell_type": "code",
      "metadata": {
        "id": "ChRRlpbQasLv"
      },
      "source": [
        "def multiplication(imaget, f):\n",
        "    if len(imaget.shape) == 1 :\n",
        "        imaget = imaget.reshape((imaget.shape[0], 1))\n",
        "    result = imaget * f\n",
        "    somme = 0\n",
        "    for i in range(imaget.shape[0]):\n",
        "        for j in range(imaget.shape[1]):\n",
        "            somme = somme + result[i, j]\n",
        "    return somme\n",
        "\n",
        "\n",
        "def convolution(img, f):\n",
        "    result = np.zeros((img.shape[0] - f.shape[0] + 1, img.shape[1] - f.shape[1] + 1))\n",
        "    for i in range(result.shape[0]):\n",
        "        for j in range(result.shape[1]):\n",
        "            imaget = img[i:f.shape[0]+i, j:f.shape[1]+j]\n",
        "            multi = multiplication(imaget, f)\n",
        "            result[i, j] = multi\n",
        "    return result\n",
        "\n",
        "\n",
        "def ReLU_convolution(convolved_map):\n",
        "    result = np.zeros(convolved_map.shape)\n",
        "    for i in range(result.shape[0]):\n",
        "        for j in range(result.shape[1]):\n",
        "            result[i, j] = np.max([convolved_map[i,j], 0])\n",
        "    return result\n",
        "\n",
        "\n",
        "def get_convolved_layer_from_previous_layer(previous_layer, nbr_filter, size_filter):\n",
        "    \"\"\"\n",
        "    don't forget to add bias term corresponding to each filter !\n",
        "    - previous_layer = is a list that contains each feature map of the previous_layer\n",
        "    - nbr_filter = is an integer that represents how many filter do we want to use, (ex. 6)\n",
        "    - size_filter = is an integer that represents the shape of each filter (if size_filter=3 then shape_filter=(3, 3))\n",
        "    \n",
        "    this function return a list that contains each convolved map \n",
        "    (you should know that convolved_map = convolution between feature_map and filter)\n",
        "    \"\"\"\n",
        "    convolved_layer = []\n",
        "    filters = [initialize_filter(size_filter, size_filter) for i in range(nbr_filter)]\n",
        "    biais = initialize_filter(nbr_filter, 1)\n",
        "    for f in filters:\n",
        "        somme = 0\n",
        "        bias = 0\n",
        "        for feature_map in previous_layer:\n",
        "            somme = somme + convolution(feature_map, f)\n",
        "        somme = somme + bias\n",
        "        convolved_layer.append(ReLU_convolution(somme))\n",
        "    return convolved_layer, filters, biais\n",
        "\n",
        "\n",
        "def max_pooling(convolved_map, size_of_pooling_kernel, stride):\n",
        "#     result_of_pooling has to have shape = ((input_width - kernel_width) + 2*padding/stride) + 1\n",
        "    result = np.zeros((int((convolved_map.shape[0]-size_of_pooling_kernel)/stride)+1, int((convolved_map.shape[0]-size_of_pooling_kernel)/stride)+1))\n",
        "    for i in range(0, result.shape[0], stride):\n",
        "        for j in range(0, result.shape[1], stride):\n",
        "            imaget = convolved_map[i:size_of_pooling_kernel+i, j:size_of_pooling_kernel+j]\n",
        "            result[i, j] = np.max(imaget)\n",
        "    return result\n",
        "\n",
        "\n",
        "def mean_pooling(convolved_map, size_of_pooling_kernel, stride):\n",
        "    #     result_of_pooling has to have shape = ((input_width - kernel_width) + 2*padding/stride) + 1\n",
        "    result = np.zeros((int((convolved_map.shape[0]-size_of_pooling_kernel)/stride)+1, int((convolved_map.shape[0]-size_of_pooling_kernel)/stride)+1))\n",
        "    for i in range(0, result.shape[0], stride):\n",
        "        for j in range(0, result.shape[1], stride):\n",
        "            imaget = convolved_map[i:size_of_pooling_kernel+i, j:size_of_pooling_kernel+j]\n",
        "            result[i, j] = np.mean(imaget)\n",
        "    return result\n",
        "    \n",
        "    \n",
        "def min_pooling(convolved_map, size_of_pooling_kernel, stride):\n",
        "    #     result_of_pooling has to have shape = ((input_width - kernel_width) + 2*padding/stride) + 1\n",
        "    result = np.zeros((int((convolved_map.shape[0]-size_of_pooling_kernel)/stride)+1, int((convolved_map.shape[0]-size_of_pooling_kernel)/stride)+1))\n",
        "    for i in range(0, result.shape[0], stride):\n",
        "        for j in range(0, result.shape[1], stride):\n",
        "            imaget = convolved_map[i:size_of_pooling_kernel+i, j:size_of_pooling_kernel+j]\n",
        "            result[i, j] = np.min(imaget)\n",
        "    return result\n",
        "\n",
        "\n",
        "def pooling(convolved_layer, type_of_pooling, size_of_pooling_kernel, stride):\n",
        "    \"\"\"\n",
        "    convolved_layer : is a list that contains each convolved_map from previous_layer\n",
        "    type_of_pooling : should be either 'MAX_POOLING' or 'MEAN_POOLING' or 'MIN_POOLING'\n",
        "    size_of_pooling_kernel : is an integer that represents the shape of kernel \n",
        "                            (if size_of_pooling_kernel=2 then shape_kernel=(2, 2))\n",
        "    this function return a list that contains each pooled_map\n",
        "    \"\"\"\n",
        "    pooled_layer = []\n",
        "    switcher = {\n",
        "        'MAX_POOLING': max_pooling,\n",
        "        'MEAN_POOLING': mean_pooling,\n",
        "        'MIN_POOLING': min_pooling\n",
        "    }\n",
        "    # Get the function from switcher dictionary\n",
        "    pooling_operation = switcher.get(type_of_pooling, lambda: \"Invalid type_of_pooling !\")\n",
        "    # Execute the function\n",
        "    for convolved_map in convolved_layer:\n",
        "        pooled_layer.append(pooling_operation(convolved_map, size_of_pooling_kernel, stride))\n",
        "    return pooled_layer\n",
        "\n",
        "\n",
        "def initialize_filter(filter_width, filter_height):\n",
        "    \"\"\"\n",
        "    cette fonction s'occupe de l'initialisation d'un filtre aléatoirement selon la distribution normale\n",
        "    \"\"\"\n",
        "    return np.random.randn(filter_width, filter_height)\n",
        "\n",
        "\n",
        "# def show_image(img):\n",
        "#     plt.imshow(img, cmap=plt.cm.binary)\n",
        "#     plt.show()\n",
        "    \n",
        "    \n",
        "def show_multiple_images(images, nbr_of_images=5):\n",
        "    for img in images[:nbr_of_images]:\n",
        "        show_image(img)\n",
        "        time.sleep(1)\n",
        "        clear_output(wait=True)\n",
        "        \n",
        "        \n",
        "# def flatten(layer):\n",
        "#     \"\"\"\n",
        "#     #arguments:\n",
        "#     layer : is a list of feature_maps\n",
        "#     #returns : list of all numbers that contained in the feature maps in the layer\n",
        "#     \"\"\"\n",
        "#     result = []\n",
        "#     for matrix in layer:\n",
        "#         result = result + list(matrix.flatten())\n",
        "#     result = np.array(result).reshape((1, len(result)))\n",
        "#     return result\n",
        "\n",
        "# def fully_connected_layer(input_layer, nbr_neurons, activation_function='ReLU'):\n",
        "#     current_layer = []\n",
        "#     input_layer = np.array(input_layer)\n",
        "#     for i in range(nbr_neurons):\n",
        "#         bias = 0\n",
        "#         weights = np.random.randn(len(input_layer), 1)\n",
        "#         current_layer.append(np.max([multiplication(input_layer, weights) + bias, 0]))\n",
        "#     return current_layer\n",
        "\n",
        "\n",
        "# def softmax(data):\n",
        "#     output = []\n",
        "#     for value in data:\n",
        "#         proba_value = np.exp(value)/(np.sum(np.exp(data)))\n",
        "#         output.append(proba_value)\n",
        "#     return output\n",
        "        \n",
        "# def categoricalCrossEntropy(generated_values, target_values):\n",
        "#     somme = 0\n",
        "#     for i in range(len(generated_values)):\n",
        "#         somme = somme + target_values[i] * np.log(generated_values[i])\n",
        "#     return (-1) * somme  \n",
        "\n",
        "#######################################################################################\n",
        "#######  Fully_connected_layer_functions\n",
        "#######################################################################################\n",
        "\n",
        "# def update_weights(dL_dY, weights, inputs, lrate):\n",
        "#     \"\"\"\n",
        "#     arguments :\n",
        "#     dL_dY : un vecteur des dérivées de la couche supérieure par rapport a la couche de sortie Y de dimension n_outputs\n",
        "#     weights : la matrice des poids de dimension (n_inputs x n_outputs)\n",
        "#     inputs : le vecteur de sortie de la couche précedente de dimension n_inputs\n",
        "#     lrate : learning rate (scalar)\n",
        "#     \"\"\"\n",
        "#     dL_dW = []\n",
        "#     for xi in inputs:\n",
        "#         dL_dW = dL_dW + xi * dL_dY\n",
        "#     new_weights = flatten(weights) - lrate * dL_dW\n",
        "#     new_weights = new_weights.reshape(weights.shape)\n",
        "#     return new_weights\n",
        "\n",
        "# def calcul_dL_dX(dL_dY, weights):\n",
        "#     return np.dot(dL_dY, np.transpose(weights))\n",
        "\n",
        "\n",
        "# def fcl(inputs_layer, nbr_neurons, weights, biais, activation_type='ReLU'):\n",
        "#     current_layer = []\n",
        "#     current_layer = flatten(np.dot(inputs_layer, weights) + biais)[0]\n",
        "#     output_layer = activation_function(current_layer, activation_type)\n",
        "#     return output_layer\n",
        "   \n",
        "# def activation_function(layer, type_of_activation='relu'):\n",
        "#     type_of_activation = type_of_activation.lower()\n",
        "#     switcher = {\n",
        "#         'relu': ReLU,\n",
        "#         'tanh': tanh,\n",
        "#         'segmoid': segmoid\n",
        "#     }\n",
        "#     # Get the function from switcher dictionary\n",
        "#     activation_type = switcher.get(type_of_activation, lambda: \"Invalid type_of_activation_function, please choose either 'ReLU' or 'tanh' or 'segmoid' !\")\n",
        "#     return activation_type(layer)\n",
        "    \n",
        "    \n",
        "# def ReLU(layer):\n",
        "#     layer = np.array(layer)\n",
        "#     result = []\n",
        "#     for y in layer:\n",
        "#         result.append(np.max([y, 0]))\n",
        "#     return result\n",
        "\n",
        "# def tanh(layer):\n",
        "#     layer = np.array(layer)\n",
        "#     result = []\n",
        "#     for y in layer:\n",
        "#         r = (np.exp(y)-np.exp(-1*y))/(np.exp(y)+np.exp(-1*y))\n",
        "#         result.append(r)\n",
        "#     return result\n",
        "\n",
        "# def segmoid(layer):\n",
        "#     layer = np.array(layer)\n",
        "#     result = []\n",
        "#     for y in layer:\n",
        "#         r = 1/(1+np.exp(-1*y))\n",
        "#         result.append(r)\n",
        "#     return result\n",
        "\n",
        "def back_error_from_end_to_output_fcl(y_hat, y):\n",
        "    \"\"\"\n",
        "    arguments : y_hat = list des outputs calculés par le forward, et y = list des targets\n",
        "    cette fonction va calculer l'erreur de son origine(end_of_network) jusqu'à le output de fully_connected_layer\n",
        "    soit ce bout de network :\n",
        "    X ---> softmax(X) ---> CCE(y_hat, y) ---> Loss\n",
        "    alors cette fonction va retourner la dérivée de l'erreur Loss par rapport à X\n",
        "    càd elle return dL_dX\n",
        "    \"\"\"\n",
        "    return y_hat - y\n",
        "\n",
        "\n",
        "def unflatten(vector, pooled_layer):\n",
        "    pooled_layer = np.array(pooled_layer)\n",
        "    vector = vector.reshape(pooled_layer.shape)\n",
        "    return vector\n",
        "        \n",
        "        "
      ],
      "execution_count": 4,
      "outputs": []
    },
    {
      "cell_type": "markdown",
      "metadata": {
        "id": "_JGBU6bUeWwd"
      },
      "source": [
        "# Fully Connected Layer Operations"
      ]
    },
    {
      "cell_type": "code",
      "metadata": {
        "id": "Lin2XPzwsy7J"
      },
      "source": [
        "def activation_function(layer, type_of_activation='relu'):\n",
        "    type_of_activation = type_of_activation.lower()\n",
        "    switcher = {\n",
        "        'relu': ReLU,\n",
        "        'tanh': tanh,\n",
        "        'segmoid': segmoid\n",
        "    }\n",
        "    # Get the function from switcher dictionary\n",
        "    activation_type = switcher.get(type_of_activation, lambda: \"Invalid type_of_activation_function, please choose either 'ReLU' or 'tanh' or 'segmoid' !\")\n",
        "    return activation_type(layer)\n",
        "    \n",
        "\n",
        "def ReLU(layer):\n",
        "    return layer * (layer > 0)\n",
        "\n",
        "\n",
        "def d_ReLU(layer):\n",
        "    return 1. * (layer > 0)\n",
        "\n",
        "\n",
        "def tanh(layer):\n",
        "    r = (np.exp(layer)-np.exp(-1*layer))/(np.exp(layer)+np.exp(-1*layer))   \n",
        "    return np.array(r)\n",
        "\n",
        "\n",
        "def d_tanh(layer):\n",
        "    return 1 - tanh(layer) * tanh(layer)\n",
        "\n",
        "\n",
        "def segmoid(layer):\n",
        "    return np.array(1/(1+np.exp(-1*layer)))\n",
        "\n",
        "\n",
        "def d_segmoid(vector):\n",
        "    \"\"\"\n",
        "    cette fontion prend un vector en entrée et retourne la dérivée de segmoid par rapport a ce vector\n",
        "    \"\"\"\n",
        "    return segmoid(vector) * (1 - segmoid(vector))\n",
        "\n",
        "\n",
        "def softmax(data):\n",
        "    proba_values = np.exp(data)/(np.sum(np.exp(data)))   \n",
        "    return np.array(proba_values)\n",
        "\n",
        "\n",
        "def categoricalCrossEntropy(generated_values, target_values):\n",
        "    somme = 0\n",
        "    for i in range(len(generated_values)):\n",
        "        somme = somme + target_values[i] * np.log(generated_values[i])\n",
        "    return (-1) * somme \n",
        "\n",
        "\n",
        "def normelize(img):\n",
        "    return img/255\n",
        "\n",
        "\n",
        "def flatten(img):\n",
        "    img = np.array(img) \n",
        "    return img.flatten()\n",
        "\n",
        "\n",
        "def show_image(img):\n",
        "    plt.imshow(img, cmap=plt.cm.binary)\n",
        "    plt.show()\n",
        "    \n",
        "\n",
        "def init_params(my_network):\n",
        "    nbr_layers = len(my_network) - 1\n",
        "    W, B = [], []\n",
        "    for i in range(nbr_layers):\n",
        "        W.append(np.random.randn(my_network[i+1], my_network[i]))\n",
        "        B.append(np.random.randn(my_network[i+1], 1))\n",
        "    return W, B\n",
        "\n",
        "\n",
        "def forward_pass(img, W, B):\n",
        "    \"\"\"\n",
        "    here we will use this notation :\n",
        "    Z[i] = W[i].X + B[i]\n",
        "    A[i] = activation_function(Z[i])\n",
        "    Z is a list that carries all the output of each layer\n",
        "    A is a list that carries all the output of each activation function\n",
        "    \"\"\"\n",
        "    act_functions = activation_functions_fcl[1:-1] # we omit the first element and the last one because the first activation will be None, and the last one will always be 'softmax'\n",
        "    act_functions = [type_of_activation.lower() for type_of_activation in act_functions] # lawercase all the items\n",
        "    switcher = {\n",
        "        'relu': ReLU,\n",
        "        'tanh': tanh,\n",
        "        'segmoid': segmoid\n",
        "    }\n",
        "    # Get the function from switcher dictionary\n",
        "    activation_types = [switcher.get(type_of_activation, lambda: \"Invalid type_of_activation_function\") for type_of_activation in act_functions]\n",
        "    Z, A = [], [img]\n",
        "    for i in range(len(W)):\n",
        "        if i == len(W)-1: # we have to use softmax as activation layer because we're in the last layer\n",
        "            Z.append(np.dot(W[i], A[i]) + B[i])\n",
        "            A.append(softmax(Z[i]))\n",
        "        else: # we're in hidden layer\n",
        "            Z.append(np.dot(W[i], A[i]) + B[i])\n",
        "            A.append(activation_types[i](Z[i]))\n",
        "    return Z, A\n",
        "\n",
        "\n",
        "def one_hot(y):\n",
        "    return np.eye(10)[y].reshape(10, 1)\n",
        "\n",
        "\n",
        "def update_W_and_B(W, dL_dW, B, dL_dB, lr):\n",
        "    \"\"\"\n",
        "    this function update the weights and Biais of myNetwork\n",
        "    arguments : \n",
        "    - W : it is a list that contains each Weight vector ([W1, W2, ...])\n",
        "    - dL_dW : derivatives of loss with respect to Weights (it is a list that contains Weights derivatives vectors [dL_dW1, dL_dW2, ...])\n",
        "    - B : it is a list that contains each Biais vector ([B1, B2, ...])\n",
        "    - dL_dB : derivatives of loss with respect to Biais (it is a list that contains Biais derivatives vectors [dL_dB1, dL_dB2, ...])\n",
        "    - lr : learning rate (real number)\n",
        "    \"\"\"\n",
        "    new_W = []\n",
        "    new_B = []\n",
        "    for w, dw in zip(W, dL_dW):\n",
        "        w = w - lr * dw\n",
        "        new_W.append(w)\n",
        "    for b, db in zip(B, dL_dB):\n",
        "        b = b - lr * db\n",
        "        new_B.append(b)\n",
        "    return new_W, new_B\n",
        "\n",
        "\n",
        "def compute_accuracy(x_val, y_val, W, B):\n",
        "    '''\n",
        "        This function does a forward pass of x_validation, then checks if the indices\n",
        "        of the maximum value in the output equals the indices in the label\n",
        "        y. Then it sums over each prediction and calculates the accuracy.\n",
        "    '''\n",
        "    predictions = []\n",
        "\n",
        "    for x, y in zip(x_val, y_val):\n",
        "        # prepare the input image\n",
        "        X = flatten(x)\n",
        "        X = X.reshape(len(X), 1)\n",
        "        Y = one_hot(y)\n",
        "        # forward-propagation\n",
        "        Z, A = forward_pass(X, W, B)\n",
        "        output = A[-1]\n",
        "        pred = np.argmax(output)\n",
        "        predictions.append(pred == np.argmax(Y))\n",
        "\n",
        "    return np.mean(predictions)\n",
        "\n",
        "\n",
        "def classify(img, W, B):\n",
        "    \"\"\"\n",
        "    cette fonction recois une seule image en parametre\n",
        "    et elle reçois les poids W et les Biais B et la liste des fonctions d'activations\n",
        "    et elle retourne la catégorie de l'image en entier 0..9\n",
        "    \"\"\"\n",
        "    predictions = []\n",
        "    X = flatten(img)\n",
        "    X = X.reshape(len(X), 1)\n",
        "    # forward-propagation\n",
        "    Z, A = forward_pass(X, W, B)\n",
        "    output = A[-1]\n",
        "    pred = np.argmax(output)\n",
        "    return pred\n",
        "\n",
        "\n",
        "def show_accuracies(train_images, train_labels, val_images, val_labels, test_images, test_labels, W, B):\n",
        "    \"\"\"\n",
        "    this function compute accuracy for each train-set, validation-set, and test-set\n",
        "    then print them all.\n",
        "    arguments : train_images, train_labels, val_images, val_labels, test_images, test_labels, W, B\n",
        "    \"\"\"\n",
        "    train_accuracy = compute_accuracy(train_images, train_labels, W, B)\n",
        "    val_accuracy = compute_accuracy(val_images, val_labels, W, B)\n",
        "    test_accuracy = compute_accuracy(test_images, test_labels, W, B)\n",
        "    print(\"Accuracies :\\n\\\n",
        "    - train accuracy = {} %\\n\\\n",
        "    - val accuracy = {} %\\n\\\n",
        "    - test accuracy = {} %\".format(train_accuracy*100, val_accuracy*100, test_accuracy*100))\n",
        "\n",
        "\n",
        "def backpro_pass(dL_dZ, A, Z, W, indice, indx_act_func):\n",
        "    # we omit the first element and the last one because the first activation will be None, and the last one will always be 'softmax'\n",
        "    act_functions = activation_functions[1:-1] \n",
        "    # lawercase all the items\n",
        "    act_functions = [type_of_activation.lower() for type_of_activation in act_functions] \n",
        "    switcher = {\n",
        "        'relu': d_ReLU,\n",
        "        'tanh': d_tanh,\n",
        "        'segmoid': d_segmoid\n",
        "    }\n",
        "    # Get the function from switcher dictionary\n",
        "    activation_types = [switcher.get(type_of_activation, lambda: \"Invalid type_of_activation_function\") for type_of_activation in act_functions]\n",
        "    \n",
        "    dl_dw = np.dot(dL_dZ, np.transpose(A[indice]))\n",
        "    dl_db = dL_dZ\n",
        "    dl_dz = 0\n",
        "    if indice*(-1) != len(Z)+1:\n",
        "      dl_da = np.dot(np.transpose(W[indice+1]), dL_dZ)\n",
        "      da_dz = activation_types[indx_act_func](Z[indice])\n",
        "      dl_dz = dl_da * da_dz\n",
        "    return dl_dw, dl_db, dl_dz"
      ],
      "execution_count": 21,
      "outputs": []
    },
    {
      "cell_type": "markdown",
      "metadata": {
        "id": "hx6wKd0xuzaj"
      },
      "source": [
        "# Here we will upload the dataset and normelize it then shuffle it then split it"
      ]
    },
    {
      "cell_type": "code",
      "metadata": {
        "id": "YJQfMoEksy91"
      },
      "source": [
        "images_path = '/content/drive/MyDrive/Colab Notebooks/mnist_data/train-images.idx3-ubyte'\n",
        "labels_path = '/content/drive/MyDrive/Colab Notebooks/mnist_data/train-labels.idx1-ubyte'\n",
        "test_images_path = '/content/drive/MyDrive/Colab Notebooks/mnist_data/test-images.idx3-ubyte'\n",
        "test_labels_path = '/content/drive/MyDrive/Colab Notebooks/mnist_data/test-labels.idx1-ubyte'\n",
        "test_images, test_labels = loadlocal_mnist(test_images_path, test_labels_path)\n",
        "train_images, train_labels = loadlocal_mnist(images_path, labels_path)\n",
        "\n",
        "# group all the images in one list\n",
        "# then normelize all the images\n",
        "images = np.concatenate([train_images, test_images])\n",
        "labels = np.concatenate([train_labels, test_labels])\n",
        "images = normelize(images)\n",
        "\n",
        "# shuffle all the images and all labels randomly\n",
        "random.seed(12)\n",
        "indices = np.arange(len(labels))\n",
        "np.random.shuffle(indices)\n",
        "labels = labels[indices]\n",
        "images = images[indices]\n",
        "\n",
        "# change shape of the images\n",
        "images = images.reshape(len(images), 28, 28)\n",
        "\n",
        "# split the data into train, validation and test \n",
        "train_images, val_images, test_images = images[:60000], images[60000:65000], images[65000:]\n",
        "train_labels, val_labels, test_labels = labels[:60000], labels[60000:65000], labels[65000:]"
      ],
      "execution_count": 22,
      "outputs": []
    },
    {
      "cell_type": "markdown",
      "metadata": {
        "id": "k3BP2WmGnLq7"
      },
      "source": [
        "# Learning  ------>  GO FOR LAUNCH !"
      ]
    },
    {
      "cell_type": "code",
      "metadata": {
        "id": "AFh0nVttXh36"
      },
      "source": [
        "def input_layer(dict):\n",
        "  dict['type_of_layer'] = 'input'\n",
        "  return dict\n",
        "\n",
        "def convolution_layer(dict):\n",
        "  dict['type_of_layer'] = 'convolution'\n",
        "  return dict\n",
        "\n",
        "def pooling_layer(dict):\n",
        "  dict['type_of_layer'] = 'pooling'\n",
        "  return dict\n",
        "\n",
        "def flatten_layer():\n",
        "  dict = {'type_of_layer': 'flatten'}\n",
        "  return dict\n",
        "\n",
        "def fcl(dict):\n",
        "  dict['type_of_layer'] = 'fcl'\n",
        "  return dict"
      ],
      "execution_count": 25,
      "outputs": []
    },
    {
      "cell_type": "code",
      "metadata": {
        "colab": {
          "base_uri": "https://localhost:8080/"
        },
        "id": "-ltquYZzS18U",
        "outputId": "15d1e5c9-1d15-4d7f-d788-783dde72b6f6"
      },
      "source": [
        "numbers_of_epochs = 5\n",
        "my_cnn = [input_layer({\n",
        "              'width_image': 28,\n",
        "              'height_image': 28,\n",
        "              'nbr_channels': 1   # 1 --> means gray scale, and 3 --> means rgb\n",
        "              }\n",
        "          ),\n",
        "          convolution_layer({\n",
        "              'nbr_of_kernels':6, \n",
        "              'kernel_size':5, \n",
        "              'padding':0, \n",
        "              'stride':1, \n",
        "              'type_of_activation_function':'relu'\n",
        "              }\n",
        "          ), \n",
        "          pooling_layer({\n",
        "              'type_of_pooling' : 'MAX_POOLING',\n",
        "              'kernel_size' : 5,\n",
        "              'stride' : 2\n",
        "              } \n",
        "          ),\n",
        "          # convolution_layer({\n",
        "          #     'nbr_of_kernels':6, \n",
        "          #     'kernel_size':5, \n",
        "          #     'padding':0, \n",
        "          #     'stride':1, \n",
        "          #     'type_of_activation_function':'relu'\n",
        "          #     }\n",
        "          # ), \n",
        "          # pooling_layer({\n",
        "          #     'type_of_pooling' : 'MAX_POOLING',\n",
        "          #     'kernel_size' : 5,\n",
        "          #     'stride' : 2\n",
        "          #     } \n",
        "          # ),\n",
        "          flatten_layer(),\n",
        "          fcl({\n",
        "              'network' : [20, 10], # 20 neurons in hidden layer, and 10 neurons in output layer\n",
        "              'act_functions' : [None, 'tanh', 'softmax'], # 'tanh' will be the activation function in the hidden layer, and 'softmax' in the last layer\n",
        "              'learning_rate' : 0.01\n",
        "                }\n",
        "          )\n",
        "          ]\n",
        "my_cnn"
      ],
      "execution_count": 65,
      "outputs": [
        {
          "output_type": "execute_result",
          "data": {
            "text/plain": [
              "[{'height_image': 28,\n",
              "  'nbr_channels': 1,\n",
              "  'type_of_layer': 'input',\n",
              "  'width_image': 28},\n",
              " {'kernel_size': 5,\n",
              "  'nbr_of_kernels': 6,\n",
              "  'padding': 0,\n",
              "  'stride': 1,\n",
              "  'type_of_activation_function': 'relu',\n",
              "  'type_of_layer': 'convolution'},\n",
              " {'kernel_size': 5,\n",
              "  'stride': 2,\n",
              "  'type_of_layer': 'pooling',\n",
              "  'type_of_pooling': 'MAX_POOLING'},\n",
              " {'type_of_layer': 'flatten'},\n",
              " {'act_functions': [None, 'tanh', 'softmax'],\n",
              "  'learning_rate': 0.01,\n",
              "  'network': [20, 10],\n",
              "  'type_of_layer': 'fcl'}]"
            ]
          },
          "metadata": {
            "tags": []
          },
          "execution_count": 65
        }
      ]
    },
    {
      "cell_type": "code",
      "metadata": {
        "colab": {
          "base_uri": "https://localhost:8080/",
          "height": 782
        },
        "id": "0xsSJJBTVqrp",
        "outputId": "9dd1d8ee-eca3-49a3-e107-959d2149573e"
      },
      "source": [
        "W, B = [], []\n",
        "activation_functions = []\n",
        "for layer in my_cnn:\n",
        "  if layer['type_of_layer'] == 'fcl':\n",
        "    activation_functions_fcl = layer['act_functions']\n",
        "    break\n",
        "losses = []\n",
        "for epoch in range(numbers_of_epochs):\n",
        "  epoch_losses = []\n",
        "  start_epoch_time = time.time()\n",
        "  for i in range(len(train_labels[:1000])):\n",
        "    if i%100 == 0:\n",
        "      print('image -----> ', i)\n",
        "    img = np.array(train_images[i])\n",
        "    Y = one_hot(train_labels[i])\n",
        "    Z = []  # Z est une list qui contient chaque resultat d'une operation comme 'convolution', 'pooling', ..etc ---> avant d'appliquer l'activation \n",
        "    A = []  # A est une list qui contient chaque resultat final de chaque couche en ordre A=[input, convolved_layer, ...., output_layer_fcl] ---> A[couche] = act_funct(Z[couche])\n",
        "    for layer in my_cnn:\n",
        "\n",
        "      if layer['type_of_layer'] in ['input']:\n",
        "        # print('i have to add None to my weights and Biais because we are in the input layer')\n",
        "        W.append(None)\n",
        "        B.append(None)\n",
        "        A.append([img])\n",
        "      elif layer['type_of_layer'] in ['convolution']:\n",
        "        # print('i have to initialize weight and biais then add them to W')\n",
        "        # filters = [initialize_filter(layer['kernel_size'], layer['kernel_size']) for i in range(layer['nbr_of_kernels'])]\n",
        "        # biais = initialize_filter(layer['nbr_of_kernels'], 1)\n",
        "\n",
        "        convolved_layer, filters, biais = get_convolved_layer_from_previous_layer([img], layer['nbr_of_kernels'], layer['kernel_size'])\n",
        "        W.append(filters)\n",
        "        B.append(biais)\n",
        "        A.append(convolved_layer)\n",
        "\n",
        "      elif layer['type_of_layer'] in ['pooling']:\n",
        "        # print('i add None to the W because there is no Weights neither Biais in this layer')\n",
        "        W.append(None)\n",
        "        B.append(None)\n",
        "        pooled_layer = pooling(A[-1], layer['type_of_pooling'], layer['kernel_size'], layer['stride'])\n",
        "        A.append(pooled_layer)\n",
        "      elif layer['type_of_layer'] in ['flatten']:\n",
        "        # print('i add None to the W because there is no Weights neither Biais in this layer')\n",
        "        W.append(None)\n",
        "        B.append(None)\n",
        "        A.append(flatten(A[-1]))\n",
        "      elif layer['type_of_layer'] in ['fcl']:\n",
        "        # print('i have to retreive the architecture of the fcl then initialize W and B')\n",
        "        my_network_fcl = [len(A[-1])] + layer['network']  # we add the number of neurons of the fcl's input layer\n",
        "        W_fcl, B_fcl = init_params(my_network_fcl)\n",
        "        for w_fcl, b_fcl in zip(W_fcl, B_fcl):\n",
        "          W.append(w_fcl)\n",
        "          B.append(b_fcl)\n",
        "\n",
        "        # prepare the input image\n",
        "        X = flatten(A[-1]).reshape(len(A[-1]), 1)\n",
        "    \n",
        "        # forward-propagation\n",
        "        Z_fcl, A_fcl = forward_pass(X, W_fcl, B_fcl)\n",
        "        for z_fcl in Z_fcl:\n",
        "          Z.append(z_fcl)\n",
        "        loss = categoricalCrossEntropy(A_fcl[-1], Y)\n",
        "        A[-1] = X\n",
        "        for a_fcl in A_fcl[1:]:\n",
        "          A.append(a_fcl)\n",
        "        epoch_losses.append(loss)\n",
        "      else:\n",
        "        print('you certainly made an error in your configuration of network')\n",
        "    # print(mean(losses))\n",
        "  # Test my model at epoch = gama    \n",
        "    # if (epoch % 5 == 0):\n",
        "        # accuracy = compute_accuracy(val_images, val_labels, W, B)\n",
        "        # accuracies.append(accuracy)\n",
        "        # print('---------------------------------------------------------------------------> Accuracy : ',accuracies[-1])\n",
        "\n",
        "  print('epoch ',epoch,' -------> loss : ',np.array(epoch_losses).mean(), ' | time : ',(time.time() - start_epoch_time))\n",
        "  losses.append(np.array(epoch_losses).mean())\n"
      ],
      "execution_count": 67,
      "outputs": [
        {
          "output_type": "stream",
          "text": [
            "image ----->  0\n",
            "image ----->  100\n",
            "image ----->  200\n",
            "image ----->  300\n",
            "image ----->  400\n",
            "image ----->  500\n",
            "image ----->  600\n",
            "image ----->  700\n",
            "image ----->  800\n",
            "image ----->  900\n",
            "epoch  0  -------> loss :  7.2127309904294234  | time :  137.6916446685791\n",
            "image ----->  0\n",
            "image ----->  100\n",
            "image ----->  200\n",
            "image ----->  300\n",
            "image ----->  400\n",
            "image ----->  500\n",
            "image ----->  600\n",
            "image ----->  700\n",
            "image ----->  800\n",
            "image ----->  900\n",
            "epoch  1  -------> loss :  7.450973238334995  | time :  137.17038011550903\n",
            "image ----->  0\n",
            "image ----->  100\n"
          ],
          "name": "stdout"
        },
        {
          "output_type": "error",
          "ename": "KeyboardInterrupt",
          "evalue": "ignored",
          "traceback": [
            "\u001b[0;31m---------------------------------------------------------------------------\u001b[0m",
            "\u001b[0;31mKeyboardInterrupt\u001b[0m                         Traceback (most recent call last)",
            "\u001b[0;32m<ipython-input-67-d342fbad458e>\u001b[0m in \u001b[0;36m<module>\u001b[0;34m()\u001b[0m\n\u001b[1;32m     28\u001b[0m         \u001b[0;31m# biais = initialize_filter(layer['nbr_of_kernels'], 1)\u001b[0m\u001b[0;34m\u001b[0m\u001b[0;34m\u001b[0m\u001b[0;34m\u001b[0m\u001b[0m\n\u001b[1;32m     29\u001b[0m \u001b[0;34m\u001b[0m\u001b[0m\n\u001b[0;32m---> 30\u001b[0;31m         \u001b[0mconvolved_layer\u001b[0m\u001b[0;34m,\u001b[0m \u001b[0mfilters\u001b[0m\u001b[0;34m,\u001b[0m \u001b[0mbiais\u001b[0m \u001b[0;34m=\u001b[0m \u001b[0mget_convolved_layer_from_previous_layer\u001b[0m\u001b[0;34m(\u001b[0m\u001b[0;34m[\u001b[0m\u001b[0mimg\u001b[0m\u001b[0;34m]\u001b[0m\u001b[0;34m,\u001b[0m \u001b[0mlayer\u001b[0m\u001b[0;34m[\u001b[0m\u001b[0;34m'nbr_of_kernels'\u001b[0m\u001b[0;34m]\u001b[0m\u001b[0;34m,\u001b[0m \u001b[0mlayer\u001b[0m\u001b[0;34m[\u001b[0m\u001b[0;34m'kernel_size'\u001b[0m\u001b[0;34m]\u001b[0m\u001b[0;34m)\u001b[0m\u001b[0;34m\u001b[0m\u001b[0;34m\u001b[0m\u001b[0m\n\u001b[0m\u001b[1;32m     31\u001b[0m         \u001b[0mW\u001b[0m\u001b[0;34m.\u001b[0m\u001b[0mappend\u001b[0m\u001b[0;34m(\u001b[0m\u001b[0mfilters\u001b[0m\u001b[0;34m)\u001b[0m\u001b[0;34m\u001b[0m\u001b[0;34m\u001b[0m\u001b[0m\n\u001b[1;32m     32\u001b[0m         \u001b[0mB\u001b[0m\u001b[0;34m.\u001b[0m\u001b[0mappend\u001b[0m\u001b[0;34m(\u001b[0m\u001b[0mbiais\u001b[0m\u001b[0;34m)\u001b[0m\u001b[0;34m\u001b[0m\u001b[0;34m\u001b[0m\u001b[0m\n",
            "\u001b[0;32m<ipython-input-4-0f8e6cb910ed>\u001b[0m in \u001b[0;36mget_convolved_layer_from_previous_layer\u001b[0;34m(previous_layer, nbr_filter, size_filter)\u001b[0m\n\u001b[1;32m     45\u001b[0m         \u001b[0mbias\u001b[0m \u001b[0;34m=\u001b[0m \u001b[0;36m0\u001b[0m\u001b[0;34m\u001b[0m\u001b[0;34m\u001b[0m\u001b[0m\n\u001b[1;32m     46\u001b[0m         \u001b[0;32mfor\u001b[0m \u001b[0mfeature_map\u001b[0m \u001b[0;32min\u001b[0m \u001b[0mprevious_layer\u001b[0m\u001b[0;34m:\u001b[0m\u001b[0;34m\u001b[0m\u001b[0;34m\u001b[0m\u001b[0m\n\u001b[0;32m---> 47\u001b[0;31m             \u001b[0msomme\u001b[0m \u001b[0;34m=\u001b[0m \u001b[0msomme\u001b[0m \u001b[0;34m+\u001b[0m \u001b[0mconvolution\u001b[0m\u001b[0;34m(\u001b[0m\u001b[0mfeature_map\u001b[0m\u001b[0;34m,\u001b[0m \u001b[0mf\u001b[0m\u001b[0;34m)\u001b[0m\u001b[0;34m\u001b[0m\u001b[0;34m\u001b[0m\u001b[0m\n\u001b[0m\u001b[1;32m     48\u001b[0m         \u001b[0msomme\u001b[0m \u001b[0;34m=\u001b[0m \u001b[0msomme\u001b[0m \u001b[0;34m+\u001b[0m \u001b[0mbias\u001b[0m\u001b[0;34m\u001b[0m\u001b[0;34m\u001b[0m\u001b[0m\n\u001b[1;32m     49\u001b[0m         \u001b[0mconvolved_layer\u001b[0m\u001b[0;34m.\u001b[0m\u001b[0mappend\u001b[0m\u001b[0;34m(\u001b[0m\u001b[0mReLU_convolution\u001b[0m\u001b[0;34m(\u001b[0m\u001b[0msomme\u001b[0m\u001b[0;34m)\u001b[0m\u001b[0;34m)\u001b[0m\u001b[0;34m\u001b[0m\u001b[0;34m\u001b[0m\u001b[0m\n",
            "\u001b[0;32m<ipython-input-4-0f8e6cb910ed>\u001b[0m in \u001b[0;36mconvolution\u001b[0;34m(img, f)\u001b[0m\n\u001b[1;32m     15\u001b[0m         \u001b[0;32mfor\u001b[0m \u001b[0mj\u001b[0m \u001b[0;32min\u001b[0m \u001b[0mrange\u001b[0m\u001b[0;34m(\u001b[0m\u001b[0mresult\u001b[0m\u001b[0;34m.\u001b[0m\u001b[0mshape\u001b[0m\u001b[0;34m[\u001b[0m\u001b[0;36m1\u001b[0m\u001b[0;34m]\u001b[0m\u001b[0;34m)\u001b[0m\u001b[0;34m:\u001b[0m\u001b[0;34m\u001b[0m\u001b[0;34m\u001b[0m\u001b[0m\n\u001b[1;32m     16\u001b[0m             \u001b[0mimaget\u001b[0m \u001b[0;34m=\u001b[0m \u001b[0mimg\u001b[0m\u001b[0;34m[\u001b[0m\u001b[0mi\u001b[0m\u001b[0;34m:\u001b[0m\u001b[0mf\u001b[0m\u001b[0;34m.\u001b[0m\u001b[0mshape\u001b[0m\u001b[0;34m[\u001b[0m\u001b[0;36m0\u001b[0m\u001b[0;34m]\u001b[0m\u001b[0;34m+\u001b[0m\u001b[0mi\u001b[0m\u001b[0;34m,\u001b[0m \u001b[0mj\u001b[0m\u001b[0;34m:\u001b[0m\u001b[0mf\u001b[0m\u001b[0;34m.\u001b[0m\u001b[0mshape\u001b[0m\u001b[0;34m[\u001b[0m\u001b[0;36m1\u001b[0m\u001b[0;34m]\u001b[0m\u001b[0;34m+\u001b[0m\u001b[0mj\u001b[0m\u001b[0;34m]\u001b[0m\u001b[0;34m\u001b[0m\u001b[0;34m\u001b[0m\u001b[0m\n\u001b[0;32m---> 17\u001b[0;31m             \u001b[0mmulti\u001b[0m \u001b[0;34m=\u001b[0m \u001b[0mmultiplication\u001b[0m\u001b[0;34m(\u001b[0m\u001b[0mimaget\u001b[0m\u001b[0;34m,\u001b[0m \u001b[0mf\u001b[0m\u001b[0;34m)\u001b[0m\u001b[0;34m\u001b[0m\u001b[0;34m\u001b[0m\u001b[0m\n\u001b[0m\u001b[1;32m     18\u001b[0m             \u001b[0mresult\u001b[0m\u001b[0;34m[\u001b[0m\u001b[0mi\u001b[0m\u001b[0;34m,\u001b[0m \u001b[0mj\u001b[0m\u001b[0;34m]\u001b[0m \u001b[0;34m=\u001b[0m \u001b[0mmulti\u001b[0m\u001b[0;34m\u001b[0m\u001b[0;34m\u001b[0m\u001b[0m\n\u001b[1;32m     19\u001b[0m     \u001b[0;32mreturn\u001b[0m \u001b[0mresult\u001b[0m\u001b[0;34m\u001b[0m\u001b[0;34m\u001b[0m\u001b[0m\n",
            "\u001b[0;32m<ipython-input-4-0f8e6cb910ed>\u001b[0m in \u001b[0;36mmultiplication\u001b[0;34m(imaget, f)\u001b[0m\n\u001b[0;32m----> 1\u001b[0;31m \u001b[0;32mdef\u001b[0m \u001b[0mmultiplication\u001b[0m\u001b[0;34m(\u001b[0m\u001b[0mimaget\u001b[0m\u001b[0;34m,\u001b[0m \u001b[0mf\u001b[0m\u001b[0;34m)\u001b[0m\u001b[0;34m:\u001b[0m\u001b[0;34m\u001b[0m\u001b[0;34m\u001b[0m\u001b[0m\n\u001b[0m\u001b[1;32m      2\u001b[0m     \u001b[0;32mif\u001b[0m \u001b[0mlen\u001b[0m\u001b[0;34m(\u001b[0m\u001b[0mimaget\u001b[0m\u001b[0;34m.\u001b[0m\u001b[0mshape\u001b[0m\u001b[0;34m)\u001b[0m \u001b[0;34m==\u001b[0m \u001b[0;36m1\u001b[0m \u001b[0;34m:\u001b[0m\u001b[0;34m\u001b[0m\u001b[0;34m\u001b[0m\u001b[0m\n\u001b[1;32m      3\u001b[0m         \u001b[0mimaget\u001b[0m \u001b[0;34m=\u001b[0m \u001b[0mimaget\u001b[0m\u001b[0;34m.\u001b[0m\u001b[0mreshape\u001b[0m\u001b[0;34m(\u001b[0m\u001b[0;34m(\u001b[0m\u001b[0mimaget\u001b[0m\u001b[0;34m.\u001b[0m\u001b[0mshape\u001b[0m\u001b[0;34m[\u001b[0m\u001b[0;36m0\u001b[0m\u001b[0;34m]\u001b[0m\u001b[0;34m,\u001b[0m \u001b[0;36m1\u001b[0m\u001b[0;34m)\u001b[0m\u001b[0;34m)\u001b[0m\u001b[0;34m\u001b[0m\u001b[0;34m\u001b[0m\u001b[0m\n\u001b[1;32m      4\u001b[0m     \u001b[0mresult\u001b[0m \u001b[0;34m=\u001b[0m \u001b[0mimaget\u001b[0m \u001b[0;34m*\u001b[0m \u001b[0mf\u001b[0m\u001b[0;34m\u001b[0m\u001b[0;34m\u001b[0m\u001b[0m\n\u001b[1;32m      5\u001b[0m     \u001b[0msomme\u001b[0m \u001b[0;34m=\u001b[0m \u001b[0;36m0\u001b[0m\u001b[0;34m\u001b[0m\u001b[0;34m\u001b[0m\u001b[0m\n",
            "\u001b[0;31mKeyboardInterrupt\u001b[0m: "
          ]
        }
      ]
    },
    {
      "cell_type": "code",
      "metadata": {
        "id": "UTrefR2JcCJ9"
      },
      "source": [
        ""
      ],
      "execution_count": null,
      "outputs": []
    },
    {
      "cell_type": "code",
      "metadata": {
        "id": "KeKni3_lcCNO"
      },
      "source": [
        ""
      ],
      "execution_count": null,
      "outputs": []
    },
    {
      "cell_type": "code",
      "metadata": {
        "id": "s04FR8QfcCQG"
      },
      "source": [
        ""
      ],
      "execution_count": null,
      "outputs": []
    },
    {
      "cell_type": "code",
      "metadata": {
        "id": "_fs-PRl5cCSi"
      },
      "source": [
        ""
      ],
      "execution_count": null,
      "outputs": []
    },
    {
      "cell_type": "code",
      "metadata": {
        "id": "5LcSNc8EcCXI"
      },
      "source": [
        ""
      ],
      "execution_count": null,
      "outputs": []
    },
    {
      "cell_type": "code",
      "metadata": {
        "id": "nofPg2oxcCZC"
      },
      "source": [
        ""
      ],
      "execution_count": null,
      "outputs": []
    },
    {
      "cell_type": "code",
      "metadata": {
        "id": "Bl5nWrnucCbG"
      },
      "source": [
        ""
      ],
      "execution_count": null,
      "outputs": []
    },
    {
      "cell_type": "code",
      "metadata": {
        "id": "fY_PuOYDcCeH"
      },
      "source": [
        ""
      ],
      "execution_count": null,
      "outputs": []
    },
    {
      "cell_type": "code",
      "metadata": {
        "id": "_4VsQ2TzcCg0"
      },
      "source": [
        ""
      ],
      "execution_count": null,
      "outputs": []
    },
    {
      "cell_type": "code",
      "metadata": {
        "id": "WZu76H9ScCj7"
      },
      "source": [
        ""
      ],
      "execution_count": null,
      "outputs": []
    },
    {
      "cell_type": "code",
      "metadata": {
        "id": "sVx3rGJkcCme"
      },
      "source": [
        ""
      ],
      "execution_count": null,
      "outputs": []
    },
    {
      "cell_type": "code",
      "metadata": {
        "id": "N-R5hKErcCpM"
      },
      "source": [
        ""
      ],
      "execution_count": null,
      "outputs": []
    },
    {
      "cell_type": "markdown",
      "metadata": {
        "id": "BUCoLBDIVrYN"
      },
      "source": [
        "# Brouillon"
      ]
    },
    {
      "cell_type": "code",
      "metadata": {
        "id": "9rJx_eZnS2FY"
      },
      "source": [
        ""
      ],
      "execution_count": null,
      "outputs": []
    },
    {
      "cell_type": "code",
      "metadata": {
        "id": "lFiBI3I2S2IW"
      },
      "source": [
        ""
      ],
      "execution_count": null,
      "outputs": []
    },
    {
      "cell_type": "code",
      "metadata": {
        "colab": {
          "base_uri": "https://localhost:8080/",
          "height": 129
        },
        "id": "SMf_9TuChFLQ",
        "outputId": "ed4077bd-eeef-45cb-e227-ea462a5bb256"
      },
      "source": [
        "my_list = [a = 2, b = {'h' : 5}]"
      ],
      "execution_count": null,
      "outputs": [
        {
          "output_type": "error",
          "ename": "SyntaxError",
          "evalue": "ignored",
          "traceback": [
            "\u001b[0;36m  File \u001b[0;32m\"<ipython-input-1-7cd7b23e7d98>\"\u001b[0;36m, line \u001b[0;32m1\u001b[0m\n\u001b[0;31m    my_list = [a = 2, b = {'h' : 5}]\u001b[0m\n\u001b[0m                 ^\u001b[0m\n\u001b[0;31mSyntaxError\u001b[0m\u001b[0;31m:\u001b[0m invalid syntax\n"
          ]
        }
      ]
    },
    {
      "cell_type": "code",
      "metadata": {
        "colab": {
          "base_uri": "https://localhost:8080/"
        },
        "id": "9B399YOgfNwU",
        "outputId": "9a9368d2-dba9-4d28-d19d-a257c254c35c"
      },
      "source": [
        "convolution1 = {\n",
        "    'caracteristics' : {\n",
        "        'kernel_size' : 5,\n",
        "        'nbr_of_kernels' : 6,\n",
        "        'padding' : 0,\n",
        "        'stride' : 1\n",
        "    },\n",
        "    'weights' : {\n",
        "        'type_of_init' : 'NORMAL_DISTRIBUTION',\n",
        "        'W' : np.zeros((2,2))\n",
        "    }\n",
        "}\n",
        "convolution1"
      ],
      "execution_count": null,
      "outputs": [
        {
          "output_type": "execute_result",
          "data": {
            "text/plain": [
              "{'caracteristics': {'kernel_size': 5,\n",
              "  'nbr_of_kernels': 6,\n",
              "  'padding': 0,\n",
              "  'stride': 1},\n",
              " 'weights': {'W': array([[0., 0.],\n",
              "         [0., 0.]]), 'type_of_init': 'NORMAL_DISTRIBUTION'}}"
            ]
          },
          "metadata": {
            "tags": []
          },
          "execution_count": 38
        }
      ]
    },
    {
      "cell_type": "code",
      "metadata": {
        "id": "bQHgZX9bfN0n"
      },
      "source": [
        "convolution1['weights']['W'] = initialize_filter(convolution1['caracteristics']['kernel_size'], convolution1['caracteristics']['kernel_size'])"
      ],
      "execution_count": null,
      "outputs": []
    },
    {
      "cell_type": "code",
      "metadata": {
        "colab": {
          "base_uri": "https://localhost:8080/"
        },
        "id": "yLHyBoRXfN4K",
        "outputId": "357fbda6-82c6-4a8a-b342-5b57098893ec"
      },
      "source": [
        "convolution1"
      ],
      "execution_count": null,
      "outputs": [
        {
          "output_type": "execute_result",
          "data": {
            "text/plain": [
              "{'caracteristics': {'kernel_size': 5,\n",
              "  'nbr_of_kernels': 6,\n",
              "  'padding': 0,\n",
              "  'stride': 1},\n",
              " 'weights': {'W': array([[-0.39524818, -0.1670707 ,  1.35749159,  1.84381627,  1.14554518],\n",
              "         [ 1.16060183,  0.29525999, -1.09154292, -1.53366747, -0.25814321],\n",
              "         [ 3.24020311, -0.86692194, -0.28928828, -0.08947808, -0.20620548],\n",
              "         [ 0.13602014, -1.64640102,  0.3204804 ,  1.45943377, -0.08902425],\n",
              "         [ 1.39445204, -1.01226396, -0.84211526, -0.35216059,  0.3105174 ]]),\n",
              "  'type_of_init': 'NORMAL_DISTRIBUTION'}}"
            ]
          },
          "metadata": {
            "tags": []
          },
          "execution_count": 40
        }
      ]
    },
    {
      "cell_type": "code",
      "metadata": {
        "id": "xI0yQ4E6fN7c"
      },
      "source": [
        ""
      ],
      "execution_count": null,
      "outputs": []
    },
    {
      "cell_type": "code",
      "metadata": {
        "id": "YlbGYt27fN-r"
      },
      "source": [
        ""
      ],
      "execution_count": null,
      "outputs": []
    },
    {
      "cell_type": "code",
      "metadata": {
        "id": "u1VJhr4vfOB5"
      },
      "source": [
        ""
      ],
      "execution_count": null,
      "outputs": []
    },
    {
      "cell_type": "code",
      "metadata": {
        "id": "khjd0RCJfOFA"
      },
      "source": [
        ""
      ],
      "execution_count": null,
      "outputs": []
    },
    {
      "cell_type": "code",
      "metadata": {
        "id": "BzoKtrL8fOH7"
      },
      "source": [
        ""
      ],
      "execution_count": null,
      "outputs": []
    },
    {
      "cell_type": "code",
      "metadata": {
        "id": "JgP8T5YPfOLQ"
      },
      "source": [
        ""
      ],
      "execution_count": null,
      "outputs": []
    },
    {
      "cell_type": "code",
      "metadata": {
        "id": "9Axs_82mfOOF"
      },
      "source": [
        ""
      ],
      "execution_count": null,
      "outputs": []
    },
    {
      "cell_type": "code",
      "metadata": {
        "id": "aDUk9sPdfOQ8"
      },
      "source": [
        ""
      ],
      "execution_count": null,
      "outputs": []
    },
    {
      "cell_type": "code",
      "metadata": {
        "id": "FfyDVZtTfOTp"
      },
      "source": [
        ""
      ],
      "execution_count": null,
      "outputs": []
    },
    {
      "cell_type": "code",
      "metadata": {
        "colab": {
          "base_uri": "https://localhost:8080/",
          "height": 588
        },
        "id": "91CcRAaq0dbD",
        "outputId": "1d9f715f-c3da-4792-c3cb-2043b40283e3"
      },
      "source": [
        "# Initialize weights and biais of my_network using normal distribution\n",
        "W, B = init_params(my_network)\n",
        "\n",
        "# training\n",
        "start_time = time.time()\n",
        "losses = []\n",
        "accuracies = []\n",
        "for epoch in range(number_epochs):\n",
        "    epoch_losses = np.array([])\n",
        "    start_epoch_time = time.time()\n",
        "    for i in range(len(train_labels)):\n",
        "        # prepare the input image\n",
        "        X = flatten(train_images[i])\n",
        "        X = X.reshape(len(X), 1)\n",
        "        Y = one_hot(train_labels[i])\n",
        "        # forward-propagation\n",
        "        Z, A = forward_pass(X, W, B)\n",
        "        loss = categoricalCrossEntropy(A[-1], Y)\n",
        "        epoch_losses = np.concatenate([epoch_losses, loss])\n",
        "\n",
        "        \n",
        "\n",
        "        # backpropagation\n",
        "        dL_dZ2 = A[-1] - Y\n",
        "        dL_dW, dL_dB, dL_dZ = [], [], [dL_dZ2]\n",
        "        # here the variable indice has for aim to keep truck to which layer are we\n",
        "        # and the variable indx_act_func has the objectif to tell us which activation function should we use in each layer\n",
        "        indice, indx_act_func = 0, -1\n",
        "        for layer in range(len(my_network)-1):\n",
        "          dl_dw, dl_db, dl_dz = backpro_pass(dL_dZ[-1], A, Z, W, indice - 2, indx_act_func)\n",
        "          dL_dW.append(dl_dw)\n",
        "          dL_dB.append(dl_db)\n",
        "          dL_dZ.append(dl_dz)\n",
        "          indice = indice - 1 \n",
        "          indx_act_func = indx_act_func - 1\n",
        "          \n",
        "        # update weights W and Biais B  \n",
        "        dL_dW.reverse()\n",
        "        dL_dB.reverse()\n",
        "        W, B = update_W_and_B(W, dL_dW, B, dL_dB, lr)\n",
        "      \n",
        "    # Test my model at epoch = gama    \n",
        "    if (epoch % 5 == 0):\n",
        "        accuracy = compute_accuracy(val_images, val_labels, W, B)\n",
        "        accuracies.append(accuracy)\n",
        "        print('---------------------------------------------------------------------------> Accuracy : ',accuracies[-1])\n",
        "\n",
        "    print('epoch ',epoch,' -------> loss : ',np.array(epoch_losses).mean(), ' | time : ',(time.time() - start_epoch_time))\n",
        "    losses.append(np.array(epoch_losses).mean())\n",
        "\n",
        "print(\"--- %s seconds ---\" % (time.time() - start_time), ' | time : ',(time.time() - start_time)) \n",
        "fig, ax = plt.subplots(2)\n",
        "fig.suptitle('Graph of accuracy and loss')\n",
        "ax[0].plot(losses)\n",
        "ax[1].plot(accuracies)"
      ],
      "execution_count": null,
      "outputs": [
        {
          "output_type": "stream",
          "text": [
            "---------------------------------------------------------------------------> Accuracy :  0.8266\n",
            "epoch  0  -------> loss :  0.9008753403207422  | time :  11.954740047454834\n",
            "epoch  1  -------> loss :  0.5117232454953177  | time :  11.885202169418335\n",
            "epoch  2  -------> loss :  0.4440902588144349  | time :  11.783049821853638\n",
            "epoch  3  -------> loss :  0.40813659364859706  | time :  11.741705417633057\n",
            "epoch  4  -------> loss :  0.3830731204785044  | time :  11.751951932907104\n",
            "---------------------------------------------------------------------------> Accuracy :  0.8964\n",
            "epoch  5  -------> loss :  0.3646046786631581  | time :  12.014232635498047\n",
            "epoch  6  -------> loss :  0.34978962074251735  | time :  11.79801893234253\n",
            "epoch  7  -------> loss :  0.3370311651941264  | time :  11.982735633850098\n",
            "epoch  8  -------> loss :  0.3267060959503052  | time :  11.86242151260376\n",
            "epoch  9  -------> loss :  0.318313245392431  | time :  11.713358402252197\n",
            "---------------------------------------------------------------------------> Accuracy :  0.9056\n",
            "epoch  10  -------> loss :  0.31132260338181905  | time :  11.983023405075073\n"
          ],
          "name": "stdout"
        },
        {
          "output_type": "error",
          "ename": "KeyboardInterrupt",
          "evalue": "ignored",
          "traceback": [
            "\u001b[0;31m---------------------------------------------------------------------------\u001b[0m",
            "\u001b[0;31mKeyboardInterrupt\u001b[0m                         Traceback (most recent call last)",
            "\u001b[0;32m<ipython-input-7-35d39011b171>\u001b[0m in \u001b[0;36m<module>\u001b[0;34m()\u001b[0m\n\u001b[1;32m     38\u001b[0m         \u001b[0mdL_dW\u001b[0m\u001b[0;34m.\u001b[0m\u001b[0mreverse\u001b[0m\u001b[0;34m(\u001b[0m\u001b[0;34m)\u001b[0m\u001b[0;34m\u001b[0m\u001b[0;34m\u001b[0m\u001b[0m\n\u001b[1;32m     39\u001b[0m         \u001b[0mdL_dB\u001b[0m\u001b[0;34m.\u001b[0m\u001b[0mreverse\u001b[0m\u001b[0;34m(\u001b[0m\u001b[0;34m)\u001b[0m\u001b[0;34m\u001b[0m\u001b[0;34m\u001b[0m\u001b[0m\n\u001b[0;32m---> 40\u001b[0;31m         \u001b[0mW\u001b[0m\u001b[0;34m,\u001b[0m \u001b[0mB\u001b[0m \u001b[0;34m=\u001b[0m \u001b[0mupdate_W_and_B\u001b[0m\u001b[0;34m(\u001b[0m\u001b[0mW\u001b[0m\u001b[0;34m,\u001b[0m \u001b[0mdL_dW\u001b[0m\u001b[0;34m,\u001b[0m \u001b[0mB\u001b[0m\u001b[0;34m,\u001b[0m \u001b[0mdL_dB\u001b[0m\u001b[0;34m,\u001b[0m \u001b[0mlr\u001b[0m\u001b[0;34m)\u001b[0m\u001b[0;34m\u001b[0m\u001b[0;34m\u001b[0m\u001b[0m\n\u001b[0m\u001b[1;32m     41\u001b[0m \u001b[0;34m\u001b[0m\u001b[0m\n\u001b[1;32m     42\u001b[0m     \u001b[0;31m# Test my model at epoch = gama\u001b[0m\u001b[0;34m\u001b[0m\u001b[0;34m\u001b[0m\u001b[0;34m\u001b[0m\u001b[0m\n",
            "\u001b[0;32m<ipython-input-4-7429f98b438f>\u001b[0m in \u001b[0;36mupdate_W_and_B\u001b[0;34m(W, dL_dW, B, dL_dB, lr)\u001b[0m\n\u001b[1;32m    118\u001b[0m     \u001b[0mnew_B\u001b[0m \u001b[0;34m=\u001b[0m \u001b[0;34m[\u001b[0m\u001b[0;34m]\u001b[0m\u001b[0;34m\u001b[0m\u001b[0;34m\u001b[0m\u001b[0m\n\u001b[1;32m    119\u001b[0m     \u001b[0;32mfor\u001b[0m \u001b[0mw\u001b[0m\u001b[0;34m,\u001b[0m \u001b[0mdw\u001b[0m \u001b[0;32min\u001b[0m \u001b[0mzip\u001b[0m\u001b[0;34m(\u001b[0m\u001b[0mW\u001b[0m\u001b[0;34m,\u001b[0m \u001b[0mdL_dW\u001b[0m\u001b[0;34m)\u001b[0m\u001b[0;34m:\u001b[0m\u001b[0;34m\u001b[0m\u001b[0;34m\u001b[0m\u001b[0m\n\u001b[0;32m--> 120\u001b[0;31m         \u001b[0mw\u001b[0m \u001b[0;34m=\u001b[0m \u001b[0mw\u001b[0m \u001b[0;34m-\u001b[0m \u001b[0mlr\u001b[0m \u001b[0;34m*\u001b[0m \u001b[0mdw\u001b[0m\u001b[0;34m\u001b[0m\u001b[0;34m\u001b[0m\u001b[0m\n\u001b[0m\u001b[1;32m    121\u001b[0m         \u001b[0mnew_W\u001b[0m\u001b[0;34m.\u001b[0m\u001b[0mappend\u001b[0m\u001b[0;34m(\u001b[0m\u001b[0mw\u001b[0m\u001b[0;34m)\u001b[0m\u001b[0;34m\u001b[0m\u001b[0;34m\u001b[0m\u001b[0m\n\u001b[1;32m    122\u001b[0m     \u001b[0;32mfor\u001b[0m \u001b[0mb\u001b[0m\u001b[0;34m,\u001b[0m \u001b[0mdb\u001b[0m \u001b[0;32min\u001b[0m \u001b[0mzip\u001b[0m\u001b[0;34m(\u001b[0m\u001b[0mB\u001b[0m\u001b[0;34m,\u001b[0m \u001b[0mdL_dB\u001b[0m\u001b[0;34m)\u001b[0m\u001b[0;34m:\u001b[0m\u001b[0;34m\u001b[0m\u001b[0;34m\u001b[0m\u001b[0m\n",
            "\u001b[0;31mKeyboardInterrupt\u001b[0m: "
          ]
        }
      ]
    },
    {
      "cell_type": "code",
      "metadata": {
        "id": "kNBqd7gNfOXJ"
      },
      "source": [
        ""
      ],
      "execution_count": null,
      "outputs": []
    },
    {
      "cell_type": "code",
      "metadata": {
        "colab": {
          "base_uri": "https://localhost:8080/"
        },
        "id": "VVXPT7Yt0dfh",
        "outputId": "60e57968-3d04-4d9d-cd8d-bac2d54fb470"
      },
      "source": [
        "show_accuracies(train_images, train_labels, val_images, val_labels, test_images, test_labels, W, B)"
      ],
      "execution_count": null,
      "outputs": [
        {
          "output_type": "stream",
          "text": [
            "Accuracies :\n",
            "    - train accuracy = 91.315 %\n",
            "    - val accuracy = 90.42 %\n",
            "    - test accuracy = 91.2 %\n"
          ],
          "name": "stdout"
        }
      ]
    },
    {
      "cell_type": "code",
      "metadata": {
        "id": "lo3qgE71asSd"
      },
      "source": [
        ""
      ],
      "execution_count": null,
      "outputs": []
    },
    {
      "cell_type": "code",
      "metadata": {
        "id": "JfmvkkbCasVa"
      },
      "source": [
        ""
      ],
      "execution_count": null,
      "outputs": []
    },
    {
      "cell_type": "code",
      "metadata": {
        "id": "kBl9baKqasYf"
      },
      "source": [
        ""
      ],
      "execution_count": null,
      "outputs": []
    },
    {
      "cell_type": "code",
      "metadata": {
        "id": "1HfVNkPNasbK"
      },
      "source": [
        ""
      ],
      "execution_count": null,
      "outputs": []
    },
    {
      "cell_type": "code",
      "metadata": {
        "id": "HSIpD1Z0aseM"
      },
      "source": [
        ""
      ],
      "execution_count": null,
      "outputs": []
    }
  ]
}