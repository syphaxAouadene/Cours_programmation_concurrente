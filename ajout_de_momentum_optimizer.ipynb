{
  "nbformat": 4,
  "nbformat_minor": 0,
  "metadata": {
    "colab": {
      "name": "Test_a05.ipynb",
      "provenance": [],
      "authorship_tag": "ABX9TyPpoYAeKBBa+ef/5sk8V6JU",
      "include_colab_link": true
    },
    "kernelspec": {
      "name": "python3",
      "display_name": "Python 3"
    },
    "language_info": {
      "name": "python"
    }
  },
  "cells": [
    {
      "cell_type": "markdown",
      "metadata": {
        "id": "view-in-github",
        "colab_type": "text"
      },
      "source": [
        "<a href=\"https://colab.research.google.com/github/syphaxAouadene/Cours_programmation_concurrente/blob/main/ajout_de_momentum_optimizer.ipynb\" target=\"_parent\"><img src=\"https://colab.research.google.com/assets/colab-badge.svg\" alt=\"Open In Colab\"/></a>"
      ]
    },
    {
      "cell_type": "code",
      "metadata": {
        "id": "ep_VlH4iEE6V"
      },
      "source": [
        ""
      ],
      "execution_count": 24,
      "outputs": []
    },
    {
      "cell_type": "code",
      "metadata": {
        "colab": {
          "base_uri": "https://localhost:8080/"
        },
        "id": "2do1QelMSg1P",
        "outputId": "8f35b28f-434d-43bf-a9ef-96c70780048a"
      },
      "source": [
        "import numpy as np\n",
        "import pandas as pd\n",
        "import time\n",
        "from IPython.display import clear_output\n",
        "import json\n",
        "import matplotlib.pyplot as plt\n",
        "%pylab inline\n",
        "import os\n",
        "from scipy import signal\n",
        "from mlxtend.data import loadlocal_mnist\n",
        "import platform"
      ],
      "execution_count": 25,
      "outputs": [
        {
          "output_type": "stream",
          "text": [
            "Populating the interactive namespace from numpy and matplotlib\n"
          ],
          "name": "stdout"
        }
      ]
    },
    {
      "cell_type": "code",
      "metadata": {
        "colab": {
          "base_uri": "https://localhost:8080/"
        },
        "id": "Gg09QpqgtTza",
        "outputId": "d93ac26a-531c-465c-95ab-767388b0fb47"
      },
      "source": [
        "from google.colab import drive\n",
        "drive.mount('/content/drive')"
      ],
      "execution_count": 26,
      "outputs": [
        {
          "output_type": "stream",
          "text": [
            "Drive already mounted at /content/drive; to attempt to forcibly remount, call drive.mount(\"/content/drive\", force_remount=True).\n"
          ],
          "name": "stdout"
        }
      ]
    },
    {
      "cell_type": "code",
      "metadata": {
        "id": "rLuvtjTv2Pfm"
      },
      "source": [
        ""
      ],
      "execution_count": 26,
      "outputs": []
    },
    {
      "cell_type": "code",
      "metadata": {
        "id": "RzTv75OY8GEq"
      },
      "source": [
        "def get_convolved_layer(prev_layer, filters, biais=0, pad=0, stride=1, mode='valid'):\n",
        "    '''\n",
        "    prev_layer : is 4 dimension np array with shape(batch_size, nbr_channels, height, width)\n",
        "    filters : is a 4 dimension np array with shape(nbr_of_filters, filter_depth, filter_size, filter_size)\n",
        "    biais : is a 2 dimension np array with shape(nbr_of_filters, 1)\n",
        "    '''\n",
        "    \n",
        "    # print('nbr_filters = ',nbr_filters)\n",
        "    # calculate dimensions of output\n",
        "    if mode == 'backpro':\n",
        "        X = prev_layer\n",
        "        dl_dz = filters\n",
        "        filter_size =  X.shape[2]-dl_dz.shape[2]+1\n",
        "        dL_dF = np.zeros((dl_dz.shape[1], X.shape[1], filter_size, filter_size))\n",
        "        nbr_filters = dL_dF.shape[0]\n",
        "        batch_size = X.shape[0]\n",
        "        # print('dL_dF.shape = ',dL_dF.shape)\n",
        "        for n in range(batch_size):\n",
        "            for dz, i in zip(dl_dz[n], range(nbr_filters)):\n",
        "                dz = dz.reshape((1,)+dz.shape)\n",
        "                # print('dz shape = ',dz.shape)\n",
        "                # print('X_n.shape = ',X[n].shape)\n",
        "                # print('dL_dF_i.shape = ',dL_dF[i].shape)\n",
        "                dL_dF[i] = signal.convolve(X[n], dz, mode='valid')\n",
        "        convolved_layer = dL_dF\n",
        "    \n",
        "    elif mode == 'valid':\n",
        "        # retreive dimensions of previous_layer(i.e. prev_layer)\n",
        "        # print('prev_layer.shape = ',prev_layer.shape)\n",
        "        batch_size, depth_prev_map, height_prev_map, width_prev_map = prev_layer.shape\n",
        "        # retreive dimensions of filters(i.e. filters)\n",
        "        nbr_filters, depth_filter, height_filter, width_filter= filters.shape\n",
        "        height = int(((height_prev_map - height_filter + 2*pad)/stride) + 1)\n",
        "        width = int(((width_prev_map - width_filter + 2*pad)/stride) + 1)\n",
        "        convolved_layer = np.zeros((batch_size, nbr_filters, height, width))\n",
        "        for n in range(batch_size):\n",
        "            for f, i in zip(filters, range(nbr_filters)):\n",
        "                convolved_layer[n][i] = signal.convolve(prev_layer[n], f, mode=mode) + biais[i]\n",
        "    elif mode == 'full':\n",
        "        # print('chui entré')\n",
        "        dl_dz = prev_layer\n",
        "        # retreive dimensions of previous_layer(i.e. prev_layer)\n",
        "        batch_size, depth_prev_map, height_prev_map, width_prev_map = prev_layer.shape\n",
        "        # retreive dimensions of filters(i.e. filters)\n",
        "        nbr_filters, depth_filter, height_filter, width_filter= filters.shape\n",
        "        \n",
        "        height = int(((height_prev_map + height_filter + 2*pad)/stride) - 1)\n",
        "        width = int(((width_prev_map + width_filter + 2*pad)/stride) - 1)\n",
        "        full_convolved = np.zeros((batch_size, depth_filter, height, width))\n",
        "        \n",
        "        \n",
        "        for n in range(batch_size):\n",
        "            for f, i in zip(filters, range(nbr_filters)):\n",
        "                # print(i)\n",
        "                one_eror_map = dl_dz[n][i].reshape((1,)+ dl_dz[n][i].shape)\n",
        "                full_convolved[n] += signal.convolve(one_eror_map, np.rot90(f, 2), mode='full')\n",
        "        \n",
        "        # print('full_convolved = ',full_convolved.shape)\n",
        "        convolved_layer = full_convolved\n",
        "        \n",
        "        \n",
        "        # print('full')\n",
        "        # height = int(((height_prev_map + height_filter + 2*pad)/stride) - 1)\n",
        "        # width = int(((width_prev_map + width_filter + 2*pad)/stride) - 1)\n",
        "        # convolved_layer = np.zeros((batch_size, nbr_filters, height, width))\n",
        "        # print(convolved_layer.shape)\n",
        "        # for n in range(batch_size):\n",
        "        #     for f, i in zip(filters, range(nbr_filters)):\n",
        "        #         convolved_layer[n][i] = signal.convolve(prev_layer[n], f, mode=mode)\n",
        "    else:\n",
        "        print('Erreur : mode not understood ! --> mode has to be \"valid\" or \"full\"')\n",
        "    return convolved_layer\n",
        "\n",
        "\n",
        "def one_hot(y):\n",
        "    y = int(y)\n",
        "    return np.eye(10)[y].reshape(10, 1)"
      ],
      "execution_count": 27,
      "outputs": []
    },
    {
      "cell_type": "code",
      "metadata": {
        "id": "IlWU_fFbeY8i"
      },
      "source": [
        ""
      ],
      "execution_count": 27,
      "outputs": []
    },
    {
      "cell_type": "markdown",
      "metadata": {
        "id": "dhqhlMzu3C7Y"
      },
      "source": [
        "# Upload_data"
      ]
    },
    {
      "cell_type": "code",
      "metadata": {
        "id": "rOHUx7_i42LZ"
      },
      "source": [
        "def normelize(img):\n",
        "    return (img/255)"
      ],
      "execution_count": 28,
      "outputs": []
    },
    {
      "cell_type": "code",
      "metadata": {
        "id": "-h0fTXeKDcrd"
      },
      "source": [
        "images_path = '/content/drive/MyDrive/Colab Notebooks/mnist_data/train-images.idx3-ubyte'\n",
        "labels_path = '/content/drive/MyDrive/Colab Notebooks/mnist_data/train-labels.idx1-ubyte'\n",
        "test_images_path = '/content/drive/MyDrive/Colab Notebooks/mnist_data/test-images.idx3-ubyte'\n",
        "test_labels_path = '/content/drive/MyDrive/Colab Notebooks/mnist_data/test-labels.idx1-ubyte'\n",
        "test_images, test_labels = loadlocal_mnist(test_images_path, test_labels_path)\n",
        "train_images, train_labels = loadlocal_mnist(images_path, labels_path)\n",
        "\n",
        "# group all the images in one list\n",
        "# then normelize all the images\n",
        "images = np.concatenate([train_images, test_images])\n",
        "labels = np.concatenate([train_labels, test_labels])\n",
        "images = normelize(images)\n",
        "\n",
        "# shuffle all the images and all labels randomly\n",
        "# random.seed(1331)\n",
        "indices = np.arange(len(labels))\n",
        "np.random.shuffle(indices)\n",
        "labels = labels[indices]\n",
        "images = images[indices]\n",
        "\n",
        "# change shape of the images\n",
        "images = images.reshape(len(images), 1, 28, 28)\n",
        "\n",
        "# split the data into train, validation and test \n",
        "train_images, val_images, test_images = images[:60000], images[60000:65000], images[65000:]\n",
        "train_labels, val_labels, test_labels = labels[:60000], labels[60000:65000], labels[65000:]"
      ],
      "execution_count": 29,
      "outputs": []
    },
    {
      "cell_type": "code",
      "metadata": {
        "id": "mKDs1n09NiiD"
      },
      "source": [
        "def input_layer(dict):\n",
        "    dict['type_of_layer'] = 'input'\n",
        "    return dict\n",
        "\n",
        "def convolution_layer(dict):\n",
        "    dict['type_of_layer'] = 'convolution'\n",
        "    return dict\n",
        "\n",
        "def pooling_layer(dict):\n",
        "    dict['type_of_layer'] = 'pooling'\n",
        "    return dict\n",
        "\n",
        "def flatten_layer():\n",
        "    dict = {'type_of_layer': 'flatten'}\n",
        "    return dict\n",
        "\n",
        "def fcl(dict):\n",
        "    dict['type_of_layer'] = 'fcl'\n",
        "    return dict"
      ],
      "execution_count": 30,
      "outputs": []
    },
    {
      "cell_type": "code",
      "metadata": {
        "id": "d9U6VqX3fxB1"
      },
      "source": [
        "def initialize_filters(nbr_of_filters, filter_depth, filter_size):\n",
        "    \"\"\"\n",
        "    cette fonction s'occupe de l'initialisation d'un filtre aléatoirement selon la distribution normale\n",
        "    \"\"\"\n",
        "    # ca serait bien d'ajouter d'autres choix d'initialisations\n",
        "    return np.random.randn(nbr_of_filters, filter_depth, filter_size, filter_size)/9.0\n",
        "\n",
        "def initialize_weights(nbr_of_neurons, nbr_neurons_prev_layer):\n",
        "    \"\"\"\n",
        "    this function initialize a matrix of weights and return it\n",
        "    \"\"\"\n",
        "    # ca serait bien d'ajouter d'autres choix d'initialisations\n",
        "    return np.random.randn(nbr_of_neurons, nbr_neurons_prev_layer)/9.0"
      ],
      "execution_count": 31,
      "outputs": []
    },
    {
      "cell_type": "code",
      "metadata": {
        "id": "Ax2R5dFpd8Rb"
      },
      "source": [
        "def input_init_W_and_B(my_cnn, num_layer):\n",
        "    w, b = None, None\n",
        "    return w, b\n",
        "\n",
        "\n",
        "def convolution_init_W_and_B(my_cnn, num_layer):\n",
        "    global my_network\n",
        "    nbr_of_filters = my_cnn[num_layer]['nbr_of_kernels']\n",
        "    filter_depth = my_cnn[num_layer - 1]['depth']\n",
        "    filter_size =  my_cnn[num_layer]['kernel_size']\n",
        "    height_prev_map = my_cnn[num_layer - 1]['height']\n",
        "    width_prev_map = my_cnn[num_layer - 1]['width']\n",
        "    pad = my_cnn[num_layer]['padding']\n",
        "    stride = my_cnn[num_layer]['stride']\n",
        "    \n",
        "    # add new informations to the layer such as : depth, height and width of the image at this level\n",
        "    my_network[num_layer]['depth'] = nbr_of_filters\n",
        "    my_network[num_layer]['height'] = int(((height_prev_map - filter_size + 2*pad)/stride) + 1)\n",
        "    my_network[num_layer]['width'] = int(((width_prev_map - filter_size + 2*pad)/stride) + 1)\n",
        "\n",
        "    w = initialize_filters(nbr_of_filters, filter_depth, filter_size)\n",
        "    b = initialize_weights(nbr_of_filters, 1)\n",
        "    return w, b\n",
        "\n",
        "\n",
        "def pooling_init_W_and_B(my_cnn, num_layer):\n",
        "    global my_network\n",
        "    height_prev_map = my_cnn[num_layer - 1]['height']\n",
        "    width_prev_map = my_cnn[num_layer - 1]['width']\n",
        "    pad = my_cnn[num_layer]['padding']\n",
        "    stride = my_cnn[num_layer]['stride']\n",
        "    filter_size = my_cnn[num_layer]['kernel_size']\n",
        "\n",
        "    # add new informations to the layer such as : depth, height and width of the image at this level\n",
        "    my_network[num_layer]['depth'] = my_cnn[num_layer - 1]['depth']\n",
        "    my_network[num_layer]['height'] = int(((height_prev_map - filter_size + 2*pad)/stride) + 1)\n",
        "    my_network[num_layer]['width'] = int(((width_prev_map - filter_size + 2*pad)/stride) + 1)\n",
        "\n",
        "    # there is no weights neither biais in this pooling layer, so we return None to each of them\n",
        "    w, b = None, None \n",
        "    return w, b\n",
        "\n",
        "\n",
        "def flatten_init_W_and_B(my_cnn, num_layer):\n",
        "    global my_network\n",
        "    depth_prev_map = my_cnn[num_layer - 1]['depth']\n",
        "    height_prev_map = my_cnn[num_layer - 1]['height']\n",
        "    width_prev_map = my_cnn[num_layer - 1]['width']\n",
        "\n",
        "    # add new informations to the layer such as : depth (i.e. nbrs of neurons in this flatten layer at this level)\n",
        "    my_network[num_layer]['depth'] = height_prev_map * width_prev_map * depth_prev_map\n",
        "\n",
        "    # there is no weights neither biais in this pooling layer, so we return None to each of them\n",
        "    w, b = None, None \n",
        "    return w, b\n",
        "\n",
        "\n",
        "def fcl_init_W_and_B(my_cnn, num_layer):\n",
        "    global my_network\n",
        "    nbr_neurons = my_cnn[num_layer]['nbr_of_neurons']\n",
        "    nbr_neurons_prev_layer = my_cnn[num_layer - 1]['depth']\n",
        "    # add new informations to the layer such as : depth (i.e. nbrs of neurons in this flatten layer at this level)\n",
        "    my_network[num_layer]['depth'] = nbr_neurons\n",
        "\n",
        "    # initialize neurons and biais of this particular layer\n",
        "    w = initialize_weights(nbr_neurons, nbr_neurons_prev_layer)\n",
        "    b = initialize_weights(nbr_neurons, 1)\n",
        "    return w, np.array(b)\n",
        "\n",
        "\n",
        "def initialization(my_cnn):\n",
        "    my_cnn_architecture = [my_cnn[layer]['type_of_layer'] for layer in range(len(my_cnn))]\n",
        "    switcher = {\n",
        "        'input': input_init_W_and_B,\n",
        "        'convolution': convolution_init_W_and_B,\n",
        "        'pooling': pooling_init_W_and_B,\n",
        "        'flatten': flatten_init_W_and_B,\n",
        "        'fcl' : fcl_init_W_and_B\n",
        "    }\n",
        "    # Get the function from switcher dictionary\n",
        "    operation_types = [switcher.get(type_of_layer, lambda: \"Invalid type_of_layer\") for type_of_layer in my_cnn_architecture]\n",
        "    W, B = [], []\n",
        "    for i in range(len(my_cnn)):\n",
        "        w, b = operation_types[i](my_cnn, i) # variable i represents num_layer\n",
        "        W.append(w)\n",
        "        B.append(b)\n",
        "    return W, B\n",
        "\n",
        "def ReLU(layer):\n",
        "    return layer * (layer > 0)\n",
        "\n",
        "\n",
        "def d_ReLU(layer):\n",
        "    return 1. * (layer > 0)"
      ],
      "execution_count": 32,
      "outputs": []
    },
    {
      "cell_type": "code",
      "metadata": {
        "id": "Y58KaYUjb302"
      },
      "source": [
        "\n",
        "\n",
        "    "
      ],
      "execution_count": 32,
      "outputs": []
    },
    {
      "cell_type": "code",
      "metadata": {
        "id": "11-aJwMK8muV"
      },
      "source": [
        "def max_pooling(prev_map, size_of_pooling_kernel, pad, stride):\n",
        "#     result_of_pooling has to have shape = ((input_width - kernel_width + 2*padding)/stride) + 1\n",
        "    pooled_map = np.zeros((int((prev_map.shape[0]-size_of_pooling_kernel+2*pad)/stride)+1, int((prev_map.shape[1]-size_of_pooling_kernel+2*pad)/stride)+1))\n",
        "  \n",
        "    dP_dC = np.zeros(prev_map.shape, dtype=np.float64)\n",
        "    for i in range(pooled_map.shape[0]):\n",
        "        for j in range(pooled_map.shape[1]):\n",
        "            imaget = prev_map[stride*i:size_of_pooling_kernel+stride*i, stride*j:size_of_pooling_kernel+stride*j]\n",
        "            max_indices = np.unravel_index(np.argmax(imaget), imaget.shape)\n",
        "            max_imaget = imaget[max_indices[0]][max_indices[1]]\n",
        "            pooled_map[i][j] = max_imaget\n",
        "            dP_dC[stride * i + max_indices[0]][stride * j + max_indices[1]] = 1 \n",
        "    return pooled_map, dP_dC"
      ],
      "execution_count": 33,
      "outputs": []
    },
    {
      "cell_type": "code",
      "metadata": {
        "id": "9GpgmDd5LKug"
      },
      "source": [
        "def flatten(img):\n",
        "    flattened_img = img.flatten()\n",
        "    length = len(flattened_img)\n",
        "    flattened_img = flattened_img.reshape(length, 1)\n",
        "    return flattened_img"
      ],
      "execution_count": 34,
      "outputs": []
    },
    {
      "cell_type": "code",
      "metadata": {
        "id": "7Kjo69kkeb2D"
      },
      "source": [
        "def forward_propagation(img, my_cnn, W, B):\n",
        "    \"\"\"\n",
        "    - img : np.array(shape=(1, 1, 28, 28))\n",
        "    - W : is a list of numpy arrays\n",
        "    - B : is a list of numpy arrays\n",
        "    \"\"\"\n",
        "    my_cnn_architecture = [my_cnn[layer]['type_of_layer'] for layer in range(len(my_cnn))]\n",
        "    switcher = {\n",
        "        'convolution': convolution_operation,\n",
        "        'pooling': pooling_operation,\n",
        "        'flatten': flatten_operation,\n",
        "        'fcl' : fcl_operation\n",
        "    }\n",
        "    # Get the function from switcher dictionary\n",
        "    operation_types = [switcher.get(type_of_layer, lambda: \"Invalid type_of_layer\") for type_of_layer in my_cnn_architecture]\n",
        "    Z, A = [img], [img]\n",
        "    dP_dC = []\n",
        "    for i in range(1, len(my_cnn)):\n",
        "        z, a, dp_dc = operation_types[i](my_cnn[i], A, W, B, i)\n",
        "        Z.append(z)\n",
        "        A.append(a)\n",
        "        if type(dp_dc) != type(None):\n",
        "            dP_dC.append(dp_dc)\n",
        "#     print(dP_dC)\n",
        "#     dP_dC = np.array(dP_dC)\n",
        "    return Z, A, dP_dC\n",
        "\n",
        "\n",
        "def convolution_operation(layer, A, W, B, num_layer): \n",
        "    # print('convolution_operation ',layer )\n",
        "    prev_layer = A[-1]\n",
        "    \n",
        "    filters = W[num_layer]\n",
        "    biais = B[num_layer]\n",
        "    pad = layer['padding']\n",
        "    stride = layer['stride']\n",
        "    z = get_convolved_layer(prev_layer, filters, biais, pad=pad, stride=stride, mode='valid')\n",
        "    a = ReLU(z)\n",
        "    # print(a.shape)\n",
        "    return z, a, None\n",
        "\n",
        "\n",
        "def pooling_operation(layer, A, W, B, layer_num):\n",
        "    \"\"\"\n",
        "    convolved_layer : is a list that contains each convolved_map from previous_layer\n",
        "    type_of_pooling : should be either 'MAX_POOLING' or 'MEAN_POOLING' or 'MIN_POOLING'\n",
        "    size_of_pooling_kernel : is an integer that represents the shape of kernel \n",
        "                            (if size_of_pooling_kernel=2 then shape_kernel=(2, 2))\n",
        "    this function return a list that contains each pooled_map\n",
        "    \"\"\"\n",
        "    prev_layer = A[-1]\n",
        "    batch_size = prev_layer.shape[0]\n",
        "    type_of_pooling = layer['type_of_pooling']\n",
        "    size_of_pooling_kernel = layer['kernel_size']\n",
        "    stride = layer['stride']\n",
        "    pad = layer['padding']\n",
        "    height = layer['height']\n",
        "    width = layer['width']\n",
        "    depth = layer['depth']\n",
        "    pooled_layer = np.zeros((batch_size, depth, height, width))\n",
        "    switcher = {\n",
        "        'MAX_POOLING': max_pooling,\n",
        "        'MEAN_POOLING': mean_pooling,\n",
        "        'MIN_POOLING': min_pooling\n",
        "    }\n",
        "    # Get the function from switcher dictionary\n",
        "    pooling_function = switcher.get(type_of_pooling, lambda: \"Invalid type_of_pooling !\")\n",
        "    # Execute the function\n",
        "    height_prev_map, width_prev_map = prev_layer.shape[2], prev_layer.shape[3]\n",
        "    dP_dC = np.zeros((batch_size, depth, height_prev_map, width_prev_map))\n",
        "    \n",
        "    for i in range(batch_size):\n",
        "        for d in range(depth):\n",
        "            pooled_layer[i, d], dP_dC[i, d] = pooling_function(prev_layer[i, d], size_of_pooling_kernel, pad, stride)\n",
        "            \n",
        "    return pooled_layer, pooled_layer, dP_dC\n",
        "\n",
        "\n",
        "def flatten_operation(layer, A, W, B, layer_num):\n",
        "    a = flatten(A[-1])   \n",
        "    return a, a, None\n",
        "\n",
        "\n",
        "def fcl_operation(layer, A, W, B, layer_num):\n",
        "    # global W\n",
        "    # global compteur\n",
        "    # compteur += 1\n",
        "    input_fcl = A[-1]\n",
        "    weights_fcl = W[layer_num]\n",
        "    biais_fcl = B[layer_num]\n",
        "    type_of_activation = layer['type_of_activation'].lower()\n",
        "    switcher = {\n",
        "        'relu': ReLU,\n",
        "        'tanh': tanh,\n",
        "        'segmoid': segmoid,\n",
        "        'softmax': softmax\n",
        "    }\n",
        "    # Get the function from switcher dictionary\n",
        "    activation_type = switcher.get(type_of_activation, lambda: \"Invalid type_of_activation_function, please choose either 'ReLU' or 'tanh' or 'segmoid' or 'softmax' !\")\n",
        "    \n",
        "    output_fcl = np.dot(weights_fcl, input_fcl) + biais_fcl\n",
        "    # print('shape output_fcl = ',output_fcl.shape)\n",
        "    output = activation_type(output_fcl)\n",
        "    # print(W)\n",
        "    return output_fcl, output, None"
      ],
      "execution_count": 35,
      "outputs": []
    },
    {
      "cell_type": "code",
      "metadata": {
        "id": "vgg8fIxSR0RK"
      },
      "source": [
        "def tanh(layer):\n",
        "    r = (np.exp(layer)-np.exp(-1*layer))/(np.exp(layer)+np.exp(-1*layer))   \n",
        "    return np.array(r)\n",
        "\n",
        "\n",
        "def d_tanh(layer):\n",
        "    return 1 - tanh(layer) * tanh(layer)\n",
        "\n",
        "\n",
        "def segmoid(layer):\n",
        "    return np.exp(layer)/(1 + np.exp(layer))\n",
        "\n",
        "\n",
        "def d_segmoid(vector):\n",
        "    \"\"\"\n",
        "    cette fontion prend un vector en entrée et retourne la dérivée de segmoid par rapport a ce vector\n",
        "    \"\"\"\n",
        "    return segmoid(vector) * (1 - segmoid(vector))\n",
        "\n",
        "\n",
        "def softmax(x):\n",
        "    maxi = np.max(x)\n",
        "    return np.exp(x-maxi)/np.sum(np.exp(x-maxi))\n",
        "\n",
        "\n",
        "def categoricalCrossEntropy(generated_values, target_values):\n",
        "    generated_values = [[1.0e-100] if r[0]==0.0 else r for r in generated_values]\n",
        "    somme = 0\n",
        "    for i in range(len(generated_values)):\n",
        "        somme = somme + target_values[i] * np.log(generated_values[i])\n",
        "    return (-1) * somme \n"
      ],
      "execution_count": 36,
      "outputs": []
    },
    {
      "cell_type": "code",
      "metadata": {
        "id": "4bk9bI3QSnTk"
      },
      "source": [
        "# def sy_fit(train_images, train_labels, my_cnn, hyper_params):\n",
        "#     \"\"\"\n",
        "#     This function train the model with train_data and train_labels\n",
        "#     and return the trained model as a list of [Weights, Biais, Losses, accuracies, ...]\n",
        "\n",
        "#     - train_data : np.array(n_images, depth, height, width)\n",
        "#     - train_labels : array of int/str ----> np.array([label1, label2, ...])\n",
        "#     - my_cnn : a list of dictionnaries, that describe your architecture\n",
        "#     - hyper_params : a dictionnary {'nbr_of_epochs': 20 ---> int\n",
        "#         'learning_rate': 0.005, ---> float\n",
        "#         'batch_learning': False, ---> bool\n",
        "#         'batch_size': 10, ---> int\n",
        "#         'drop-out': False, ---> bool\n",
        "#         'drop-out_value': 0.1 ---> float(probability)} \n",
        "#     \"\"\"\n",
        "    "
      ],
      "execution_count": 37,
      "outputs": []
    },
    {
      "cell_type": "code",
      "metadata": {
        "id": "b0jzCFNZYyqd"
      },
      "source": [
        "def full_convolution(img, f):\n",
        "    return signal.convolve(img, f, mode='full')\n",
        "\n",
        "\n",
        "def unflatten(vector, pooled_layer):\n",
        "    vector = vector.reshape(pooled_layer.shape)\n",
        "    return vector\n",
        "\n",
        "\n",
        "def mean_pooling(convolved_map, size_of_pooling_kernel, stride):\n",
        "    #     result_of_pooling has to have shape = ((input_width - kernel_width) + 2*padding/stride) + 1\n",
        "    result = np.zeros((int((convolved_map.shape[0]-size_of_pooling_kernel)/stride)+1, int((convolved_map.shape[0]-size_of_pooling_kernel)/stride)+1))\n",
        "    for i in range(0, result.shape[0], stride):\n",
        "        for j in range(0, result.shape[1], stride):\n",
        "            imaget = convolved_map[i:size_of_pooling_kernel+i, j:size_of_pooling_kernel+j]\n",
        "            result[i, j] = np.mean(imaget)\n",
        "    return result\n",
        "    \n",
        "    \n",
        "def min_pooling(convolved_map, size_of_pooling_kernel, stride):\n",
        "    #     result_of_pooling has to have shape = ((input_width - kernel_width) + 2*padding/stride) + 1\n",
        "    result = np.zeros((int((convolved_map.shape[0]-size_of_pooling_kernel)/stride)+1, int((convolved_map.shape[0]-size_of_pooling_kernel)/stride)+1))\n",
        "    for i in range(0, result.shape[0], stride):\n",
        "        for j in range(0, result.shape[1], stride):\n",
        "            imaget = convolved_map[i:size_of_pooling_kernel+i, j:size_of_pooling_kernel+j]\n",
        "            result[i, j] = np.min(imaget)\n",
        "    return result"
      ],
      "execution_count": 38,
      "outputs": []
    },
    {
      "cell_type": "code",
      "metadata": {
        "id": "HBDSescOrfk3"
      },
      "source": [
        "def update_W_and_B(W, dL_dW, B, dL_dB, lr, optimizer='sgd', V_w=0, V_b=0):\n",
        "    \"\"\"\n",
        "    this function update the weights and Biais of myNetwork\n",
        "    arguments : \n",
        "    - W : it is a list that contains each Weight vector ([W1, W2, ...])\n",
        "    - dL_dW : derivatives of loss with respect to Weights (it is a list that contains Weights derivatives vectors [dL_dW1, dL_dW2, ...])\n",
        "    - B : it is a list that contains each Biais vector ([B1, B2, ...])\n",
        "    - dL_dB : derivatives of loss with respect to Biais (it is a list that contains Biais derivatives vectors [dL_dB1, dL_dB2, ...])\n",
        "    - lr : learning rate (real number)\n",
        "    \"\"\"\n",
        "    params = W, dL_dW, B, dL_dB, lr\n",
        "    if optimizer == 'sgd':\n",
        "        new_W, new_B = sgd(params)\n",
        "        return new_W, new_B, _, _\n",
        "    elif optimizer == 'momentum':\n",
        "        new_W, new_B, new_V_w, new_V_b = momentum(params, V_w, V_b)\n",
        "        return new_W, new_B, new_V_w, new_V_b\n",
        "    else:\n",
        "        print('optimizer not understood !')\n",
        "        return -1\n",
        "\n",
        "def sgd(params):\n",
        "    W, dL_dW, B, dL_dB, lr = params\n",
        "    new_W, new_B = [], []\n",
        "    for w, dw in zip(W, dL_dW):\n",
        "        try: \n",
        "            w = w - lr * dw\n",
        "        except:\n",
        "            w = None\n",
        "        new_W.append(w)\n",
        "    for b, db in zip(B, dL_dB):\n",
        "        try:\n",
        "            b = b - lr * db\n",
        "        except:\n",
        "            b = None\n",
        "        new_B.append(b)\n",
        "    return new_W, new_B\n",
        "\n",
        "def momentum(params, V_w, V_b):\n",
        "    W, dL_dW, B, dL_dB, lr = params\n",
        "    new_W, new_B, new_V_w, new_V_b = [], [], [], []\n",
        "    for w, dw, v_w in zip(W, dL_dW, V_w):\n",
        "        try: \n",
        "            v_w = 0.9*v_w + lr*dw\n",
        "            w = w - v_w\n",
        "        except:\n",
        "            w = None\n",
        "            v_w = None\n",
        "        new_V_w.append(v_w)\n",
        "        new_W.append(w)\n",
        "    for b, db, v_b in zip(B, dL_dB, V_b):\n",
        "        try:\n",
        "            v_b = 0.9*v_b + lr*db\n",
        "            b = b - v_b\n",
        "        except:\n",
        "            b = None\n",
        "            v_b = None\n",
        "        new_B.append(b)\n",
        "        new_V_b.append(v_b)\n",
        "    return new_W, new_B, new_V_w, new_V_b"
      ],
      "execution_count": 40,
      "outputs": []
    },
    {
      "cell_type": "code",
      "metadata": {
        "id": "XQrN_Q4FZPW7"
      },
      "source": [
        "def backpro_input(my_cnn, dL_dZ, W, Z, A, num_layer, dP_dC):\n",
        "    return None, None, None\n",
        "\n",
        "def backpro_convolution(my_cnn, dL_dZ, W, Z, A, num_layer, dP_dC): \n",
        "    F = W[num_layer]\n",
        "    dl_dz = d_ReLU(Z[num_layer]) * dL_dZ[-1]\n",
        "    dL_dF = np.zeros(W[num_layer].shape)\n",
        "    dL_dX = np.zeros(A[num_layer-1].shape)\n",
        "    filter_size = my_cnn[num_layer].get('kernel_size')\n",
        "    batch_size = A[num_layer-1].shape[0]\n",
        "    dL_dB = np.zeros((my_cnn[num_layer]['depth'], 1))\n",
        "  \n",
        "    for n in range(dl_dz.shape[0]):\n",
        "        for d in range(dl_dz.shape[1]):\n",
        "            dL_dB[d] = np.sum(dl_dz[n][d])\n",
        "    X = A[num_layer - 1]\n",
        "    if num_layer>1:\n",
        "        dL_dX = get_convolved_layer(dl_dz, F, mode='full')\n",
        "\n",
        "    dL_dF = get_convolved_layer(X, dl_dz, mode='backpro')\n",
        "    return dL_dF, dL_dB, dL_dX\n",
        "    \n",
        "\n",
        "\n",
        "def backpro_pooling(my_cnn, dL_dZ, W, Z, A, num_layer, dP_dC):\n",
        "#     print('backpro_pooling')\n",
        "    if num_layer>1:\n",
        "        if my_cnn[num_layer - 1].get('type_of_layer') == 'pooling':\n",
        "            print('here i have to calculate max indices matrix')\n",
        "        else:\n",
        "    #         print('everything is okay !')\n",
        "            size_of_pooling_kernel = my_cnn[num_layer]['kernel_size']\n",
        "            stride = my_cnn[num_layer]['stride']\n",
        "            dl_dz = dL_dZ[-1] \n",
        "            dp_dc = dP_dC \n",
        "            result = np.zeros(dp_dc.shape)\n",
        "    #         print('lenght dp_dc = ', len(dp_dc))\n",
        "\n",
        "            for n in range(dp_dc.shape[0]):\n",
        "                for d in range(dp_dc.shape[1]):\n",
        "                    i = 0\n",
        "                    while i in range(dl_dz.shape[2]):\n",
        "                        j = 0\n",
        "                        while j in range(dl_dz.shape[3]):\n",
        "                            imaget = dp_dc[n][d][i*stride:i*stride+size_of_pooling_kernel, \\\n",
        "                                                j*stride:j*stride+size_of_pooling_kernel]\n",
        "                            rows, cols = np.where(imaget == 1)\n",
        "                            i_max, j_max = rows[0], cols[0]\n",
        "                            result[n][d][stride*i+i_max][stride*j+j_max] = dl_dz[n][d][i][j]\n",
        "                            j = j + 1\n",
        "                        i = i + 1\n",
        "    else:\n",
        "        result = 0\n",
        "    return None, None, result\n",
        "\n",
        "\n",
        "def backpro_flatten(my_cnn, dL_dZ, W, Z, A, num_layer, dP_dC):\n",
        "#     print('backpro_flatten')\n",
        "    if num_layer>1:\n",
        "        dl_dz = unflatten(dL_dZ[-1], A[num_layer-1])\n",
        "    else:\n",
        "        dl_dz = 0 # if flatten is 1-th layer (just after 'input_layer') then we don't have to continue the backpro\n",
        "    return None, None, dl_dz\n",
        "\n",
        "\n",
        "def backpro_fcl(my_cnn, dL_dZ, W, Z, A, num_layer, dP_dC):\n",
        "#     print('backpro_fcl')\n",
        "    type_of_activation = my_cnn[num_layer-1].get('type_of_activation')\n",
        "    \n",
        "    switcher = {\n",
        "        'relu': d_ReLU,\n",
        "        'tanh': d_tanh,\n",
        "        'segmoid': d_segmoid\n",
        "    }\n",
        "    # Get the function from switcher dictionary\n",
        "    if type_of_activation != None:\n",
        "        activation_type = switcher.get(type_of_activation, lambda: None)\n",
        "\n",
        "    \n",
        "    dl_dw = np.dot(dL_dZ[-1], np.transpose(A[num_layer - 1]))\n",
        "    dl_db = dL_dZ[-1]\n",
        "    dl_da = np.dot(np.transpose(W[num_layer]), dL_dZ[-1])\n",
        "    \n",
        "    if type_of_activation == None:\n",
        "        dl_dz = dl_da\n",
        "    else:\n",
        "        da_dz = activation_type(Z[num_layer - 1])\n",
        "        dl_dz = dl_da * da_dz\n",
        "    return dl_dw, dl_db, dl_dz\n",
        "\n",
        "\n",
        "\n",
        "def backpropagation(my_cnn, dL_dZ, W, Z, A, dP_dC):\n",
        "    \n",
        "    my_cnn_architecture = [my_cnn[layer]['type_of_layer'] for layer in range(len(my_cnn))]\n",
        "\n",
        "    switcher = {\n",
        "        'convolution': backpro_convolution,\n",
        "        'pooling': backpro_pooling,\n",
        "        'flatten': backpro_flatten,\n",
        "        'fcl' : backpro_fcl,\n",
        "        'input' : backpro_input\n",
        "    }\n",
        "    # Get the function from switcher dictionary\n",
        "    operation_types = [switcher.get(type_of_layer, lambda: \"Invalid type_of_layer\") for type_of_layer in my_cnn_architecture]\n",
        "    \n",
        "    dL_dW, dL_dB = [], []\n",
        "    \n",
        "    for num_layer in range(len(my_cnn)-1, -1, -1): # iterate through all layers from output to input\n",
        "        if my_cnn[num_layer].get('type_of_layer') == 'pooling':\n",
        "            dl_dw, dl_db, dl_dz = operation_types[num_layer](my_cnn, dL_dZ, W, Z, A, num_layer, dP_dC[-1])\n",
        "            dP_dC = dP_dC[:-1]\n",
        "        else:\n",
        "            dl_dw, dl_db, dl_dz = operation_types[num_layer](my_cnn, dL_dZ, W, Z, A, num_layer, _)\n",
        "        \n",
        "        dL_dW.append(dl_dw)\n",
        "        dL_dB.append(dl_db)\n",
        "        dL_dZ.append(dl_dz)\n",
        "    \n",
        "    return dL_dW, dL_dB"
      ],
      "execution_count": 41,
      "outputs": []
    },
    {
      "cell_type": "code",
      "metadata": {
        "id": "Y5L-eGZxX24U"
      },
      "source": [
        "def compute_accuracy(my_cnn, x_val, y_val, W, B):\n",
        "    '''\n",
        "        This function does a forward pass of x_validation, then checks if the indices\n",
        "        of the maximum value in the output equals the indices in the label\n",
        "        y. Then it sums over each prediction and calculates the accuracy.\n",
        "    '''\n",
        "    predictions = []\n",
        "\n",
        "    for x, y in zip(x_val, y_val):\n",
        "        X = x.reshape((1,) + x.shape)\n",
        "        Y = one_hot(y)\n",
        "        \n",
        "        Z, A, dP_dC = forward_propagation(X, my_cnn, W, B)\n",
        "        output = A[-1]\n",
        "        pred = np.argmax(output)\n",
        "        predictions.append(pred == np.argmax(Y))\n",
        "\n",
        "    return np.mean(predictions)\n",
        "\n",
        "def show_accuracies(my_cnn, train_images, train_labels, val_images, val_labels, test_images, test_labels, W, B):\n",
        "    \"\"\"\n",
        "    this function compute accuracy for each train-set, validation-set, and test-set\n",
        "    then print them all.\n",
        "    arguments : train_images, train_labels, val_images, val_labels, test_images, test_labels, W, B\n",
        "    \"\"\"\n",
        "    train_accuracy = compute_accuracy(my_cnn, train_images, train_labels, W, B)\n",
        "    val_accuracy = compute_accuracy(my_cnn, val_images, val_labels, W, B)\n",
        "    test_accuracy = compute_accuracy(my_cnn, test_images, test_labels, W, B)\n",
        "    print(\"Accuracies :\\n\\\n",
        "    - train accuracy = {} %\\n\\\n",
        "    - val accuracy = {} %\\n\\\n",
        "    - test accuracy = {} %\".format(train_accuracy*100, val_accuracy*100, test_accuracy*100))"
      ],
      "execution_count": 42,
      "outputs": []
    },
    {
      "cell_type": "code",
      "metadata": {
        "id": "iZyL8UX-Dcy0"
      },
      "source": [
        "# here you can define your own cnn architecture :\n",
        "# you can choose any number of layers you want\n",
        "\n",
        "my_network = [input_layer({\n",
        "              'width': 28,\n",
        "              'height': 28,\n",
        "              'depth': 1   # 1 --> means gray scale, and 3 --> means rgb\n",
        "              }\n",
        "          ),\n",
        "          convolution_layer({\n",
        "              'nbr_of_kernels':6, \n",
        "              'kernel_size':5, \n",
        "              'padding':0, \n",
        "              'stride':1, \n",
        "              'type_of_activation':'relu'\n",
        "              }\n",
        "          ), \n",
        "#           convolution_layer({\n",
        "#               'nbr_of_kernels':6, \n",
        "#               'kernel_size':5, \n",
        "#               'padding':0, \n",
        "#               'stride':1, \n",
        "#               'type_of_activation':'relu'\n",
        "#               }\n",
        "#           ), \n",
        "          pooling_layer({\n",
        "              'type_of_pooling' : 'MAX_POOLING',\n",
        "              'kernel_size' : 2,\n",
        "              'padding':0,\n",
        "              'stride' : 2\n",
        "              } \n",
        "          ),\n",
        "          flatten_layer(),\n",
        "#           fcl({\n",
        "#               'nbr_of_neurons' : 100, # 20 neurons in hidden layer\n",
        "#               'type_of_activation' : 'tanh', # 'tanh' will be the activation function in the hidden layer, and 'softmax' in the last layer\n",
        "#               'learning_rate' : 0.001\n",
        "#                 }\n",
        "#           ),\n",
        "        #   fcl({\n",
        "        #       'nbr_of_neurons' : 128, # nbr of neurons in output_layer layer\n",
        "        #       'type_of_activation' : 'relu', # 'tanh' will be the activation function in the hidden layer, and 'softmax' in the last layer\n",
        "        #   }\n",
        "        #   ),\n",
        "          fcl({\n",
        "              'nbr_of_neurons' : 10, # nbr of neurons in output_layer layer\n",
        "              'type_of_activation' : 'softmax', # 'tanh' will be the activation function in the hidden layer, and 'softmax' in the last layer\n",
        "          }\n",
        "          )\n",
        "          ]\n",
        "# define the hyper-parameters of your model\n",
        "hyper_params = {\n",
        "    'nbr_of_epochs': 60,\n",
        "    'learning_rate': 0.001,\n",
        "    'optimizer': 'momentum',\n",
        "    'batch_learning': False,\n",
        "    'batch_size': 10,\n",
        "    'drop-out': False,\n",
        "    'drop-out_value': 0.1 \n",
        "    }"
      ],
      "execution_count": 44,
      "outputs": []
    },
    {
      "cell_type": "code",
      "metadata": {
        "id": "TqJvINzlZizo"
      },
      "source": [
        ""
      ],
      "execution_count": null,
      "outputs": []
    },
    {
      "cell_type": "code",
      "metadata": {
        "colab": {
          "base_uri": "https://localhost:8080/",
          "height": 1000
        },
        "id": "yEQ7AqcdMAPF",
        "outputId": "2077c318-23a1-4572-af34-fa588cb08878"
      },
      "source": [
        "# first of all, let's initialize our weights/filters and Biais of our network\n",
        "my_cnn = my_network\n",
        "W, B = initialization(my_cnn)\n",
        "V_w, V_b = [], []\n",
        "for w, b in zip(W, B):\n",
        "    try:\n",
        "        V_w.append(np.zeros(w.shape))\n",
        "        V_b.append(np.zeros(b.shape))\n",
        "    except:\n",
        "        V_w.append(None)\n",
        "        V_b.append(None)\n",
        "nbr_of_epochs = hyper_params['nbr_of_epochs']\n",
        "learning_rate = hyper_params['learning_rate']\n",
        "optimizer = hyper_params['optimizer']\n",
        "all_losses = []\n",
        "for e in range(nbr_of_epochs):\n",
        "    losses = []\n",
        "    start_time = time.time()\n",
        "    for i in range(len(train_images[:1000])):\n",
        "    \n",
        "        X = train_images[i].reshape((1,)+train_images[i].shape)\n",
        "        Y = one_hot(train_labels[i])\n",
        "        \n",
        "        Z, A, dP_dC = forward_propagation(X, my_network, W, B)\n",
        "        loss = categoricalCrossEntropy(A[-1], Y)\n",
        "        losses.append(loss)\n",
        "        # Backpropagation\n",
        "        dL_dZ2 = A[-1] - Y\n",
        "        dL_dZ = [dL_dZ2]\n",
        "        # here the variable indice has for aim to keep truck to which layer are we\n",
        "        # and the variable indx_act_func has the objectif to tell us which activation function should we use in each layer\n",
        "    \n",
        "        dL_dW, dL_dB = backpropagation(my_network, dL_dZ, W, Z, A , dP_dC)\n",
        "        # update weights W and Biais B  \n",
        "        dL_dW.reverse()\n",
        "        dL_dB.reverse()\n",
        "        \n",
        "        W, B, V_w, V_b = update_W_and_B(W, dL_dW, B, dL_dB, learning_rate, optimizer, V_w, V_b)\n",
        "    if (e % 2 == 0) and (e != 0): \n",
        "        acc = compute_accuracy(my_cnn, val_images[:1000], val_labels[:1000], W, B)\n",
        "        print('-------------------------------------------------------->  val_accuracy = ',acc)\n",
        "    all_losses.append(mean(losses))\n",
        "    print(\"epoch num : \",e,\" loss : \",round(mean(losses), 4), \" ----> time_epoch : \", round(time.time() - start_time))"
      ],
      "execution_count": 45,
      "outputs": [
        {
          "output_type": "stream",
          "text": [
            "epoch num :  0  loss :  1.3057  ----> time_epoch :  20\n",
            "epoch num :  1  loss :  0.6612  ----> time_epoch :  21\n",
            "-------------------------------------------------------->  val_accuracy =  0.847\n",
            "epoch num :  2  loss :  0.538  ----> time_epoch :  31\n",
            "epoch num :  3  loss :  0.5106  ----> time_epoch :  21\n",
            "-------------------------------------------------------->  val_accuracy =  0.766\n",
            "epoch num :  4  loss :  0.5991  ----> time_epoch :  30\n",
            "epoch num :  5  loss :  0.5598  ----> time_epoch :  20\n",
            "-------------------------------------------------------->  val_accuracy =  0.839\n",
            "epoch num :  6  loss :  0.4991  ----> time_epoch :  30\n",
            "epoch num :  7  loss :  0.4311  ----> time_epoch :  20\n",
            "-------------------------------------------------------->  val_accuracy =  0.869\n",
            "epoch num :  8  loss :  0.3591  ----> time_epoch :  30\n",
            "epoch num :  9  loss :  0.3179  ----> time_epoch :  20\n",
            "-------------------------------------------------------->  val_accuracy =  0.88\n",
            "epoch num :  10  loss :  0.2771  ----> time_epoch :  30\n",
            "epoch num :  11  loss :  0.2488  ----> time_epoch :  20\n",
            "-------------------------------------------------------->  val_accuracy =  0.892\n",
            "epoch num :  12  loss :  0.2214  ----> time_epoch :  30\n",
            "epoch num :  13  loss :  0.1927  ----> time_epoch :  20\n",
            "-------------------------------------------------------->  val_accuracy =  0.892\n",
            "epoch num :  14  loss :  0.1682  ----> time_epoch :  30\n",
            "epoch num :  15  loss :  0.14  ----> time_epoch :  20\n",
            "-------------------------------------------------------->  val_accuracy =  0.887\n",
            "epoch num :  16  loss :  0.1103  ----> time_epoch :  29\n",
            "epoch num :  17  loss :  0.0793  ----> time_epoch :  20\n",
            "-------------------------------------------------------->  val_accuracy =  0.894\n",
            "epoch num :  18  loss :  0.0541  ----> time_epoch :  30\n",
            "epoch num :  19  loss :  0.0391  ----> time_epoch :  20\n",
            "-------------------------------------------------------->  val_accuracy =  0.902\n",
            "epoch num :  20  loss :  0.028  ----> time_epoch :  30\n",
            "epoch num :  21  loss :  0.0216  ----> time_epoch :  20\n",
            "-------------------------------------------------------->  val_accuracy =  0.91\n",
            "epoch num :  22  loss :  0.0177  ----> time_epoch :  29\n",
            "epoch num :  23  loss :  0.0149  ----> time_epoch :  20\n",
            "-------------------------------------------------------->  val_accuracy =  0.911\n",
            "epoch num :  24  loss :  0.013  ----> time_epoch :  30\n",
            "epoch num :  25  loss :  0.0115  ----> time_epoch :  20\n",
            "-------------------------------------------------------->  val_accuracy =  0.911\n",
            "epoch num :  26  loss :  0.0103  ----> time_epoch :  30\n",
            "epoch num :  27  loss :  0.0093  ----> time_epoch :  20\n",
            "-------------------------------------------------------->  val_accuracy =  0.912\n",
            "epoch num :  28  loss :  0.0086  ----> time_epoch :  30\n",
            "epoch num :  29  loss :  0.008  ----> time_epoch :  20\n",
            "-------------------------------------------------------->  val_accuracy =  0.911\n",
            "epoch num :  30  loss :  0.0074  ----> time_epoch :  30\n",
            "epoch num :  31  loss :  0.0069  ----> time_epoch :  20\n",
            "-------------------------------------------------------->  val_accuracy =  0.911\n",
            "epoch num :  32  loss :  0.0065  ----> time_epoch :  30\n",
            "epoch num :  33  loss :  0.0061  ----> time_epoch :  20\n",
            "-------------------------------------------------------->  val_accuracy =  0.911\n",
            "epoch num :  34  loss :  0.0058  ----> time_epoch :  30\n"
          ],
          "name": "stdout"
        },
        {
          "output_type": "error",
          "ename": "KeyboardInterrupt",
          "evalue": "ignored",
          "traceback": [
            "\u001b[0;31m---------------------------------------------------------------------------\u001b[0m",
            "\u001b[0;31mKeyboardInterrupt\u001b[0m                         Traceback (most recent call last)",
            "\u001b[0;32m<ipython-input-45-d815249be5da>\u001b[0m in \u001b[0;36m<module>\u001b[0;34m()\u001b[0m\n\u001b[1;32m     31\u001b[0m         \u001b[0;31m# and the variable indx_act_func has the objectif to tell us which activation function should we use in each layer\u001b[0m\u001b[0;34m\u001b[0m\u001b[0;34m\u001b[0m\u001b[0;34m\u001b[0m\u001b[0m\n\u001b[1;32m     32\u001b[0m \u001b[0;34m\u001b[0m\u001b[0m\n\u001b[0;32m---> 33\u001b[0;31m         \u001b[0mdL_dW\u001b[0m\u001b[0;34m,\u001b[0m \u001b[0mdL_dB\u001b[0m \u001b[0;34m=\u001b[0m \u001b[0mbackpropagation\u001b[0m\u001b[0;34m(\u001b[0m\u001b[0mmy_network\u001b[0m\u001b[0;34m,\u001b[0m \u001b[0mdL_dZ\u001b[0m\u001b[0;34m,\u001b[0m \u001b[0mW\u001b[0m\u001b[0;34m,\u001b[0m \u001b[0mZ\u001b[0m\u001b[0;34m,\u001b[0m \u001b[0mA\u001b[0m \u001b[0;34m,\u001b[0m \u001b[0mdP_dC\u001b[0m\u001b[0;34m)\u001b[0m\u001b[0;34m\u001b[0m\u001b[0;34m\u001b[0m\u001b[0m\n\u001b[0m\u001b[1;32m     34\u001b[0m         \u001b[0;31m# update weights W and Biais B\u001b[0m\u001b[0;34m\u001b[0m\u001b[0;34m\u001b[0m\u001b[0;34m\u001b[0m\u001b[0m\n\u001b[1;32m     35\u001b[0m         \u001b[0mdL_dW\u001b[0m\u001b[0;34m.\u001b[0m\u001b[0mreverse\u001b[0m\u001b[0;34m(\u001b[0m\u001b[0;34m)\u001b[0m\u001b[0;34m\u001b[0m\u001b[0;34m\u001b[0m\u001b[0m\n",
            "\u001b[0;32m<ipython-input-41-9a77ac915240>\u001b[0m in \u001b[0;36mbackpropagation\u001b[0;34m(my_cnn, dL_dZ, W, Z, A, dP_dC)\u001b[0m\n\u001b[1;32m    111\u001b[0m             \u001b[0mdP_dC\u001b[0m \u001b[0;34m=\u001b[0m \u001b[0mdP_dC\u001b[0m\u001b[0;34m[\u001b[0m\u001b[0;34m:\u001b[0m\u001b[0;34m-\u001b[0m\u001b[0;36m1\u001b[0m\u001b[0;34m]\u001b[0m\u001b[0;34m\u001b[0m\u001b[0;34m\u001b[0m\u001b[0m\n\u001b[1;32m    112\u001b[0m         \u001b[0;32melse\u001b[0m\u001b[0;34m:\u001b[0m\u001b[0;34m\u001b[0m\u001b[0;34m\u001b[0m\u001b[0m\n\u001b[0;32m--> 113\u001b[0;31m             \u001b[0mdl_dw\u001b[0m\u001b[0;34m,\u001b[0m \u001b[0mdl_db\u001b[0m\u001b[0;34m,\u001b[0m \u001b[0mdl_dz\u001b[0m \u001b[0;34m=\u001b[0m \u001b[0moperation_types\u001b[0m\u001b[0;34m[\u001b[0m\u001b[0mnum_layer\u001b[0m\u001b[0;34m]\u001b[0m\u001b[0;34m(\u001b[0m\u001b[0mmy_cnn\u001b[0m\u001b[0;34m,\u001b[0m \u001b[0mdL_dZ\u001b[0m\u001b[0;34m,\u001b[0m \u001b[0mW\u001b[0m\u001b[0;34m,\u001b[0m \u001b[0mZ\u001b[0m\u001b[0;34m,\u001b[0m \u001b[0mA\u001b[0m\u001b[0;34m,\u001b[0m \u001b[0mnum_layer\u001b[0m\u001b[0;34m,\u001b[0m \u001b[0m_\u001b[0m\u001b[0;34m)\u001b[0m\u001b[0;34m\u001b[0m\u001b[0;34m\u001b[0m\u001b[0m\n\u001b[0m\u001b[1;32m    114\u001b[0m \u001b[0;34m\u001b[0m\u001b[0m\n\u001b[1;32m    115\u001b[0m         \u001b[0mdL_dW\u001b[0m\u001b[0;34m.\u001b[0m\u001b[0mappend\u001b[0m\u001b[0;34m(\u001b[0m\u001b[0mdl_dw\u001b[0m\u001b[0;34m)\u001b[0m\u001b[0;34m\u001b[0m\u001b[0;34m\u001b[0m\u001b[0m\n",
            "\u001b[0;32m<ipython-input-41-9a77ac915240>\u001b[0m in \u001b[0;36mbackpro_convolution\u001b[0;34m(my_cnn, dL_dZ, W, Z, A, num_layer, dP_dC)\u001b[0m\n\u001b[1;32m     13\u001b[0m     \u001b[0;32mfor\u001b[0m \u001b[0mn\u001b[0m \u001b[0;32min\u001b[0m \u001b[0mrange\u001b[0m\u001b[0;34m(\u001b[0m\u001b[0mdl_dz\u001b[0m\u001b[0;34m.\u001b[0m\u001b[0mshape\u001b[0m\u001b[0;34m[\u001b[0m\u001b[0;36m0\u001b[0m\u001b[0;34m]\u001b[0m\u001b[0;34m)\u001b[0m\u001b[0;34m:\u001b[0m\u001b[0;34m\u001b[0m\u001b[0;34m\u001b[0m\u001b[0m\n\u001b[1;32m     14\u001b[0m         \u001b[0;32mfor\u001b[0m \u001b[0md\u001b[0m \u001b[0;32min\u001b[0m \u001b[0mrange\u001b[0m\u001b[0;34m(\u001b[0m\u001b[0mdl_dz\u001b[0m\u001b[0;34m.\u001b[0m\u001b[0mshape\u001b[0m\u001b[0;34m[\u001b[0m\u001b[0;36m1\u001b[0m\u001b[0;34m]\u001b[0m\u001b[0;34m)\u001b[0m\u001b[0;34m:\u001b[0m\u001b[0;34m\u001b[0m\u001b[0;34m\u001b[0m\u001b[0m\n\u001b[0;32m---> 15\u001b[0;31m             \u001b[0mdL_dB\u001b[0m\u001b[0;34m[\u001b[0m\u001b[0md\u001b[0m\u001b[0;34m]\u001b[0m \u001b[0;34m=\u001b[0m \u001b[0mnp\u001b[0m\u001b[0;34m.\u001b[0m\u001b[0msum\u001b[0m\u001b[0;34m(\u001b[0m\u001b[0mdl_dz\u001b[0m\u001b[0;34m[\u001b[0m\u001b[0mn\u001b[0m\u001b[0;34m]\u001b[0m\u001b[0;34m[\u001b[0m\u001b[0md\u001b[0m\u001b[0;34m]\u001b[0m\u001b[0;34m)\u001b[0m\u001b[0;34m\u001b[0m\u001b[0;34m\u001b[0m\u001b[0m\n\u001b[0m\u001b[1;32m     16\u001b[0m     \u001b[0mX\u001b[0m \u001b[0;34m=\u001b[0m \u001b[0mA\u001b[0m\u001b[0;34m[\u001b[0m\u001b[0mnum_layer\u001b[0m \u001b[0;34m-\u001b[0m \u001b[0;36m1\u001b[0m\u001b[0;34m]\u001b[0m\u001b[0;34m\u001b[0m\u001b[0;34m\u001b[0m\u001b[0m\n\u001b[1;32m     17\u001b[0m     \u001b[0;32mif\u001b[0m \u001b[0mnum_layer\u001b[0m\u001b[0;34m>\u001b[0m\u001b[0;36m1\u001b[0m\u001b[0;34m:\u001b[0m\u001b[0;34m\u001b[0m\u001b[0;34m\u001b[0m\u001b[0m\n",
            "\u001b[0;32m<__array_function__ internals>\u001b[0m in \u001b[0;36msum\u001b[0;34m(*args, **kwargs)\u001b[0m\n",
            "\u001b[0;32m/usr/local/lib/python3.7/dist-packages/numpy/core/fromnumeric.py\u001b[0m in \u001b[0;36msum\u001b[0;34m(a, axis, dtype, out, keepdims, initial, where)\u001b[0m\n\u001b[1;32m   2240\u001b[0m \u001b[0;34m\u001b[0m\u001b[0m\n\u001b[1;32m   2241\u001b[0m     return _wrapreduction(a, np.add, 'sum', axis, dtype, out, keepdims=keepdims,\n\u001b[0;32m-> 2242\u001b[0;31m                           initial=initial, where=where)\n\u001b[0m\u001b[1;32m   2243\u001b[0m \u001b[0;34m\u001b[0m\u001b[0m\n\u001b[1;32m   2244\u001b[0m \u001b[0;34m\u001b[0m\u001b[0m\n",
            "\u001b[0;32m/usr/local/lib/python3.7/dist-packages/numpy/core/fromnumeric.py\u001b[0m in \u001b[0;36m_wrapreduction\u001b[0;34m(obj, ufunc, method, axis, dtype, out, **kwargs)\u001b[0m\n\u001b[1;32m     72\u001b[0m                   if v is not np._NoValue}\n\u001b[1;32m     73\u001b[0m \u001b[0;34m\u001b[0m\u001b[0m\n\u001b[0;32m---> 74\u001b[0;31m     \u001b[0;32mif\u001b[0m \u001b[0mtype\u001b[0m\u001b[0;34m(\u001b[0m\u001b[0mobj\u001b[0m\u001b[0;34m)\u001b[0m \u001b[0;32mis\u001b[0m \u001b[0;32mnot\u001b[0m \u001b[0mmu\u001b[0m\u001b[0;34m.\u001b[0m\u001b[0mndarray\u001b[0m\u001b[0;34m:\u001b[0m\u001b[0;34m\u001b[0m\u001b[0;34m\u001b[0m\u001b[0m\n\u001b[0m\u001b[1;32m     75\u001b[0m         \u001b[0;32mtry\u001b[0m\u001b[0;34m:\u001b[0m\u001b[0;34m\u001b[0m\u001b[0;34m\u001b[0m\u001b[0m\n\u001b[1;32m     76\u001b[0m             \u001b[0mreduction\u001b[0m \u001b[0;34m=\u001b[0m \u001b[0mgetattr\u001b[0m\u001b[0;34m(\u001b[0m\u001b[0mobj\u001b[0m\u001b[0;34m,\u001b[0m \u001b[0mmethod\u001b[0m\u001b[0;34m)\u001b[0m\u001b[0;34m\u001b[0m\u001b[0;34m\u001b[0m\u001b[0m\n",
            "\u001b[0;31mKeyboardInterrupt\u001b[0m: "
          ]
        }
      ]
    },
    {
      "cell_type": "code",
      "metadata": {
        "id": "EBAib5CQZfsy"
      },
      "source": [
        ""
      ],
      "execution_count": null,
      "outputs": []
    },
    {
      "cell_type": "code",
      "metadata": {
        "id": "af7JbWsK2tCF"
      },
      "source": [
        ""
      ],
      "execution_count": null,
      "outputs": []
    },
    {
      "cell_type": "code",
      "metadata": {
        "id": "GvHNpLN027kf"
      },
      "source": [
        ""
      ],
      "execution_count": null,
      "outputs": []
    },
    {
      "cell_type": "code",
      "metadata": {
        "id": "im1IddXJ3KNd"
      },
      "source": [
        ""
      ],
      "execution_count": null,
      "outputs": []
    },
    {
      "cell_type": "code",
      "metadata": {
        "id": "K1XtdE5W3Y2n"
      },
      "source": [
        ""
      ],
      "execution_count": null,
      "outputs": []
    },
    {
      "cell_type": "code",
      "metadata": {
        "id": "VpIrEgcs3ngV"
      },
      "source": [
        ""
      ],
      "execution_count": null,
      "outputs": []
    },
    {
      "cell_type": "code",
      "metadata": {
        "id": "m1WA8xm832Jf"
      },
      "source": [
        ""
      ],
      "execution_count": null,
      "outputs": []
    },
    {
      "cell_type": "code",
      "metadata": {
        "id": "Ey8ZBgsN4E4y"
      },
      "source": [
        ""
      ],
      "execution_count": null,
      "outputs": []
    },
    {
      "cell_type": "code",
      "metadata": {
        "id": "OqRhg1IP4TcQ"
      },
      "source": [
        ""
      ],
      "execution_count": null,
      "outputs": []
    },
    {
      "cell_type": "code",
      "metadata": {
        "id": "MPW45TyI4iGt"
      },
      "source": [
        ""
      ],
      "execution_count": null,
      "outputs": []
    },
    {
      "cell_type": "code",
      "metadata": {
        "id": "oPYzCp4s4wvt"
      },
      "source": [
        ""
      ],
      "execution_count": null,
      "outputs": []
    },
    {
      "cell_type": "code",
      "metadata": {
        "id": "SSdypcV94_Zt"
      },
      "source": [
        ""
      ],
      "execution_count": null,
      "outputs": []
    },
    {
      "cell_type": "code",
      "metadata": {
        "id": "yS_ZpR5n5OCU"
      },
      "source": [
        ""
      ],
      "execution_count": null,
      "outputs": []
    },
    {
      "cell_type": "code",
      "metadata": {
        "id": "Oa10HaYa5ct8"
      },
      "source": [
        ""
      ],
      "execution_count": null,
      "outputs": []
    },
    {
      "cell_type": "code",
      "metadata": {
        "id": "odnNytrD5rVy"
      },
      "source": [
        ""
      ],
      "execution_count": null,
      "outputs": []
    },
    {
      "cell_type": "code",
      "metadata": {
        "id": "34x48FdQ5533"
      },
      "source": [
        ""
      ],
      "execution_count": null,
      "outputs": []
    },
    {
      "cell_type": "code",
      "metadata": {
        "id": "i3ZqFkXD6Ina"
      },
      "source": [
        ""
      ],
      "execution_count": null,
      "outputs": []
    },
    {
      "cell_type": "code",
      "metadata": {
        "id": "9syeMHnN6XRa"
      },
      "source": [
        ""
      ],
      "execution_count": null,
      "outputs": []
    },
    {
      "cell_type": "code",
      "metadata": {
        "id": "g-TTOqoO6l6m"
      },
      "source": [
        ""
      ],
      "execution_count": null,
      "outputs": []
    },
    {
      "cell_type": "code",
      "metadata": {
        "id": "060X6t5i60kn"
      },
      "source": [
        ""
      ],
      "execution_count": null,
      "outputs": []
    },
    {
      "cell_type": "code",
      "metadata": {
        "id": "K4sjUz0d7DN3"
      },
      "source": [
        ""
      ],
      "execution_count": null,
      "outputs": []
    },
    {
      "cell_type": "code",
      "metadata": {
        "id": "5TPdrTgJ7R3t"
      },
      "source": [
        ""
      ],
      "execution_count": null,
      "outputs": []
    },
    {
      "cell_type": "code",
      "metadata": {
        "id": "Wq2vJLdY7ghR"
      },
      "source": [
        ""
      ],
      "execution_count": null,
      "outputs": []
    },
    {
      "cell_type": "code",
      "metadata": {
        "id": "nWgJvV5B7vVE"
      },
      "source": [
        ""
      ],
      "execution_count": null,
      "outputs": []
    },
    {
      "cell_type": "code",
      "metadata": {
        "id": "TOdtW1nX791q"
      },
      "source": [
        ""
      ],
      "execution_count": null,
      "outputs": []
    },
    {
      "cell_type": "code",
      "metadata": {
        "id": "QwVPTxLK8Mfw"
      },
      "source": [
        ""
      ],
      "execution_count": null,
      "outputs": []
    },
    {
      "cell_type": "code",
      "metadata": {
        "id": "sswQwivh8bHK"
      },
      "source": [
        ""
      ],
      "execution_count": null,
      "outputs": []
    },
    {
      "cell_type": "code",
      "metadata": {
        "id": "wpddqPyh8p1I"
      },
      "source": [
        ""
      ],
      "execution_count": null,
      "outputs": []
    },
    {
      "cell_type": "code",
      "metadata": {
        "id": "-3S7pBeo84bN"
      },
      "source": [
        ""
      ],
      "execution_count": null,
      "outputs": []
    },
    {
      "cell_type": "code",
      "metadata": {
        "id": "XEAlnLBN9HFf"
      },
      "source": [
        ""
      ],
      "execution_count": null,
      "outputs": []
    },
    {
      "cell_type": "code",
      "metadata": {
        "id": "u8dimcIV9Vuu"
      },
      "source": [
        ""
      ],
      "execution_count": null,
      "outputs": []
    },
    {
      "cell_type": "code",
      "metadata": {
        "id": "wYt_Mavm9kZf"
      },
      "source": [
        ""
      ],
      "execution_count": null,
      "outputs": []
    },
    {
      "cell_type": "code",
      "metadata": {
        "id": "pemRhZfa9zCM"
      },
      "source": [
        ""
      ],
      "execution_count": null,
      "outputs": []
    },
    {
      "cell_type": "code",
      "metadata": {
        "id": "U7f9SBdr-BsT"
      },
      "source": [
        ""
      ],
      "execution_count": null,
      "outputs": []
    },
    {
      "cell_type": "code",
      "metadata": {
        "id": "LsRdVyU4-QUi"
      },
      "source": [
        ""
      ],
      "execution_count": null,
      "outputs": []
    },
    {
      "cell_type": "code",
      "metadata": {
        "id": "mhq6U-4g-fRp"
      },
      "source": [
        ""
      ],
      "execution_count": null,
      "outputs": []
    },
    {
      "cell_type": "code",
      "metadata": {
        "id": "CMBMRrww-tl0"
      },
      "source": [
        ""
      ],
      "execution_count": null,
      "outputs": []
    },
    {
      "cell_type": "code",
      "metadata": {
        "id": "7O8ktxAp-8Pc"
      },
      "source": [
        ""
      ],
      "execution_count": null,
      "outputs": []
    },
    {
      "cell_type": "code",
      "metadata": {
        "id": "pdgBo1bY_K5b"
      },
      "source": [
        ""
      ],
      "execution_count": null,
      "outputs": []
    },
    {
      "cell_type": "code",
      "metadata": {
        "id": "XeIen2sU_Zje"
      },
      "source": [
        ""
      ],
      "execution_count": null,
      "outputs": []
    },
    {
      "cell_type": "code",
      "metadata": {
        "id": "kB8OglUC_oMi"
      },
      "source": [
        ""
      ],
      "execution_count": null,
      "outputs": []
    },
    {
      "cell_type": "code",
      "metadata": {
        "id": "wytpCGpq_22V"
      },
      "source": [
        ""
      ],
      "execution_count": null,
      "outputs": []
    },
    {
      "cell_type": "code",
      "metadata": {
        "id": "I6yNU9UXAFgK"
      },
      "source": [
        ""
      ],
      "execution_count": null,
      "outputs": []
    },
    {
      "cell_type": "code",
      "metadata": {
        "id": "xavX4KpPAUJb"
      },
      "source": [
        ""
      ],
      "execution_count": null,
      "outputs": []
    },
    {
      "cell_type": "code",
      "metadata": {
        "id": "C5w2xt2NAixn"
      },
      "source": [
        ""
      ],
      "execution_count": null,
      "outputs": []
    },
    {
      "cell_type": "code",
      "metadata": {
        "id": "U_OiTNL2Axc3"
      },
      "source": [
        ""
      ],
      "execution_count": null,
      "outputs": []
    },
    {
      "cell_type": "code",
      "metadata": {
        "id": "KL9jybkoBAGh"
      },
      "source": [
        ""
      ],
      "execution_count": null,
      "outputs": []
    },
    {
      "cell_type": "code",
      "metadata": {
        "id": "MBSTvTJzBOu6"
      },
      "source": [
        ""
      ],
      "execution_count": null,
      "outputs": []
    },
    {
      "cell_type": "code",
      "metadata": {
        "id": "zJLwilh7BdXv"
      },
      "source": [
        ""
      ],
      "execution_count": null,
      "outputs": []
    },
    {
      "cell_type": "code",
      "metadata": {
        "id": "W34eVJDrBsBy"
      },
      "source": [
        ""
      ],
      "execution_count": null,
      "outputs": []
    },
    {
      "cell_type": "code",
      "metadata": {
        "id": "nki50Hq6B6wZ"
      },
      "source": [
        ""
      ],
      "execution_count": null,
      "outputs": []
    },
    {
      "cell_type": "code",
      "metadata": {
        "id": "Z6-HVZPQCJV0"
      },
      "source": [
        ""
      ],
      "execution_count": null,
      "outputs": []
    },
    {
      "cell_type": "code",
      "metadata": {
        "id": "qSFqDFhVCX9d"
      },
      "source": [
        ""
      ],
      "execution_count": null,
      "outputs": []
    },
    {
      "cell_type": "code",
      "metadata": {
        "id": "9OF_r-w1Cmno"
      },
      "source": [
        ""
      ],
      "execution_count": null,
      "outputs": []
    },
    {
      "cell_type": "code",
      "metadata": {
        "id": "fJf3_7LNC1S0"
      },
      "source": [
        ""
      ],
      "execution_count": null,
      "outputs": []
    },
    {
      "cell_type": "code",
      "metadata": {
        "id": "I20FOTXGDD7c"
      },
      "source": [
        ""
      ],
      "execution_count": null,
      "outputs": []
    },
    {
      "cell_type": "code",
      "metadata": {
        "id": "eyWe96WDDSkt"
      },
      "source": [
        ""
      ],
      "execution_count": null,
      "outputs": []
    },
    {
      "cell_type": "code",
      "metadata": {
        "id": "ZhH2URy7DhPk"
      },
      "source": [
        ""
      ],
      "execution_count": null,
      "outputs": []
    },
    {
      "cell_type": "code",
      "metadata": {
        "id": "O9ruwzCGDv3I"
      },
      "source": [
        ""
      ],
      "execution_count": null,
      "outputs": []
    },
    {
      "cell_type": "code",
      "metadata": {
        "id": "T2TKtG6QD-ff"
      },
      "source": [
        ""
      ],
      "execution_count": null,
      "outputs": []
    },
    {
      "cell_type": "code",
      "metadata": {
        "id": "QGwra6OfENK1"
      },
      "source": [
        ""
      ],
      "execution_count": null,
      "outputs": []
    },
    {
      "cell_type": "code",
      "metadata": {
        "id": "F1RToh5rEb1X"
      },
      "source": [
        ""
      ],
      "execution_count": null,
      "outputs": []
    },
    {
      "cell_type": "code",
      "metadata": {
        "id": "WKP1EYZsEqe_"
      },
      "source": [
        ""
      ],
      "execution_count": null,
      "outputs": []
    },
    {
      "cell_type": "code",
      "metadata": {
        "id": "zmDarnX-E5G6"
      },
      "source": [
        ""
      ],
      "execution_count": null,
      "outputs": []
    },
    {
      "cell_type": "code",
      "metadata": {
        "id": "1ZdWmT0vFHwi"
      },
      "source": [
        ""
      ],
      "execution_count": null,
      "outputs": []
    },
    {
      "cell_type": "code",
      "metadata": {
        "id": "sJ4kjawhFWZT"
      },
      "source": [
        ""
      ],
      "execution_count": null,
      "outputs": []
    },
    {
      "cell_type": "code",
      "metadata": {
        "id": "CtkdjVLOFlEv"
      },
      "source": [
        ""
      ],
      "execution_count": null,
      "outputs": []
    },
    {
      "cell_type": "code",
      "metadata": {
        "id": "bVYwxBfEFzsY"
      },
      "source": [
        ""
      ],
      "execution_count": null,
      "outputs": []
    },
    {
      "cell_type": "code",
      "metadata": {
        "id": "Ks6tMKT1GCXU"
      },
      "source": [
        ""
      ],
      "execution_count": null,
      "outputs": []
    },
    {
      "cell_type": "code",
      "metadata": {
        "id": "lZyyy8DsGQ_0"
      },
      "source": [
        ""
      ],
      "execution_count": null,
      "outputs": []
    },
    {
      "cell_type": "code",
      "metadata": {
        "id": "K1y3mvAfGfqd"
      },
      "source": [
        ""
      ],
      "execution_count": null,
      "outputs": []
    },
    {
      "cell_type": "code",
      "metadata": {
        "id": "OhO_jpREGuS7"
      },
      "source": [
        ""
      ],
      "execution_count": null,
      "outputs": []
    },
    {
      "cell_type": "code",
      "metadata": {
        "id": "EqGQTs5XG88s"
      },
      "source": [
        ""
      ],
      "execution_count": null,
      "outputs": []
    },
    {
      "cell_type": "code",
      "metadata": {
        "id": "MOzuUT_AHLlw"
      },
      "source": [
        ""
      ],
      "execution_count": null,
      "outputs": []
    },
    {
      "cell_type": "code",
      "metadata": {
        "id": "WDcrIpeJHaQR"
      },
      "source": [
        ""
      ],
      "execution_count": null,
      "outputs": []
    },
    {
      "cell_type": "code",
      "metadata": {
        "id": "-Ic14aFHHo4T"
      },
      "source": [
        ""
      ],
      "execution_count": null,
      "outputs": []
    },
    {
      "cell_type": "code",
      "metadata": {
        "id": "aqBztuZ2H3ip"
      },
      "source": [
        ""
      ],
      "execution_count": null,
      "outputs": []
    },
    {
      "cell_type": "code",
      "metadata": {
        "id": "NfMeYPHQIGLv"
      },
      "source": [
        ""
      ],
      "execution_count": null,
      "outputs": []
    },
    {
      "cell_type": "code",
      "metadata": {
        "id": "QD0gCurTIU1e"
      },
      "source": [
        ""
      ],
      "execution_count": null,
      "outputs": []
    },
    {
      "cell_type": "code",
      "metadata": {
        "id": "15ROziJ8Ije8"
      },
      "source": [
        ""
      ],
      "execution_count": null,
      "outputs": []
    },
    {
      "cell_type": "code",
      "metadata": {
        "id": "CWHB4FzHIyJZ"
      },
      "source": [
        ""
      ],
      "execution_count": null,
      "outputs": []
    },
    {
      "cell_type": "code",
      "metadata": {
        "id": "6rlsERvWJAqp"
      },
      "source": [
        ""
      ],
      "execution_count": null,
      "outputs": []
    },
    {
      "cell_type": "code",
      "metadata": {
        "id": "E5jDSkOgJPbS"
      },
      "source": [
        ""
      ],
      "execution_count": null,
      "outputs": []
    },
    {
      "cell_type": "code",
      "metadata": {
        "id": "eGACehF_JeFA"
      },
      "source": [
        ""
      ],
      "execution_count": null,
      "outputs": []
    },
    {
      "cell_type": "code",
      "metadata": {
        "id": "QFbwPr5aJtBQ"
      },
      "source": [
        ""
      ],
      "execution_count": null,
      "outputs": []
    },
    {
      "cell_type": "code",
      "metadata": {
        "id": "ZT-rj3bDJ7dc"
      },
      "source": [
        ""
      ],
      "execution_count": null,
      "outputs": []
    },
    {
      "cell_type": "code",
      "metadata": {
        "id": "O1OKasISKKVu"
      },
      "source": [
        ""
      ],
      "execution_count": null,
      "outputs": []
    },
    {
      "cell_type": "code",
      "metadata": {
        "id": "G7XQZ_HyKYzv"
      },
      "source": [
        ""
      ],
      "execution_count": null,
      "outputs": []
    },
    {
      "cell_type": "code",
      "metadata": {
        "id": "gbPR71-hKnc2"
      },
      "source": [
        ""
      ],
      "execution_count": null,
      "outputs": []
    },
    {
      "cell_type": "code",
      "metadata": {
        "id": "9Px3FSrhK2C1"
      },
      "source": [
        ""
      ],
      "execution_count": null,
      "outputs": []
    },
    {
      "cell_type": "code",
      "metadata": {
        "id": "6Jps1MV7LEtQ"
      },
      "source": [
        ""
      ],
      "execution_count": null,
      "outputs": []
    },
    {
      "cell_type": "code",
      "metadata": {
        "id": "lGldJISALTUU"
      },
      "source": [
        ""
      ],
      "execution_count": null,
      "outputs": []
    },
    {
      "cell_type": "code",
      "metadata": {
        "id": "1kbfIefULh_f"
      },
      "source": [
        ""
      ],
      "execution_count": null,
      "outputs": []
    },
    {
      "cell_type": "code",
      "metadata": {
        "id": "CozJ-66tLwpo"
      },
      "source": [
        ""
      ],
      "execution_count": null,
      "outputs": []
    },
    {
      "cell_type": "code",
      "metadata": {
        "id": "9o6Oi5qAL_Sh"
      },
      "source": [
        ""
      ],
      "execution_count": null,
      "outputs": []
    },
    {
      "cell_type": "code",
      "metadata": {
        "id": "A2jHxgBHMN6R"
      },
      "source": [
        ""
      ],
      "execution_count": null,
      "outputs": []
    },
    {
      "cell_type": "code",
      "metadata": {
        "id": "BmsUrl-DMcl9"
      },
      "source": [
        ""
      ],
      "execution_count": null,
      "outputs": []
    },
    {
      "cell_type": "code",
      "metadata": {
        "id": "RwlGXk6vMrOb"
      },
      "source": [
        ""
      ],
      "execution_count": null,
      "outputs": []
    },
    {
      "cell_type": "code",
      "metadata": {
        "id": "9yugdXw7M56T"
      },
      "source": [
        ""
      ],
      "execution_count": null,
      "outputs": []
    },
    {
      "cell_type": "code",
      "metadata": {
        "id": "U7wIEIvSNIg0"
      },
      "source": [
        ""
      ],
      "execution_count": null,
      "outputs": []
    },
    {
      "cell_type": "code",
      "metadata": {
        "id": "6pcNHrc7NXNl"
      },
      "source": [
        ""
      ],
      "execution_count": null,
      "outputs": []
    },
    {
      "cell_type": "code",
      "metadata": {
        "id": "P2mhn2irNl0d"
      },
      "source": [
        ""
      ],
      "execution_count": null,
      "outputs": []
    },
    {
      "cell_type": "code",
      "metadata": {
        "id": "pOi0UBVUN0er"
      },
      "source": [
        ""
      ],
      "execution_count": null,
      "outputs": []
    },
    {
      "cell_type": "code",
      "metadata": {
        "id": "AyzwVbFQODIN"
      },
      "source": [
        ""
      ],
      "execution_count": null,
      "outputs": []
    },
    {
      "cell_type": "code",
      "metadata": {
        "id": "39I6Fe8jORwk"
      },
      "source": [
        ""
      ],
      "execution_count": null,
      "outputs": []
    },
    {
      "cell_type": "code",
      "metadata": {
        "id": "8g2DsDEzOgYh"
      },
      "source": [
        ""
      ],
      "execution_count": null,
      "outputs": []
    },
    {
      "cell_type": "code",
      "metadata": {
        "id": "3TXMFSFiOvEH"
      },
      "source": [
        ""
      ],
      "execution_count": null,
      "outputs": []
    },
    {
      "cell_type": "code",
      "metadata": {
        "id": "svIyjwugO9te"
      },
      "source": [
        ""
      ],
      "execution_count": null,
      "outputs": []
    },
    {
      "cell_type": "code",
      "metadata": {
        "id": "Fxpa8r6mPMXO"
      },
      "source": [
        ""
      ],
      "execution_count": null,
      "outputs": []
    },
    {
      "cell_type": "code",
      "metadata": {
        "id": "hu784e3gPbCn"
      },
      "source": [
        ""
      ],
      "execution_count": null,
      "outputs": []
    },
    {
      "cell_type": "code",
      "metadata": {
        "id": "2dZHGYs-Ppq1"
      },
      "source": [
        ""
      ],
      "execution_count": null,
      "outputs": []
    },
    {
      "cell_type": "code",
      "metadata": {
        "id": "-InJns7HP4Td"
      },
      "source": [
        ""
      ],
      "execution_count": null,
      "outputs": []
    },
    {
      "cell_type": "code",
      "metadata": {
        "id": "hgPml_4eQG9V"
      },
      "source": [
        ""
      ],
      "execution_count": null,
      "outputs": []
    },
    {
      "cell_type": "code",
      "metadata": {
        "id": "n3yWOv5rQVp7"
      },
      "source": [
        ""
      ],
      "execution_count": null,
      "outputs": []
    },
    {
      "cell_type": "code",
      "metadata": {
        "id": "pbL76359QkLv"
      },
      "source": [
        ""
      ],
      "execution_count": null,
      "outputs": []
    },
    {
      "cell_type": "code",
      "metadata": {
        "id": "vV-SP1bsQy1p"
      },
      "source": [
        ""
      ],
      "execution_count": null,
      "outputs": []
    },
    {
      "cell_type": "code",
      "metadata": {
        "id": "RWlMTqhSRBfJ"
      },
      "source": [
        ""
      ],
      "execution_count": null,
      "outputs": []
    },
    {
      "cell_type": "code",
      "metadata": {
        "id": "Fih8FqqtRQKV"
      },
      "source": [
        ""
      ],
      "execution_count": null,
      "outputs": []
    },
    {
      "cell_type": "code",
      "metadata": {
        "id": "83ofO1mwRey7"
      },
      "source": [
        ""
      ],
      "execution_count": null,
      "outputs": []
    },
    {
      "cell_type": "code",
      "metadata": {
        "id": "6W-lYJzkRtck"
      },
      "source": [
        ""
      ],
      "execution_count": null,
      "outputs": []
    },
    {
      "cell_type": "code",
      "metadata": {
        "id": "zi4zNedCR8E1"
      },
      "source": [
        ""
      ],
      "execution_count": null,
      "outputs": []
    },
    {
      "cell_type": "code",
      "metadata": {
        "id": "QpIZ1qGUSKvG"
      },
      "source": [
        ""
      ],
      "execution_count": null,
      "outputs": []
    },
    {
      "cell_type": "code",
      "metadata": {
        "id": "EjUJ4vCYSZYx"
      },
      "source": [
        ""
      ],
      "execution_count": null,
      "outputs": []
    },
    {
      "cell_type": "code",
      "metadata": {
        "id": "bSqLioq0SoC8"
      },
      "source": [
        ""
      ],
      "execution_count": null,
      "outputs": []
    },
    {
      "cell_type": "code",
      "metadata": {
        "id": "GYQ1zNRPS2sD"
      },
      "source": [
        ""
      ],
      "execution_count": null,
      "outputs": []
    },
    {
      "cell_type": "code",
      "metadata": {
        "id": "K3-kr_CSTFU8"
      },
      "source": [
        ""
      ],
      "execution_count": null,
      "outputs": []
    },
    {
      "cell_type": "code",
      "metadata": {
        "id": "cHv7dGGwTT-w"
      },
      "source": [
        ""
      ],
      "execution_count": null,
      "outputs": []
    },
    {
      "cell_type": "code",
      "metadata": {
        "id": "ThOCZyRcTirO"
      },
      "source": [
        ""
      ],
      "execution_count": null,
      "outputs": []
    },
    {
      "cell_type": "code",
      "metadata": {
        "id": "S_iOrBdCTxRz"
      },
      "source": [
        ""
      ],
      "execution_count": null,
      "outputs": []
    },
    {
      "cell_type": "code",
      "metadata": {
        "id": "UU70YbIaT_6z"
      },
      "source": [
        ""
      ],
      "execution_count": null,
      "outputs": []
    },
    {
      "cell_type": "code",
      "metadata": {
        "id": "P5PiIieRUOku"
      },
      "source": [
        ""
      ],
      "execution_count": null,
      "outputs": []
    },
    {
      "cell_type": "code",
      "metadata": {
        "id": "gykFuOaPUdOw"
      },
      "source": [
        ""
      ],
      "execution_count": null,
      "outputs": []
    },
    {
      "cell_type": "code",
      "metadata": {
        "id": "zUJ7uonBUr3C"
      },
      "source": [
        ""
      ],
      "execution_count": null,
      "outputs": []
    },
    {
      "cell_type": "code",
      "metadata": {
        "id": "BvakrHo4U6hK"
      },
      "source": [
        ""
      ],
      "execution_count": null,
      "outputs": []
    },
    {
      "cell_type": "code",
      "metadata": {
        "id": "T1zoFx7MVJKg"
      },
      "source": [
        ""
      ],
      "execution_count": null,
      "outputs": []
    },
    {
      "cell_type": "code",
      "metadata": {
        "id": "hsheWPTFVX0K"
      },
      "source": [
        ""
      ],
      "execution_count": null,
      "outputs": []
    },
    {
      "cell_type": "code",
      "metadata": {
        "id": "12KwYcCdVmdD"
      },
      "source": [
        ""
      ],
      "execution_count": null,
      "outputs": []
    },
    {
      "cell_type": "code",
      "metadata": {
        "id": "eyZkXmKVV1K-"
      },
      "source": [
        ""
      ],
      "execution_count": null,
      "outputs": []
    },
    {
      "cell_type": "code",
      "metadata": {
        "id": "0Bflea0WWDwy"
      },
      "source": [
        ""
      ],
      "execution_count": null,
      "outputs": []
    },
    {
      "cell_type": "code",
      "metadata": {
        "id": "cixZydZoWSa_"
      },
      "source": [
        ""
      ],
      "execution_count": null,
      "outputs": []
    },
    {
      "cell_type": "code",
      "metadata": {
        "id": "v_P2XiPnWhDX"
      },
      "source": [
        ""
      ],
      "execution_count": null,
      "outputs": []
    },
    {
      "cell_type": "code",
      "metadata": {
        "id": "nkViwsHyWvtO"
      },
      "source": [
        ""
      ],
      "execution_count": null,
      "outputs": []
    },
    {
      "cell_type": "code",
      "metadata": {
        "id": "Von7r-srW-XE"
      },
      "source": [
        ""
      ],
      "execution_count": null,
      "outputs": []
    },
    {
      "cell_type": "code",
      "metadata": {
        "id": "HUgiksDqXNAi"
      },
      "source": [
        ""
      ],
      "execution_count": null,
      "outputs": []
    },
    {
      "cell_type": "code",
      "metadata": {
        "id": "6ZCpJ9cZXbz8"
      },
      "source": [
        ""
      ],
      "execution_count": null,
      "outputs": []
    },
    {
      "cell_type": "code",
      "metadata": {
        "id": "pqSBLir7XqWh"
      },
      "source": [
        ""
      ],
      "execution_count": null,
      "outputs": []
    },
    {
      "cell_type": "code",
      "metadata": {
        "id": "NbRlGHAAX5As"
      },
      "source": [
        ""
      ],
      "execution_count": null,
      "outputs": []
    },
    {
      "cell_type": "code",
      "metadata": {
        "id": "v4-hKipoYHps"
      },
      "source": [
        ""
      ],
      "execution_count": null,
      "outputs": []
    },
    {
      "cell_type": "code",
      "metadata": {
        "id": "URtZGWDtYWTe"
      },
      "source": [
        ""
      ],
      "execution_count": null,
      "outputs": []
    },
    {
      "cell_type": "code",
      "metadata": {
        "id": "dOAMFv1HYk7e"
      },
      "source": [
        ""
      ],
      "execution_count": null,
      "outputs": []
    },
    {
      "cell_type": "code",
      "metadata": {
        "id": "anpuMHndYzkz"
      },
      "source": [
        ""
      ],
      "execution_count": null,
      "outputs": []
    },
    {
      "cell_type": "code",
      "metadata": {
        "id": "usAFh6QMZCPr"
      },
      "source": [
        ""
      ],
      "execution_count": null,
      "outputs": []
    },
    {
      "cell_type": "code",
      "metadata": {
        "id": "eZzzD4pCZQ_J"
      },
      "source": [
        ""
      ],
      "execution_count": null,
      "outputs": []
    },
    {
      "cell_type": "code",
      "metadata": {
        "id": "mOyc77l_2eJM"
      },
      "source": [
        ""
      ],
      "execution_count": null,
      "outputs": []
    },
    {
      "cell_type": "code",
      "metadata": {
        "id": "EjmMzX-tis7F"
      },
      "source": [
        ""
      ],
      "execution_count": null,
      "outputs": []
    },
    {
      "cell_type": "code",
      "metadata": {
        "id": "xyd1ey44tdSn"
      },
      "source": [
        "v1 = np.array([1, 7, 8, 3])"
      ],
      "execution_count": null,
      "outputs": []
    },
    {
      "cell_type": "code",
      "metadata": {
        "id": "BAg_enqTZuJb"
      },
      "source": [
        ""
      ],
      "execution_count": null,
      "outputs": []
    },
    {
      "cell_type": "code",
      "metadata": {
        "id": "GTsleWRlZ83d"
      },
      "source": [
        ""
      ],
      "execution_count": null,
      "outputs": []
    },
    {
      "cell_type": "code",
      "metadata": {
        "id": "ENQiNSp9aLfx"
      },
      "source": [
        ""
      ],
      "execution_count": null,
      "outputs": []
    },
    {
      "cell_type": "code",
      "metadata": {
        "id": "n_0xGzq1tsHj"
      },
      "source": [
        "np.random.seed(1)\n"
      ],
      "execution_count": null,
      "outputs": []
    },
    {
      "cell_type": "code",
      "metadata": {
        "id": "mqfnMElRt6tf"
      },
      "source": [
        ", 2, 1, 0, 5"
      ],
      "execution_count": null,
      "outputs": []
    },
    {
      "cell_type": "code",
      "metadata": {
        "id": "Pzq5WL0NvHqp"
      },
      "source": [
        ""
      ],
      "execution_count": null,
      "outputs": []
    },
    {
      "cell_type": "code",
      "metadata": {
        "id": "mSvis-DBwTcY"
      },
      "source": [
        ""
      ],
      "execution_count": null,
      "outputs": []
    },
    {
      "cell_type": "code",
      "metadata": {
        "id": "Lla2eynoxfKj"
      },
      "source": [
        ""
      ],
      "execution_count": null,
      "outputs": []
    },
    {
      "cell_type": "code",
      "metadata": {
        "id": "CG8KjltJyrnV"
      },
      "source": [
        ""
      ],
      "execution_count": null,
      "outputs": []
    },
    {
      "cell_type": "code",
      "metadata": {
        "id": "kuVW7Duwz25Z"
      },
      "source": [
        ""
      ],
      "execution_count": null,
      "outputs": []
    },
    {
      "cell_type": "code",
      "metadata": {
        "id": "zz6c5Hgjz3lR"
      },
      "source": [
        ""
      ],
      "execution_count": null,
      "outputs": []
    },
    {
      "cell_type": "code",
      "metadata": {
        "id": "UfYFsUHp1CpP"
      },
      "source": [
        ""
      ],
      "execution_count": null,
      "outputs": []
    },
    {
      "cell_type": "code",
      "metadata": {
        "id": "aRMEDVhb2ORs"
      },
      "source": [
        ""
      ],
      "execution_count": null,
      "outputs": []
    },
    {
      "cell_type": "code",
      "metadata": {
        "id": "Wa0r6jct3aSe"
      },
      "source": [
        ""
      ],
      "execution_count": null,
      "outputs": []
    },
    {
      "cell_type": "code",
      "metadata": {
        "id": "bEn0s5Cp4l4F"
      },
      "source": [
        ""
      ],
      "execution_count": null,
      "outputs": []
    },
    {
      "cell_type": "code",
      "metadata": {
        "id": "4ydqVyfp5xkX"
      },
      "source": [
        ""
      ],
      "execution_count": null,
      "outputs": []
    },
    {
      "cell_type": "code",
      "metadata": {
        "id": "niGsPZ4m69Xt"
      },
      "source": [
        ""
      ],
      "execution_count": null,
      "outputs": []
    },
    {
      "cell_type": "code",
      "metadata": {
        "id": "qFy1K7Jz69oH"
      },
      "source": [
        ""
      ],
      "execution_count": null,
      "outputs": []
    },
    {
      "cell_type": "code",
      "metadata": {
        "id": "x0FvMtf68JEL"
      },
      "source": [
        ""
      ],
      "execution_count": null,
      "outputs": []
    },
    {
      "cell_type": "code",
      "metadata": {
        "id": "OOUa5kn69Uwy"
      },
      "source": [
        ""
      ],
      "execution_count": null,
      "outputs": []
    },
    {
      "cell_type": "code",
      "metadata": {
        "id": "PHm0whZu-gfI"
      },
      "source": [
        ""
      ],
      "execution_count": null,
      "outputs": []
    },
    {
      "cell_type": "code",
      "metadata": {
        "id": "E7McWz0l_sHw"
      },
      "source": [
        ""
      ],
      "execution_count": null,
      "outputs": []
    },
    {
      "cell_type": "code",
      "metadata": {
        "id": "waCaowWYA3zb"
      },
      "source": [
        ""
      ],
      "execution_count": null,
      "outputs": []
    },
    {
      "cell_type": "code",
      "metadata": {
        "id": "y7BlCE_mCDef"
      },
      "source": [
        ""
      ],
      "execution_count": null,
      "outputs": []
    },
    {
      "cell_type": "code",
      "metadata": {
        "id": "HpVjs2BxCDsf"
      },
      "source": [
        ""
      ],
      "execution_count": null,
      "outputs": []
    },
    {
      "cell_type": "code",
      "metadata": {
        "id": "KfzSeKqbDPKd"
      },
      "source": [
        ""
      ],
      "execution_count": null,
      "outputs": []
    },
    {
      "cell_type": "code",
      "metadata": {
        "id": "SB7zBstyEa2r"
      },
      "source": [
        ""
      ],
      "execution_count": null,
      "outputs": []
    },
    {
      "cell_type": "code",
      "metadata": {
        "id": "nAH_h3_MFmyW"
      },
      "source": [
        ""
      ],
      "execution_count": null,
      "outputs": []
    },
    {
      "cell_type": "code",
      "metadata": {
        "id": "GZvEjSlsGyb1"
      },
      "source": [
        ""
      ],
      "execution_count": null,
      "outputs": []
    },
    {
      "cell_type": "code",
      "metadata": {
        "id": "AEo2ccB2H-H6"
      },
      "source": [
        ""
      ],
      "execution_count": null,
      "outputs": []
    },
    {
      "cell_type": "code",
      "metadata": {
        "id": "0jlAQ06mJJz_"
      },
      "source": [
        ""
      ],
      "execution_count": null,
      "outputs": []
    },
    {
      "cell_type": "code",
      "metadata": {
        "id": "qgxRWCUSKVfc"
      },
      "source": [
        ""
      ],
      "execution_count": null,
      "outputs": []
    },
    {
      "cell_type": "code",
      "metadata": {
        "id": "cWMCoC2hLhLu"
      },
      "source": [
        ""
      ],
      "execution_count": null,
      "outputs": []
    },
    {
      "cell_type": "code",
      "metadata": {
        "id": "TxiL8EvtMs2w"
      },
      "source": [
        ""
      ],
      "execution_count": null,
      "outputs": []
    },
    {
      "cell_type": "code",
      "metadata": {
        "id": "rcWNjzGaN4im"
      },
      "source": [
        ""
      ],
      "execution_count": null,
      "outputs": []
    },
    {
      "cell_type": "code",
      "metadata": {
        "id": "OXyGZDHuPEOy"
      },
      "source": [
        ""
      ],
      "execution_count": null,
      "outputs": []
    },
    {
      "cell_type": "code",
      "metadata": {
        "id": "Mg8enfRhQP7U"
      },
      "source": [
        ""
      ],
      "execution_count": null,
      "outputs": []
    },
    {
      "cell_type": "code",
      "metadata": {
        "id": "GTVE1ZruRbmF"
      },
      "source": [
        ""
      ],
      "execution_count": null,
      "outputs": []
    },
    {
      "cell_type": "code",
      "metadata": {
        "id": "gHOvbeYSSnTL"
      },
      "source": [
        ""
      ],
      "execution_count": null,
      "outputs": []
    },
    {
      "cell_type": "code",
      "metadata": {
        "id": "7-skK6WyTy98"
      },
      "source": [
        ""
      ],
      "execution_count": null,
      "outputs": []
    },
    {
      "cell_type": "code",
      "metadata": {
        "id": "rz-WiULzU-o5"
      },
      "source": [
        ""
      ],
      "execution_count": null,
      "outputs": []
    },
    {
      "cell_type": "code",
      "metadata": {
        "id": "rBin3ym6WKX1"
      },
      "source": [
        ""
      ],
      "execution_count": null,
      "outputs": []
    },
    {
      "cell_type": "code",
      "metadata": {
        "id": "CKE_U0Q2XWA7"
      },
      "source": [
        ""
      ],
      "execution_count": null,
      "outputs": []
    },
    {
      "cell_type": "code",
      "metadata": {
        "id": "eVTxZOPDYhsJ"
      },
      "source": [
        ""
      ],
      "execution_count": null,
      "outputs": []
    },
    {
      "cell_type": "code",
      "metadata": {
        "id": "Np1bLd4cZtYN"
      },
      "source": [
        ""
      ],
      "execution_count": null,
      "outputs": []
    },
    {
      "cell_type": "code",
      "metadata": {
        "id": "sT-ALw20a5Dz"
      },
      "source": [
        ""
      ],
      "execution_count": null,
      "outputs": []
    },
    {
      "cell_type": "code",
      "metadata": {
        "id": "aBdkyKsycEwD"
      },
      "source": [
        ""
      ],
      "execution_count": null,
      "outputs": []
    },
    {
      "cell_type": "code",
      "metadata": {
        "id": "3TU5GYs4dQbV"
      },
      "source": [
        ""
      ],
      "execution_count": null,
      "outputs": []
    },
    {
      "cell_type": "code",
      "metadata": {
        "id": "Zje7clvkecG2"
      },
      "source": [
        ""
      ],
      "execution_count": null,
      "outputs": []
    },
    {
      "cell_type": "code",
      "metadata": {
        "id": "J03iR5KSfny3"
      },
      "source": [
        ""
      ],
      "execution_count": null,
      "outputs": []
    },
    {
      "cell_type": "code",
      "metadata": {
        "id": "quMWwZAigzfN"
      },
      "source": [
        ""
      ],
      "execution_count": null,
      "outputs": []
    },
    {
      "cell_type": "code",
      "metadata": {
        "id": "f6WZj2R-h_K7"
      },
      "source": [
        ""
      ],
      "execution_count": null,
      "outputs": []
    },
    {
      "cell_type": "code",
      "metadata": {
        "id": "hqtc5zh4jK2O"
      },
      "source": [
        ""
      ],
      "execution_count": null,
      "outputs": []
    },
    {
      "cell_type": "code",
      "metadata": {
        "id": "64iI452vkWiA"
      },
      "source": [
        ""
      ],
      "execution_count": null,
      "outputs": []
    },
    {
      "cell_type": "code",
      "metadata": {
        "id": "7cljsXyVlDm3"
      },
      "source": [
        ""
      ],
      "execution_count": null,
      "outputs": []
    },
    {
      "cell_type": "code",
      "metadata": {
        "id": "RcVF8MjolE53"
      },
      "source": [
        ""
      ],
      "execution_count": null,
      "outputs": []
    },
    {
      "cell_type": "code",
      "metadata": {
        "id": "4ttX_3DzlTn0"
      },
      "source": [
        ""
      ],
      "execution_count": null,
      "outputs": []
    },
    {
      "cell_type": "code",
      "metadata": {
        "id": "kprCs4wNliR-"
      },
      "source": [
        ""
      ],
      "execution_count": null,
      "outputs": []
    },
    {
      "cell_type": "code",
      "metadata": {
        "id": "GdAxUmFclw2Q"
      },
      "source": [
        ""
      ],
      "execution_count": null,
      "outputs": []
    },
    {
      "cell_type": "code",
      "metadata": {
        "id": "7P-DbSH9l_fw"
      },
      "source": [
        ""
      ],
      "execution_count": null,
      "outputs": []
    },
    {
      "cell_type": "code",
      "metadata": {
        "id": "tnMy8I-qmOb0"
      },
      "source": [
        ""
      ],
      "execution_count": null,
      "outputs": []
    },
    {
      "cell_type": "code",
      "metadata": {
        "id": "k4XwXjl8mczD"
      },
      "source": [
        ""
      ],
      "execution_count": null,
      "outputs": []
    },
    {
      "cell_type": "code",
      "metadata": {
        "id": "SoMs2CJAmrcI"
      },
      "source": [
        ""
      ],
      "execution_count": null,
      "outputs": []
    },
    {
      "cell_type": "code",
      "metadata": {
        "id": "gv7Adjwtm6Fo"
      },
      "source": [
        ""
      ],
      "execution_count": null,
      "outputs": []
    },
    {
      "cell_type": "code",
      "metadata": {
        "id": "tYZ4Cy2CnIvI"
      },
      "source": [
        ""
      ],
      "execution_count": null,
      "outputs": []
    },
    {
      "cell_type": "code",
      "metadata": {
        "id": "nl5wCv7tnXYw"
      },
      "source": [
        ""
      ],
      "execution_count": null,
      "outputs": []
    },
    {
      "cell_type": "code",
      "metadata": {
        "id": "hPsUqBwNnmCT"
      },
      "source": [
        ""
      ],
      "execution_count": null,
      "outputs": []
    },
    {
      "cell_type": "code",
      "metadata": {
        "id": "20ZxbUlSn0uT"
      },
      "source": [
        ""
      ],
      "execution_count": null,
      "outputs": []
    },
    {
      "cell_type": "code",
      "metadata": {
        "id": "lEMSZfasoDXg"
      },
      "source": [
        ""
      ],
      "execution_count": null,
      "outputs": []
    },
    {
      "cell_type": "code",
      "metadata": {
        "id": "gL62RUr1oSHZ"
      },
      "source": [
        ""
      ],
      "execution_count": null,
      "outputs": []
    },
    {
      "cell_type": "code",
      "metadata": {
        "id": "XAYpAiYfogrQ"
      },
      "source": [
        ""
      ],
      "execution_count": null,
      "outputs": []
    },
    {
      "cell_type": "code",
      "metadata": {
        "id": "r8ffL-SqovUS"
      },
      "source": [
        ""
      ],
      "execution_count": null,
      "outputs": []
    },
    {
      "cell_type": "code",
      "metadata": {
        "id": "efphJGUbo99Y"
      },
      "source": [
        ""
      ],
      "execution_count": null,
      "outputs": []
    },
    {
      "cell_type": "code",
      "metadata": {
        "id": "Qnfrpo3GqHr4"
      },
      "source": [
        ""
      ],
      "execution_count": null,
      "outputs": []
    },
    {
      "cell_type": "code",
      "metadata": {
        "id": "YsBA75u9rTqB"
      },
      "source": [
        ""
      ],
      "execution_count": null,
      "outputs": []
    },
    {
      "cell_type": "code",
      "metadata": {
        "id": "hrUETq3RsfJO"
      },
      "source": [
        ""
      ],
      "execution_count": null,
      "outputs": []
    },
    {
      "cell_type": "code",
      "metadata": {
        "id": "7lO_3CiCtrCQ"
      },
      "source": [
        ""
      ],
      "execution_count": null,
      "outputs": []
    },
    {
      "cell_type": "code",
      "metadata": {
        "id": "LOWxr7ISu2ut"
      },
      "source": [
        ""
      ],
      "execution_count": null,
      "outputs": []
    },
    {
      "cell_type": "code",
      "metadata": {
        "id": "K-RgBkSowCaS"
      },
      "source": [
        ""
      ],
      "execution_count": null,
      "outputs": []
    },
    {
      "cell_type": "code",
      "metadata": {
        "id": "92iH2wpmwED9"
      },
      "source": [
        ""
      ],
      "execution_count": null,
      "outputs": []
    },
    {
      "cell_type": "code",
      "metadata": {
        "id": "NjFd1PgexOFZ"
      },
      "source": [
        ""
      ],
      "execution_count": null,
      "outputs": []
    },
    {
      "cell_type": "code",
      "metadata": {
        "id": "_61p4i7vyZzc"
      },
      "source": [
        ""
      ],
      "execution_count": null,
      "outputs": []
    },
    {
      "cell_type": "code",
      "metadata": {
        "id": "FWfSXM_0zlcs"
      },
      "source": [
        ""
      ],
      "execution_count": null,
      "outputs": []
    },
    {
      "cell_type": "code",
      "metadata": {
        "id": "S2ftM1Te0xIh"
      },
      "source": [
        ""
      ],
      "execution_count": null,
      "outputs": []
    },
    {
      "cell_type": "code",
      "metadata": {
        "id": "7c4STh_J181L"
      },
      "source": [
        ""
      ],
      "execution_count": null,
      "outputs": []
    },
    {
      "cell_type": "code",
      "metadata": {
        "id": "FtGaeAd12CK-"
      },
      "source": [
        ""
      ],
      "execution_count": null,
      "outputs": []
    }
  ]
}