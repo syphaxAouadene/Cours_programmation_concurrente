{
 "cells": [
  {
   "cell_type": "code",
   "execution_count": 2,
   "metadata": {},
   "outputs": [
    {
     "name": "stdout",
     "output_type": "stream",
     "text": [
      "caree de  2  =  4\n",
      "caree de  3  =  9\n",
      "caree de  8  =  64\n",
      "caree de  9  =  81\n",
      "caree de  12  =  144\n",
      "cube  2  =  8\n",
      "cube  3  =  27\n",
      "cube  8  =  512\n",
      "cube  9  =  729\n",
      "cube  12  =  1728\n"
     ]
    }
   ],
   "source": [
    "import random\n",
    "import sys\n",
    "from threading import Thread ,  RLock\n",
    "import time\n",
    "\n",
    "\n",
    "def calcul_square(nombr):\n",
    "    i = 0\n",
    "    while i < len(nombr):\n",
    "        print(\"caree de \" , nombr[i] ,\" = \" , pow(nombr[i],2))\n",
    "        i = i + 1\n",
    "        \n",
    "\n",
    "\n",
    "def calcul_cube(nombre):\n",
    "    i = 0\n",
    "    while i < len(nombre):\n",
    "        print(\"cube \", nombre[i] ,\" = \", pow(nombre[i],3))\n",
    "        i = i + 1\n",
    "   \n",
    "\n",
    "\n",
    "verrou = RLock()\n",
    "\n",
    "class simulation_caree_cube(Thread):\n",
    "    def __init__(self, fct, nb):\n",
    "        Thread.__init__(self)\n",
    "        self.cle = nb\n",
    "        self.fonc = fct\n",
    "\n",
    "\n",
    "    def run(self):\n",
    "        with verrou:\n",
    "            self.fonc(self.cle)\n",
    "            \n",
    "            \n",
    "test1 = simulation_caree_cube(calcul_square, [2,3,8,9,12])\n",
    "\n",
    "test2 = simulation_caree_cube(calcul_cube, [2,3,8,9,12])\n",
    "test1.start()\n",
    "test2.start()\n",
    "test1.join()\n",
    "test2.join()"
   ]
  }
 ],
 "metadata": {
  "kernelspec": {
   "display_name": "Python 3",
   "language": "python",
   "name": "python3"
  },
  "language_info": {
   "codemirror_mode": {
    "name": "ipython",
    "version": 3
   },
   "file_extension": ".py",
   "mimetype": "text/x-python",
   "name": "python",
   "nbconvert_exporter": "python",
   "pygments_lexer": "ipython3",
   "version": "3.8.3"
  }
 },
 "nbformat": 4,
 "nbformat_minor": 4
}
