{
  "nbformat": 4,
  "nbformat_minor": 0,
  "metadata": {
    "colab": {
      "name": "my_first_neural_network_for_handwritten_digit_classification.ipynb",
      "provenance": [],
      "authorship_tag": "ABX9TyMz01UEBspEoy2xfPARLopp",
      "include_colab_link": true
    },
    "kernelspec": {
      "name": "python3",
      "display_name": "Python 3"
    },
    "language_info": {
      "name": "python"
    }
  },
  "cells": [
    {
      "cell_type": "markdown",
      "metadata": {
        "id": "view-in-github",
        "colab_type": "text"
      },
      "source": [
        "<a href=\"https://colab.research.google.com/github/syphaxAouadene/Cours_programmation_concurrente/blob/main/my_first_neural_network_for_handwritten_digit_classification.ipynb\" target=\"_parent\"><img src=\"https://colab.research.google.com/assets/colab-badge.svg\" alt=\"Open In Colab\"/></a>"
      ]
    },
    {
      "cell_type": "code",
      "metadata": {
        "id": "COCCpKrk0cmw"
      },
      "source": [
        ""
      ],
      "execution_count": null,
      "outputs": []
    },
    {
      "cell_type": "code",
      "metadata": {
        "colab": {
          "base_uri": "https://localhost:8080/"
        },
        "id": "HJVQMAlSsyCc",
        "outputId": "e894bd81-48a4-47a0-bb2c-5251b24a0e82"
      },
      "source": [
        "import numpy as np\n",
        "import pandas as pd\n",
        "import time\n",
        "from IPython.display import clear_output\n",
        "import json\n",
        "import matplotlib.pyplot as plt\n",
        "%pylab inline\n",
        "import os"
      ],
      "execution_count": 1,
      "outputs": [
        {
          "output_type": "stream",
          "text": [
            "Populating the interactive namespace from numpy and matplotlib\n"
          ],
          "name": "stdout"
        }
      ]
    },
    {
      "cell_type": "code",
      "metadata": {
        "id": "DAYSvMPYsy05"
      },
      "source": [
        "from mlxtend.data import loadlocal_mnist\n",
        "import platform"
      ],
      "execution_count": 2,
      "outputs": []
    },
    {
      "cell_type": "code",
      "metadata": {
        "colab": {
          "base_uri": "https://localhost:8080/"
        },
        "id": "Gg09QpqgtTza",
        "outputId": "5fddf456-a7e5-452c-ea20-c868be0f5257"
      },
      "source": [
        "from google.colab import drive\n",
        "drive.mount('/content/drive')"
      ],
      "execution_count": 3,
      "outputs": [
        {
          "output_type": "stream",
          "text": [
            "Drive already mounted at /content/drive; to attempt to forcibly remount, call drive.mount(\"/content/drive\", force_remount=True).\n"
          ],
          "name": "stdout"
        }
      ]
    },
    {
      "cell_type": "code",
      "metadata": {
        "id": "Lin2XPzwsy7J"
      },
      "source": [
        "# def fcl(inputs_layer, nbr_neurons, weights, biais, activation_type='ReLU'):\n",
        "#     current_layer = []\n",
        "#     current_layer = flatten(np.dot(weights, inputs_layer) + biais) \n",
        "#     output_layer = activation_function(current_layer, activation_type)\n",
        "#     return output_layer.reshape(len(output_layer), 1)\n",
        "\n",
        "# def fcl_softmax(inputs_layer, nbr_neurons, weights, biais, activation_type='ReLU'):\n",
        "#     current_layer = []\n",
        "#     current_layer = flatten(np.dot(weights, inputs_layer) + biais)\n",
        "#     output_layer = current_layer\n",
        "#     return output_layer.reshape(len(output_layer), 1)\n",
        "   \n",
        "def activation_function(layer, type_of_activation='relu'):\n",
        "    type_of_activation = type_of_activation.lower()\n",
        "    switcher = {\n",
        "        'relu': ReLU,\n",
        "        'tanh': tanh,\n",
        "        'segmoid': segmoid\n",
        "    }\n",
        "    # Get the function from switcher dictionary\n",
        "    activation_type = switcher.get(type_of_activation, lambda: \"Invalid type_of_activation_function, please choose either 'ReLU' or 'tanh' or 'segmoid' !\")\n",
        "    return activation_type(layer)\n",
        "    \n",
        "    \n",
        "def ReLU(layer):\n",
        "    return layer * (layer > 0)\n",
        "\n",
        "def d_ReLU(layer):\n",
        "    return 1. * (layer > 0)\n",
        "\n",
        "def tanh(layer):\n",
        "    r = (np.exp(layer)-np.exp(-1*layer))/(np.exp(layer)+np.exp(-1*layer))   \n",
        "    return np.array(r)\n",
        "\n",
        "def d_tanh(layer):\n",
        "    return 1 - tanh(layer) * tanh(layer)\n",
        "\n",
        "def segmoid(layer):\n",
        "    return np.array(1/(1+np.exp(-1*layer)))\n",
        "\n",
        "def d_segmoid(vector):\n",
        "    \"\"\"\n",
        "    cette fontion prend un vector en entrée et retourne la dérivée de segmoid par rapport a ce vector\n",
        "    \"\"\"\n",
        "    return segmoid(vector) * (1 - segmoid(vector))\n",
        "\n",
        "def softmax(data):\n",
        "    proba_values = np.exp(data)/(np.sum(np.exp(data)))   \n",
        "    return np.array(proba_values)\n",
        "\n",
        "def categoricalCrossEntropy(generated_values, target_values):\n",
        "    somme = 0\n",
        "    for i in range(len(generated_values)):\n",
        "        somme = somme + target_values[i] * np.log(generated_values[i])\n",
        "    return (-1) * somme \n",
        "\n",
        "\n",
        "# def update_weights(dL_dY, weights, biais, inputs, lrate):\n",
        "#     \"\"\"\n",
        "#     arguments :\n",
        "#     dL_dY : un vecteur des dérivées de la couche supérieure par rapport a la couche de sortie Y de dimension n_outputs\n",
        "#     weights : la matrice des poids de dimension (n_inputs x n_outputs)\n",
        "#     inputs : le vecteur de sortie de la couche précedente de dimension n_inputs\n",
        "#     lrate : learning rate (scalar)\n",
        "#     \"\"\"\n",
        "#     dL_dW = np.dot(dL_dY, np.transpose(inputs))\n",
        "#     new_weights = flatten(weights) - lrate * flatten(dL_dW)\n",
        "#     new_biais = biais - lrate * dL_dY\n",
        "#     return new_weights.reshape(weights.shape), new_biais\n",
        "\n",
        "# def calcul_dL_dX(dL_dY, weights):\n",
        "#     return np.dot(np.transpose(weights), dL_dY)\n",
        "\n",
        "def normelize(img):\n",
        "    return img/255\n",
        "\n",
        "def flatten(img):\n",
        "    return img.flatten()\n",
        "\n",
        "def show_image(img):\n",
        "    plt.imshow(img, cmap=plt.cm.binary)\n",
        "    plt.show()\n",
        "\n",
        "# def normelize_with_mean_and_std(img):\n",
        "#     return (img - img.mean())/(img.std())\n",
        "    \n",
        "def init_params(my_network):\n",
        "    nbr_layers = len(my_network) - 1\n",
        "#     W, B = np.array([]), np.array([])\n",
        "    W, B = [], []\n",
        "    for i in range(nbr_layers):\n",
        "        W.append(np.random.randn(my_network[i+1], my_network[i]))\n",
        "        B.append(np.random.randn(my_network[i+1], 1))\n",
        "#         np.concatenate([W, np.random.randn(my_network[i+1], my_network[i])])\n",
        "#         np.concatenate([B, np.random.randn(my_network[i+1], 1)])\n",
        "    return W, B\n",
        "\n",
        "def forward_pass(img, W, B):\n",
        "    \"\"\"\n",
        "    here we will use this notation :\n",
        "    Z[i] = W[i].X + B[i]\n",
        "    A[i] = activation_function(Z[i])\n",
        "    Z is a list that carries all the output of each layer\n",
        "    A is a list that carries all the output of each activation function\n",
        "    \"\"\"\n",
        "    Z, A = [], []\n",
        "    for i in range(len(W)):\n",
        "        if i == 0: # we have to multiply input layer with weights because we're in the first layer\n",
        "            Z.append(np.dot(W[i], img) + B[i])\n",
        "            A.append(ReLU(Z[i]))\n",
        "        elif i == len(W)-1: # we have to use softmax as activation layer because we're in the last layer\n",
        "            Z.append(np.dot(W[i], A[i-1]) + B[i])\n",
        "            A.append(softmax(Z[i]))\n",
        "        else: # we're in the hidden layer\n",
        "            Z.append(np.dot(W[i], A[i-1]) + B[i])\n",
        "            A.append(ReLU(Z[i]))\n",
        "    return Z, A\n",
        "\n",
        "def one_hot(y):\n",
        "    return np.eye(10)[y].reshape(10, 1)\n",
        "\n",
        "def update_W_and_B(W, dL_dW, B, dL_dB, lr):\n",
        "    \"\"\"\n",
        "    this function update the weights and Biais of myNetwork\n",
        "    arguments : \n",
        "    - W : it is a list that contains each Weight vector ([W1, W2, ...])\n",
        "    - dL_dW : derivatives of loss with respect to Weights (it is a list that contains Weights derivatives vectors [dL_dW1, dL_dW2, ...])\n",
        "    - B : it is a list that contains each Biais vector ([B1, B2, ...])\n",
        "    - dL_dB : derivatives of loss with respect to Biais (it is a list that contains Biais derivatives vectors [dL_dB1, dL_dB2, ...])\n",
        "    - lr : learning rate (real number)\n",
        "    \"\"\"\n",
        "    new_W = []\n",
        "    new_B = []\n",
        "    for w, dw in zip(W, dL_dW):\n",
        "#         print(w.shape, dw.shape)\n",
        "        w = w - lr * dw\n",
        "        new_W.append(w)\n",
        "    for b, db in zip(B, dL_dB):\n",
        "        b = b - lr * db\n",
        "        new_B.append(b)\n",
        "    return new_W, new_B\n",
        "\n",
        "def compute_accuracy(x_val, y_val, W, B):\n",
        "    '''\n",
        "        This function does a forward pass of x_validation, then checks if the indices\n",
        "        of the maximum value in the output equals the indices in the label\n",
        "        y. Then it sums over each prediction and calculates the accuracy.\n",
        "    '''\n",
        "    predictions = []\n",
        "\n",
        "    for x, y in zip(x_val, y_val):\n",
        "        # prepare the input image\n",
        "        X = flatten(x)\n",
        "        X = X.reshape(len(X), 1)\n",
        "        Y = one_hot(y)\n",
        "        # forward-propagation\n",
        "        Z, A = forward_pass(X, W, B)\n",
        "        output = A[-1]\n",
        "        pred = np.argmax(output)\n",
        "        predictions.append(pred == np.argmax(Y))\n",
        "\n",
        "    return np.mean(predictions)\n",
        "\n",
        "def classify(img, W, B):\n",
        "    \"\"\"\n",
        "    cette fonction recois une seule image en parametre\n",
        "    et elle reçois les poids W et les Biais B\n",
        "    et elle retourne la catégorie de l'image en entier 0..9\n",
        "    \"\"\"\n",
        "    predictions = []\n",
        "    X = flatten(img)\n",
        "    X = X.reshape(len(X), 1)\n",
        "    # forward-propagation\n",
        "    Z, A = forward_pass(X, W, B)\n",
        "    output = A[-1]\n",
        "    pred = np.argmax(output)\n",
        "    return pred\n",
        "\n",
        "def show_accuracies(train_images, train_labels, val_images, val_labels, test_images, test_labels, W, B):\n",
        "    \"\"\"\n",
        "    this function compute accuracy for each train-set, validation-set, and test-set\n",
        "    then print them all.\n",
        "    arguments : train_images, train_labels, val_images, val_labels, test_images, test_labels, W, B\n",
        "    \"\"\"\n",
        "    train_accuracy = compute_accuracy(train_images, train_labels, W, B)\n",
        "    val_accuracy = compute_accuracy(val_images, val_labels, W, B)\n",
        "    test_accuracy = compute_accuracy(test_images, test_labels, W, B)\n",
        "    print(\"Accuracies :\\n\\\n",
        "    - train accuracy = {} %\\n\\\n",
        "    - val accuracy = {} %\\n\\\n",
        "    - test accuracy = {} %\".format(train_accuracy*100, val_accuracy*100, test_accuracy*100))"
      ],
      "execution_count": 4,
      "outputs": []
    },
    {
      "cell_type": "code",
      "metadata": {
        "id": "YJQfMoEksy91"
      },
      "source": [
        "images_path = '/content/drive/MyDrive/Colab Notebooks/mnist_data/train-images.idx3-ubyte'\n",
        "labels_path = '/content/drive/MyDrive/Colab Notebooks/mnist_data/train-labels.idx1-ubyte'\n",
        "test_images_path = '/content/drive/MyDrive/Colab Notebooks/mnist_data/test-images.idx3-ubyte'\n",
        "test_labels_path = '/content/drive/MyDrive/Colab Notebooks/mnist_data/test-labels.idx1-ubyte'\n",
        "test_images, test_labels = loadlocal_mnist(test_images_path, test_labels_path)\n",
        "train_images, train_labels = loadlocal_mnist(images_path, labels_path)\n",
        "# group all the images in one list\n",
        "# then normelize all the images\n",
        "images = np.concatenate([train_images, test_images])\n",
        "labels = np.concatenate([train_labels, test_labels])\n",
        "images = normelize(images)\n",
        "# shuffle all the images and all labels randomly\n",
        "random.seed(12)\n",
        "indices = np.arange(len(labels))\n",
        "np.random.shuffle(indices)\n",
        "labels = labels[indices]\n",
        "images = images[indices]\n",
        "# change shape of the images\n",
        "images = images.reshape(len(images), 28, 28)\n",
        "# split the data into train, validation and test \n",
        "train_images, val_images, test_images = images[:60000], images[60000:65000], images[65000:]\n",
        "train_labels, val_labels, test_labels = labels[:60000], labels[60000:65000], labels[65000:]"
      ],
      "execution_count": 5,
      "outputs": []
    },
    {
      "cell_type": "code",
      "metadata": {
        "colab": {
          "base_uri": "https://localhost:8080/",
          "height": 1000
        },
        "id": "91CcRAaq0dbD",
        "outputId": "e000d0b1-7742-4504-8550-80350379af39"
      },
      "source": [
        "# Initialize my network\n",
        "my_network = [28*28, 128, 10]\n",
        "number_epochs = 50\n",
        "# Initialize weights and biais of my_network\n",
        "W, B = init_params(my_network)\n",
        "\n",
        "# training\n",
        "start_time = time.time()\n",
        "losses = []\n",
        "accuracies = []\n",
        "for epoch in range(number_epochs):\n",
        "    epoch_losses = np.array([])\n",
        "    start_epoch_time = time.time()\n",
        "    for i in range(len(train_labels)):\n",
        "        # prepare the input image\n",
        "        X = flatten(train_images[i])\n",
        "        X = X.reshape(len(X), 1)\n",
        "        Y = one_hot(train_labels[i])\n",
        "        # forward-propagation\n",
        "        Z, A = forward_pass(X, W, B)\n",
        "        loss = categoricalCrossEntropy(A[-1], Y)\n",
        "        epoch_losses = np.concatenate([epoch_losses, loss])\n",
        "        # backpropagation\n",
        "        dL_dW, dL_dB = [], []\n",
        "        dL_dZ2 = A[-1] - Y\n",
        "        dL_dW2 = np.dot(dL_dZ2, np.transpose(A[-2]))\n",
        "        dL_dB2 = dL_dZ2\n",
        "        dL_dW.append(dL_dW2)\n",
        "        dL_dB.append(dL_dB2)\n",
        "        \n",
        "        dL_dA1 = np.dot(np.transpose(W[-1]), dL_dZ2)\n",
        "        dA1_dZ1 = d_ReLU(Z[-2])\n",
        "        dL_dZ1 = dL_dA1 * dA1_dZ1\n",
        "        dL_dW1 = np.dot(dL_dZ1, np.transpose(X))\n",
        "        dL_dB1 = dL_dZ1\n",
        "        dL_dW.append(dL_dW1)\n",
        "        dL_dB.append(dL_dB1)\n",
        "        \n",
        "        # update weights W and Biais B  \n",
        "        dL_dW.reverse()\n",
        "        dL_dB.reverse()\n",
        "        W, B = update_W_and_B(W, dL_dW, B, dL_dB, 0.01)\n",
        "    # Test my model at epoch = gama    \n",
        "    if (epoch % 5 == 0):\n",
        "        accuracy = compute_accuracy(val_images, val_labels, W, B)\n",
        "        accuracies.append(accuracy)\n",
        "        print('-------------------------------------------------------------------------> Accuracy : ',accuracies[-1])\n",
        "\n",
        "    print('epoch ',epoch,' -------> loss : ',np.array(epoch_losses).mean(), ' | time : ',(time.time() - start_epoch_time))\n",
        "    losses.append(np.array(epoch_losses).mean())\n",
        "\n",
        "print(\"--- %s seconds ---\" % (time.time() - start_time), ' | time : ',(time.time() - start_time)) \n",
        "fig, ax = plt.subplots(2)\n",
        "fig.suptitle('Graph of accuracy and loss')\n",
        "ax[0].plot(losses)\n",
        "ax[1].plot(accuracies)"
      ],
      "execution_count": 6,
      "outputs": [
        {
          "output_type": "stream",
          "text": [
            "-------------------------------------------------------------------------> Accuracy :  0.8844\n",
            "epoch  0  -------> loss :  1.2730662425612747  | time :  61.328770875930786\n",
            "epoch  1  -------> loss :  0.3555570640335619  | time :  61.147199869155884\n",
            "epoch  2  -------> loss :  0.27232288470810245  | time :  59.851173400878906\n",
            "epoch  3  -------> loss :  0.22703406060132741  | time :  61.25060987472534\n",
            "epoch  4  -------> loss :  0.1947160212757244  | time :  60.86965775489807\n",
            "-------------------------------------------------------------------------> Accuracy :  0.9296\n",
            "epoch  5  -------> loss :  0.16875584945319397  | time :  63.15590858459473\n",
            "epoch  6  -------> loss :  0.14953882276465416  | time :  60.68087124824524\n",
            "epoch  7  -------> loss :  0.13448144533386677  | time :  60.78038454055786\n",
            "epoch  8  -------> loss :  0.12121472427383509  | time :  65.01265215873718\n",
            "epoch  9  -------> loss :  0.11035028249498957  | time :  61.170475244522095\n",
            "-------------------------------------------------------------------------> Accuracy :  0.9464\n",
            "epoch  10  -------> loss :  0.09985017967366061  | time :  61.827404260635376\n",
            "epoch  11  -------> loss :  0.09101550769166547  | time :  64.54688167572021\n",
            "epoch  12  -------> loss :  0.08390540722512219  | time :  62.25157618522644\n",
            "epoch  13  -------> loss :  0.07716109961001491  | time :  61.67850184440613\n",
            "epoch  14  -------> loss :  0.07094069216776284  | time :  62.31181025505066\n",
            "-------------------------------------------------------------------------> Accuracy :  0.9526\n",
            "epoch  15  -------> loss :  0.06514037832578277  | time :  62.92167663574219\n",
            "epoch  16  -------> loss :  0.0602449036153272  | time :  61.862648487091064\n",
            "epoch  17  -------> loss :  0.05495748996975364  | time :  62.46891117095947\n",
            "epoch  18  -------> loss :  0.05079955657973549  | time :  61.93044900894165\n",
            "epoch  19  -------> loss :  0.046475115749631764  | time :  63.03358721733093\n",
            "-------------------------------------------------------------------------> Accuracy :  0.9562\n",
            "epoch  20  -------> loss :  0.0429401318000161  | time :  69.34385466575623\n",
            "epoch  21  -------> loss :  0.03942014203009291  | time :  64.7989296913147\n",
            "epoch  22  -------> loss :  0.03646571907641592  | time :  63.015955448150635\n",
            "epoch  23  -------> loss :  0.033656708191955764  | time :  62.50202989578247\n",
            "epoch  24  -------> loss :  0.031005348313516937  | time :  62.49223232269287\n",
            "-------------------------------------------------------------------------> Accuracy :  0.9568\n",
            "epoch  25  -------> loss :  0.028620287850206216  | time :  62.35027718544006\n",
            "epoch  26  -------> loss :  0.02639044646973227  | time :  62.78375816345215\n",
            "epoch  27  -------> loss :  0.024270821395657356  | time :  64.67799687385559\n",
            "epoch  28  -------> loss :  0.022697650011272302  | time :  70.39302825927734\n",
            "epoch  29  -------> loss :  0.020994703305432107  | time :  66.91469478607178\n",
            "-------------------------------------------------------------------------> Accuracy :  0.956\n",
            "epoch  30  -------> loss :  0.019535590071632025  | time :  67.48743414878845\n",
            "epoch  31  -------> loss :  0.017921040529683758  | time :  65.93081641197205\n",
            "epoch  32  -------> loss :  0.016502528716894165  | time :  68.46073389053345\n",
            "epoch  33  -------> loss :  0.015237336748928321  | time :  65.66915893554688\n",
            "epoch  34  -------> loss :  0.01414770609942992  | time :  67.71592807769775\n",
            "-------------------------------------------------------------------------> Accuracy :  0.9562\n",
            "epoch  35  -------> loss :  0.012948776394761873  | time :  66.30842065811157\n",
            "epoch  36  -------> loss :  0.01193256323670793  | time :  67.18276453018188\n",
            "epoch  37  -------> loss :  0.011035409147593728  | time :  65.96507430076599\n",
            "epoch  38  -------> loss :  0.010110438619921287  | time :  65.92176938056946\n",
            "epoch  39  -------> loss :  0.009289608522301812  | time :  66.46911883354187\n",
            "-------------------------------------------------------------------------> Accuracy :  0.9578\n",
            "epoch  40  -------> loss :  0.008684130834327404  | time :  67.00861430168152\n",
            "epoch  41  -------> loss :  0.008069269227725766  | time :  68.0522358417511\n",
            "epoch  42  -------> loss :  0.007456689437091  | time :  66.16170287132263\n",
            "epoch  43  -------> loss :  0.007017850145159697  | time :  68.29743790626526\n",
            "epoch  44  -------> loss :  0.0065621039808634925  | time :  66.45162916183472\n",
            "-------------------------------------------------------------------------> Accuracy :  0.957\n",
            "epoch  45  -------> loss :  0.006267918582101639  | time :  67.66844534873962\n",
            "epoch  46  -------> loss :  0.005682733967211562  | time :  66.85458469390869\n",
            "epoch  47  -------> loss :  0.005330339141445257  | time :  68.90072560310364\n",
            "epoch  48  -------> loss :  0.005030641315265097  | time :  68.58467245101929\n",
            "epoch  49  -------> loss :  0.004687674043819617  | time :  66.45740723609924\n",
            "--- 3231.0444910526276 seconds ---  | time :  3231.044505596161\n"
          ],
          "name": "stdout"
        },
        {
          "output_type": "execute_result",
          "data": {
            "text/plain": [
              "[<matplotlib.lines.Line2D at 0x7fdad3814190>]"
            ]
          },
          "metadata": {
            "tags": []
          },
          "execution_count": 6
        },
        {
          "output_type": "display_data",
          "data": {
            "image/png": "[encoded data removed]",
            "text/plain": [
              "<Figure size 432x288 with 2 Axes>"
            ]
          },
          "metadata": {
            "tags": [],
            "needs_background": "light"
          }
        }
      ]
    },
    {
      "cell_type": "code",
      "metadata": {
        "colab": {
          "base_uri": "https://localhost:8080/"
        },
        "id": "VVXPT7Yt0dfh",
        "outputId": "a392c8b7-2d3e-4d81-aec0-4be46ff8f6bb"
      },
      "source": [
        "show_accuracies(train_images, train_labels, val_images, val_labels, test_images, test_labels, W, B)"
      ],
      "execution_count": 7,
      "outputs": [
        {
          "output_type": "stream",
          "text": [
            "Accuracies :\n",
            "    - train accuracy = 99.77833333333334 %\n",
            "    - val accuracy = 95.86 %\n",
            "    - test accuracy = 95.64 %\n"
          ],
          "name": "stdout"
        }
      ]
    },
    {
      "cell_type": "code",
      "metadata": {
        "id": "XJPY9vki0djG"
      },
      "source": [
        ""
      ],
      "execution_count": null,
      "outputs": []
    },
    {
      "cell_type": "code",
      "metadata": {
        "id": "2ug-kdIw0dmV"
      },
      "source": [
        ""
      ],
      "execution_count": null,
      "outputs": []
    },
    {
      "cell_type": "code",
      "metadata": {
        "id": "7Gnb6LyX0dpY"
      },
      "source": [
        ""
      ],
      "execution_count": null,
      "outputs": []
    },
    {
      "cell_type": "code",
      "metadata": {
        "id": "RAxsKck_0dsy"
      },
      "source": [
        ""
      ],
      "execution_count": null,
      "outputs": []
    },
    {
      "cell_type": "code",
      "metadata": {
        "id": "AQmjKaJk0dvn"
      },
      "source": [
        ""
      ],
      "execution_count": null,
      "outputs": []
    },
    {
      "cell_type": "code",
      "metadata": {
        "id": "lDzm0zn40d4H"
      },
      "source": [
        ""
      ],
      "execution_count": null,
      "outputs": []
    },
    {
      "cell_type": "code",
      "metadata": {
        "id": "C6DhuC5m0d7j"
      },
      "source": [
        ""
      ],
      "execution_count": null,
      "outputs": []
    },
    {
      "cell_type": "code",
      "metadata": {
        "id": "ex3Y9-0z0d-f"
      },
      "source": [
        ""
      ],
      "execution_count": null,
      "outputs": []
    },
    {
      "cell_type": "code",
      "metadata": {
        "id": "Vcg5biLx0eBb"
      },
      "source": [
        ""
      ],
      "execution_count": null,
      "outputs": []
    },
    {
      "cell_type": "code",
      "metadata": {
        "id": "16Aeyjos0eEL"
      },
      "source": [
        ""
      ],
      "execution_count": null,
      "outputs": []
    }
  ]
}