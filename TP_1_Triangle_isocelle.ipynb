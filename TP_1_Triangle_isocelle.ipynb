{
 "cells": [
  {
   "cell_type": "markdown",
   "metadata": {},
   "source": [
    "### EXO_1 : TRIANGLE ISOCELLE"
   ]
  },
  {
   "cell_type": "code",
   "execution_count": 1,
   "metadata": {},
   "outputs": [],
   "source": [
    "def is_valide(a, b, c):\n",
    "    \"\"\"cette fonction permet d'exclure les valeurs qui ne peuvent pas définir un triangle\"\"\"\n",
    "    if (a >= (b+c)) or (b >= (a+c)) or (c >= (a+b)):\n",
    "        return False\n",
    "    else :\n",
    "        return True\n",
    "\n",
    "\n",
    "def is_isocelle(a, b, c):\n",
    "    # il faut que chaque valeurs ne soit pas supérieure a la somme des deux autres\n",
    "    # donc je vais faire une fonction qui va traiter ce truc et je l'appellerai \"is_valide\"\n",
    "    if is_valide(a, b, c):\n",
    "        if len({a, b, c}) <= 2:\n",
    "            return True\n",
    "        else:\n",
    "            return False\n",
    "    else:\n",
    "        return 'les trois valeurs ne peuvent pas définir un triangle'\n",
    "    "
   ]
  },
  {
   "cell_type": "code",
   "execution_count": 2,
   "metadata": {},
   "outputs": [
    {
     "data": {
      "text/plain": [
       "True"
      ]
     },
     "execution_count": 2,
     "metadata": {},
     "output_type": "execute_result"
    }
   ],
   "source": [
    "is_isocelle(2,2,1)"
   ]
  },
  {
   "cell_type": "code",
   "execution_count": 3,
   "metadata": {},
   "outputs": [
    {
     "data": {
      "text/plain": [
       "True"
      ]
     },
     "execution_count": 3,
     "metadata": {},
     "output_type": "execute_result"
    }
   ],
   "source": [
    "is_isocelle(2,2,2)"
   ]
  },
  {
   "cell_type": "code",
   "execution_count": 4,
   "metadata": {},
   "outputs": [
    {
     "data": {
      "text/plain": [
       "'les trois valeurs ne peuvent pas définir un triangle'"
      ]
     },
     "execution_count": 4,
     "metadata": {},
     "output_type": "execute_result"
    }
   ],
   "source": [
    "is_isocelle(2,4,1)"
   ]
  },
  {
   "cell_type": "markdown",
   "metadata": {},
   "source": [
    "### EXO_2 : aire_ordonne"
   ]
  },
  {
   "cell_type": "code",
   "execution_count": 5,
   "metadata": {},
   "outputs": [],
   "source": [
    "from math import sqrt, pow\n",
    "\n",
    "def aire_ordonne(a, b, c):\n",
    "    if is_valide(a, b, c):\n",
    "        ordered_list = sorted([a, b, c])\n",
    "        u1, u2, u3 = ordered_list[0], ordered_list[1], ordered_list[2]\n",
    "        aire = 0.5*sqrt(u1*u1*u3*u3 - pow(((u1*u1 - u2*u2 + u3*u3)/2), 2))\n",
    "        return aire\n",
    "    else:\n",
    "        return 'les trois valeurs ne peuvent pas définir un triangle'"
   ]
  },
  {
   "cell_type": "code",
   "execution_count": 6,
   "metadata": {},
   "outputs": [
    {
     "data": {
      "text/plain": [
       "2.9047375096555625"
      ]
     },
     "execution_count": 6,
     "metadata": {},
     "output_type": "execute_result"
    }
   ],
   "source": [
    "aire_ordonne(4, 3, 2)"
   ]
  },
  {
   "cell_type": "code",
   "execution_count": 7,
   "metadata": {},
   "outputs": [
    {
     "data": {
      "text/plain": [
       "4.47213595499958"
      ]
     },
     "execution_count": 7,
     "metadata": {},
     "output_type": "execute_result"
    }
   ],
   "source": [
    "aire_ordonne(4, 3, 3)"
   ]
  },
  {
   "cell_type": "code",
   "execution_count": 8,
   "metadata": {},
   "outputs": [
    {
     "data": {
      "text/plain": [
       "6.928203230275509"
      ]
     },
     "execution_count": 8,
     "metadata": {},
     "output_type": "execute_result"
    }
   ],
   "source": [
    "aire_ordonne(4, 4, 4)"
   ]
  },
  {
   "cell_type": "code",
   "execution_count": 9,
   "metadata": {},
   "outputs": [
    {
     "data": {
      "text/plain": [
       "6.0"
      ]
     },
     "execution_count": 9,
     "metadata": {},
     "output_type": "execute_result"
    }
   ],
   "source": [
    "aire_ordonne(3, 4, 5)"
   ]
  },
  {
   "cell_type": "markdown",
   "metadata": {},
   "source": [
    "### EXO_3 : une fonction qui permet de valider un triangle ou pas"
   ]
  },
  {
   "cell_type": "code",
   "execution_count": 10,
   "metadata": {},
   "outputs": [],
   "source": [
    "# vous trouverez la solution incluse dans l'exo_1 ci-dessus\n",
    "# c'est la fonction is_valide() plus haut"
   ]
  },
  {
   "cell_type": "markdown",
   "metadata": {},
   "source": [
    "### EXO_4 : triangles spéciaux"
   ]
  },
  {
   "cell_type": "code",
   "execution_count": 11,
   "metadata": {},
   "outputs": [],
   "source": [
    "from itertools import permutations \n",
    "\n",
    "def perimettre(a, b, c):\n",
    "    if is_valide(a, b, c):\n",
    "        return a+b+c\n",
    "    else: \n",
    "        return 'les trois valeurs ne peuvent pas définir un triangle'\n",
    "\n",
    "def nb_triangles_speciaux(n, p):\n",
    "    \"\"\"\n",
    "    on a déja définit une fonction qui calcule l'aire d'un triangle,\n",
    "    et on a définit aussi une fonction qui permet de valider un triangle,\n",
    "    donc on va les réutiliser dans cet exo, et on doit juste implémenter une autre fonction\n",
    "    qui calcule le pérmimétre d'un triagle qu'on appellera \"perimettre()\"\n",
    "    \"\"\"\n",
    "    # Get all permutations \n",
    "    perm = permutations(range(n, p+1), 3) \n",
    "    l = [set(p) for p in perm] \n",
    "    new_list = [] \n",
    "    for i in l : \n",
    "        if i not in new_list: \n",
    "            new_list.append(i)\n",
    "\n",
    "\n",
    "    valide_list = [tuple(item) for item in new_list]  \n",
    "    valide_list = [item for item in valide_list if is_valide(item[0], item[1], item[2])]\n",
    "    valide_list = [item for item in valide_list if aire_ordonne(item[0], item[1], item[2])==perimettre(item[0], item[1], item[2])]\n",
    "    return len(valide_list)"
   ]
  },
  {
   "cell_type": "code",
   "execution_count": 12,
   "metadata": {},
   "outputs": [
    {
     "data": {
      "text/plain": [
       "4"
      ]
     },
     "execution_count": 12,
     "metadata": {},
     "output_type": "execute_result"
    }
   ],
   "source": [
    "nb_triangles_speciaux(1, 20)"
   ]
  },
  {
   "cell_type": "code",
   "execution_count": null,
   "metadata": {},
   "outputs": [],
   "source": []
  },
  {
   "cell_type": "code",
   "execution_count": null,
   "metadata": {},
   "outputs": [],
   "source": []
  }
 ],
 "metadata": {
  "kernelspec": {
   "display_name": "Python 3",
   "language": "python",
   "name": "python3"
  },
  "language_info": {
   "codemirror_mode": {
    "name": "ipython",
    "version": 3
   },
   "file_extension": ".py",
   "mimetype": "text/x-python",
   "name": "python",
   "nbconvert_exporter": "python",
   "pygments_lexer": "ipython3",
   "version": "3.8.3"
  }
 },
 "nbformat": 4,
 "nbformat_minor": 4
}
