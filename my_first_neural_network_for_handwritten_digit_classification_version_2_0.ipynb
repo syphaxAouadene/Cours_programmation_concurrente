{
  "nbformat": 4,
  "nbformat_minor": 0,
  "metadata": {
    "colab": {
      "name": "my_first_neural_network_for_handwritten_digit_classification version 2.0.ipynb",
      "provenance": [],
      "authorship_tag": "ABX9TyNe3NRAfiAc/WAfj8VYotR6",
      "include_colab_link": true
    },
    "kernelspec": {
      "name": "python3",
      "display_name": "Python 3"
    },
    "language_info": {
      "name": "python"
    }
  },
  "cells": [
    {
      "cell_type": "markdown",
      "metadata": {
        "id": "view-in-github",
        "colab_type": "text"
      },
      "source": [
        "<a href=\"https://colab.research.google.com/github/syphaxAouadene/Cours_programmation_concurrente/blob/main/my_first_neural_network_for_handwritten_digit_classification_version_2_0.ipynb\" target=\"_parent\"><img src=\"https://colab.research.google.com/assets/colab-badge.svg\" alt=\"Open In Colab\"/></a>"
      ]
    },
    {
      "cell_type": "code",
      "metadata": {
        "id": "COCCpKrk0cmw"
      },
      "source": [
        ""
      ],
      "execution_count": null,
      "outputs": []
    },
    {
      "cell_type": "code",
      "metadata": {
        "colab": {
          "base_uri": "https://localhost:8080/"
        },
        "id": "HJVQMAlSsyCc",
        "outputId": "dbc06667-64ab-44e8-d978-6ca21a18e459"
      },
      "source": [
        "import numpy as np\n",
        "import pandas as pd\n",
        "import time\n",
        "from IPython.display import clear_output\n",
        "import json\n",
        "import matplotlib.pyplot as plt\n",
        "%pylab inline\n",
        "import os"
      ],
      "execution_count": 1,
      "outputs": [
        {
          "output_type": "stream",
          "text": [
            "Populating the interactive namespace from numpy and matplotlib\n"
          ],
          "name": "stdout"
        }
      ]
    },
    {
      "cell_type": "code",
      "metadata": {
        "id": "DAYSvMPYsy05"
      },
      "source": [
        "from mlxtend.data import loadlocal_mnist\n",
        "import platform"
      ],
      "execution_count": 2,
      "outputs": []
    },
    {
      "cell_type": "code",
      "metadata": {
        "colab": {
          "base_uri": "https://localhost:8080/"
        },
        "id": "Gg09QpqgtTza",
        "outputId": "25731531-a3c0-4a2c-c9df-8117c45e40e4"
      },
      "source": [
        "from google.colab import drive\n",
        "drive.mount('/content/drive')"
      ],
      "execution_count": 3,
      "outputs": [
        {
          "output_type": "stream",
          "text": [
            "Drive already mounted at /content/drive; to attempt to forcibly remount, call drive.mount(\"/content/drive\", force_remount=True).\n"
          ],
          "name": "stdout"
        }
      ]
    },
    {
      "cell_type": "code",
      "metadata": {
        "id": "Lin2XPzwsy7J"
      },
      "source": [
        "# def fcl(inputs_layer, nbr_neurons, weights, biais, activation_type='ReLU'):\n",
        "#     current_layer = []\n",
        "#     current_layer = flatten(np.dot(weights, inputs_layer) + biais) \n",
        "#     output_layer = activation_function(current_layer, activation_type)\n",
        "#     return output_layer.reshape(len(output_layer), 1)\n",
        "\n",
        "# def fcl_softmax(inputs_layer, nbr_neurons, weights, biais, activation_type='ReLU'):\n",
        "#     current_layer = []\n",
        "#     current_layer = flatten(np.dot(weights, inputs_layer) + biais)\n",
        "#     output_layer = current_layer\n",
        "#     return output_layer.reshape(len(output_layer), 1)\n",
        "   \n",
        "def activation_function(layer, type_of_activation='relu'):\n",
        "    type_of_activation = type_of_activation.lower()\n",
        "    switcher = {\n",
        "        'relu': ReLU,\n",
        "        'tanh': tanh,\n",
        "        'segmoid': segmoid\n",
        "    }\n",
        "    # Get the function from switcher dictionary\n",
        "    activation_type = switcher.get(type_of_activation, lambda: \"Invalid type_of_activation_function, please choose either 'ReLU' or 'tanh' or 'segmoid' !\")\n",
        "    return activation_type(layer)\n",
        "    \n",
        "    \n",
        "def ReLU(layer):\n",
        "    return layer * (layer > 0)\n",
        "\n",
        "def d_ReLU(layer):\n",
        "    return 1. * (layer > 0)\n",
        "\n",
        "def tanh(layer):\n",
        "    r = (np.exp(layer)-np.exp(-1*layer))/(np.exp(layer)+np.exp(-1*layer))   \n",
        "    return np.array(r)\n",
        "\n",
        "def d_tanh(layer):\n",
        "    return 1 - tanh(layer) * tanh(layer)\n",
        "\n",
        "def segmoid(layer):\n",
        "    return np.array(1/(1+np.exp(-1*layer)))\n",
        "\n",
        "def d_segmoid(vector):\n",
        "    \"\"\"\n",
        "    cette fontion prend un vector en entrée et retourne la dérivée de segmoid par rapport a ce vector\n",
        "    \"\"\"\n",
        "    return segmoid(vector) * (1 - segmoid(vector))\n",
        "\n",
        "def softmax(data):\n",
        "    proba_values = np.exp(data)/(np.sum(np.exp(data)))   \n",
        "    return np.array(proba_values)\n",
        "\n",
        "def categoricalCrossEntropy(generated_values, target_values):\n",
        "    somme = 0\n",
        "    for i in range(len(generated_values)):\n",
        "        somme = somme + target_values[i] * np.log(generated_values[i])\n",
        "    return (-1) * somme \n",
        "\n",
        "\n",
        "# def update_weights(dL_dY, weights, biais, inputs, lrate):\n",
        "#     \"\"\"\n",
        "#     arguments :\n",
        "#     dL_dY : un vecteur des dérivées de la couche supérieure par rapport a la couche de sortie Y de dimension n_outputs\n",
        "#     weights : la matrice des poids de dimension (n_inputs x n_outputs)\n",
        "#     inputs : le vecteur de sortie de la couche précedente de dimension n_inputs\n",
        "#     lrate : learning rate (scalar)\n",
        "#     \"\"\"\n",
        "#     dL_dW = np.dot(dL_dY, np.transpose(inputs))\n",
        "#     new_weights = flatten(weights) - lrate * flatten(dL_dW)\n",
        "#     new_biais = biais - lrate * dL_dY\n",
        "#     return new_weights.reshape(weights.shape), new_biais\n",
        "\n",
        "# def calcul_dL_dX(dL_dY, weights):\n",
        "#     return np.dot(np.transpose(weights), dL_dY)\n",
        "\n",
        "def normelize(img):\n",
        "    return img/255\n",
        "\n",
        "def flatten(img):\n",
        "    return img.flatten()\n",
        "\n",
        "def show_image(img):\n",
        "    plt.imshow(img, cmap=plt.cm.binary)\n",
        "    plt.show()\n",
        "\n",
        "# def normelize_with_mean_and_std(img):\n",
        "#     return (img - img.mean())/(img.std())\n",
        "    \n",
        "def init_params(my_network):\n",
        "    nbr_layers = len(my_network) - 1\n",
        "#     W, B = np.array([]), np.array([])\n",
        "    W, B = [], []\n",
        "    for i in range(nbr_layers):\n",
        "        W.append(np.random.randn(my_network[i+1], my_network[i]))\n",
        "        B.append(np.random.randn(my_network[i+1], 1))\n",
        "#         np.concatenate([W, np.random.randn(my_network[i+1], my_network[i])])\n",
        "#         np.concatenate([B, np.random.randn(my_network[i+1], 1)])\n",
        "    return W, B\n",
        "\n",
        "def forward_pass(img, W, B):\n",
        "    \"\"\"\n",
        "    here we will use this notation :\n",
        "    Z[i] = W[i].X + B[i]\n",
        "    A[i] = activation_function(Z[i])\n",
        "    Z is a list that carries all the output of each layer\n",
        "    A is a list that carries all the output of each activation function\n",
        "    \"\"\"\n",
        "    Z, A = [], [img]\n",
        "    for i in range(len(W)):\n",
        "        if i == 0: # we have to multiply input layer with weights because we're in the first layer\n",
        "            Z.append(np.dot(W[i], img) + B[i])\n",
        "            A.append(ReLU(Z[i]))\n",
        "        elif i == len(W)-1: # we have to use softmax as activation layer because we're in the last layer\n",
        "            Z.append(np.dot(W[i], A[i]) + B[i])\n",
        "            A.append(softmax(Z[i]))\n",
        "        else: # we're in the hidden layer\n",
        "            Z.append(np.dot(W[i], A[i]) + B[i])\n",
        "            A.append(ReLU(Z[i]))\n",
        "    return Z, A\n",
        "\n",
        "def one_hot(y):\n",
        "    return np.eye(10)[y].reshape(10, 1)\n",
        "\n",
        "def update_W_and_B(W, dL_dW, B, dL_dB, lr):\n",
        "    \"\"\"\n",
        "    this function update the weights and Biais of myNetwork\n",
        "    arguments : \n",
        "    - W : it is a list that contains each Weight vector ([W1, W2, ...])\n",
        "    - dL_dW : derivatives of loss with respect to Weights (it is a list that contains Weights derivatives vectors [dL_dW1, dL_dW2, ...])\n",
        "    - B : it is a list that contains each Biais vector ([B1, B2, ...])\n",
        "    - dL_dB : derivatives of loss with respect to Biais (it is a list that contains Biais derivatives vectors [dL_dB1, dL_dB2, ...])\n",
        "    - lr : learning rate (real number)\n",
        "    \"\"\"\n",
        "    new_W = []\n",
        "    new_B = []\n",
        "    for w, dw in zip(W, dL_dW):\n",
        "#         print(w.shape, dw.shape)\n",
        "        w = w - lr * dw\n",
        "        new_W.append(w)\n",
        "    for b, db in zip(B, dL_dB):\n",
        "        b = b - lr * db\n",
        "        new_B.append(b)\n",
        "    return new_W, new_B\n",
        "\n",
        "def compute_accuracy(x_val, y_val, W, B):\n",
        "    '''\n",
        "        This function does a forward pass of x_validation, then checks if the indices\n",
        "        of the maximum value in the output equals the indices in the label\n",
        "        y. Then it sums over each prediction and calculates the accuracy.\n",
        "    '''\n",
        "    predictions = []\n",
        "\n",
        "    for x, y in zip(x_val, y_val):\n",
        "        # prepare the input image\n",
        "        X = flatten(x)\n",
        "        X = X.reshape(len(X), 1)\n",
        "        Y = one_hot(y)\n",
        "        # forward-propagation\n",
        "        Z, A = forward_pass(X, W, B)\n",
        "        output = A[-1]\n",
        "        pred = np.argmax(output)\n",
        "        predictions.append(pred == np.argmax(Y))\n",
        "\n",
        "    return np.mean(predictions)\n",
        "\n",
        "def classify(img, W, B):\n",
        "    \"\"\"\n",
        "    cette fonction recois une seule image en parametre\n",
        "    et elle reçois les poids W et les Biais B\n",
        "    et elle retourne la catégorie de l'image en entier 0..9\n",
        "    \"\"\"\n",
        "    predictions = []\n",
        "    X = flatten(img)\n",
        "    X = X.reshape(len(X), 1)\n",
        "    # forward-propagation\n",
        "    Z, A = forward_pass(X, W, B)\n",
        "    output = A[-1]\n",
        "    pred = np.argmax(output)\n",
        "    return pred\n",
        "\n",
        "def show_accuracies(train_images, train_labels, val_images, val_labels, test_images, test_labels, W, B):\n",
        "    \"\"\"\n",
        "    this function compute accuracy for each train-set, validation-set, and test-set\n",
        "    then print them all.\n",
        "    arguments : train_images, train_labels, val_images, val_labels, test_images, test_labels, W, B\n",
        "    \"\"\"\n",
        "    train_accuracy = compute_accuracy(train_images, train_labels, W, B)\n",
        "    val_accuracy = compute_accuracy(val_images, val_labels, W, B)\n",
        "    test_accuracy = compute_accuracy(test_images, test_labels, W, B)\n",
        "    print(\"Accuracies :\\n\\\n",
        "    - train accuracy = {} %\\n\\\n",
        "    - val accuracy = {} %\\n\\\n",
        "    - test accuracy = {} %\".format(train_accuracy*100, val_accuracy*100, test_accuracy*100))\n",
        "\n",
        "def backpro_pass(dL_dZ, A, Z, W, indice):\n",
        "    dl_dw = np.dot(dL_dZ, np.transpose(A[indice]))\n",
        "    dl_db = dL_dZ\n",
        "    dl_dz = 0\n",
        "    if indice*(-1) != len(Z)+1:\n",
        "      dl_da = np.dot(np.transpose(W[indice+1]), dL_dZ)\n",
        "      da_dz = d_ReLU(Z[indice])\n",
        "      dl_dz = dl_da * da_dz\n",
        "    return dl_dw, dl_db, dl_dz"
      ],
      "execution_count": 7,
      "outputs": []
    },
    {
      "cell_type": "code",
      "metadata": {
        "id": "YJQfMoEksy91"
      },
      "source": [
        "images_path = '/content/drive/MyDrive/Colab Notebooks/mnist_data/train-images.idx3-ubyte'\n",
        "labels_path = '/content/drive/MyDrive/Colab Notebooks/mnist_data/train-labels.idx1-ubyte'\n",
        "test_images_path = '/content/drive/MyDrive/Colab Notebooks/mnist_data/test-images.idx3-ubyte'\n",
        "test_labels_path = '/content/drive/MyDrive/Colab Notebooks/mnist_data/test-labels.idx1-ubyte'\n",
        "test_images, test_labels = loadlocal_mnist(test_images_path, test_labels_path)\n",
        "train_images, train_labels = loadlocal_mnist(images_path, labels_path)\n",
        "# group all the images in one list\n",
        "# then normelize all the images\n",
        "images = np.concatenate([train_images, test_images])\n",
        "labels = np.concatenate([train_labels, test_labels])\n",
        "images = normelize(images)\n",
        "# shuffle all the images and all labels randomly\n",
        "random.seed(12)\n",
        "indices = np.arange(len(labels))\n",
        "np.random.shuffle(indices)\n",
        "labels = labels[indices]\n",
        "images = images[indices]\n",
        "# change shape of the images\n",
        "images = images.reshape(len(images), 28, 28)\n",
        "# split the data into train, validation and test \n",
        "train_images, val_images, test_images = images[:60000], images[60000:65000], images[65000:]\n",
        "train_labels, val_labels, test_labels = labels[:60000], labels[60000:65000], labels[65000:]"
      ],
      "execution_count": 5,
      "outputs": []
    },
    {
      "cell_type": "code",
      "metadata": {
        "id": "91CcRAaq0dbD"
      },
      "source": [
        "# Initialize my network\n",
        "my_network = [28*28, 128, 10]\n",
        "number_epochs = 50\n",
        "# Initialize weights and biais of my_network\n",
        "W, B = init_params(my_network)\n",
        "\n",
        "# training\n",
        "start_time = time.time()\n",
        "losses = []\n",
        "accuracies = []\n",
        "for epoch in range(number_epochs):\n",
        "    epoch_losses = np.array([])\n",
        "    start_epoch_time = time.time()\n",
        "    for i in range(len(train_labels)):\n",
        "        # prepare the input image\n",
        "        X = flatten(train_images[i])\n",
        "        X = X.reshape(len(X), 1)\n",
        "        Y = one_hot(train_labels[i])\n",
        "        # forward-propagation\n",
        "        Z, A = forward_pass(X, W, B)\n",
        "        loss = categoricalCrossEntropy(A[-1], Y)\n",
        "        epoch_losses = np.concatenate([epoch_losses, loss])\n",
        "# example of neural network architecture :\n",
        "        # 28*28 ---> 128        ---> 20         ---> 10\n",
        "        # A[0] ----> Z[0], A[1] ---> Z[1], A[2] ---> Z[2], A[3]\n",
        "        # ---------> W[0], B[0] ---> W[1], B[1] ---> W[2], B[2]\n",
        "\n",
        "        # backpropagation\n",
        "        dL_dZ2 = A[-1] - Y\n",
        "        dL_dW, dL_dB, dL_dZ = [], [], [dL_dZ2]\n",
        "\n",
        "        indice = 0\n",
        "        for layer in range(len(my_network)-1):\n",
        "          dl_dw, dl_db, dl_dz = backpro_pass(dL_dZ[-1], A, Z, W, indice - 2)\n",
        "          dL_dW.append(dl_dw)\n",
        "          dL_dB.append(dl_db)\n",
        "          dL_dZ.append(dl_dz)\n",
        "          indice = indice - 1 \n",
        "          \n",
        "        # update weights W and Biais B  \n",
        "        dL_dW.reverse()\n",
        "        dL_dB.reverse()\n",
        "        W, B = update_W_and_B(W, dL_dW, B, dL_dB, 0.01)\n",
        "      \n",
        "    # Test my model at epoch = gama    \n",
        "    if (epoch % 5 == 0):\n",
        "        accuracy = compute_accuracy(val_images, val_labels, W, B)\n",
        "        accuracies.append(accuracy)\n",
        "        print('-------------------------------------------------------------------------> Accuracy : ',accuracies[-1])\n",
        "\n",
        "    print('epoch ',epoch,' -------> loss : ',np.array(epoch_losses).mean(), ' | time : ',(time.time() - start_epoch_time))\n",
        "    losses.append(np.array(epoch_losses).mean())\n",
        "\n",
        "print(\"--- %s seconds ---\" % (time.time() - start_time), ' | time : ',(time.time() - start_time)) \n",
        "fig, ax = plt.subplots(2)\n",
        "fig.suptitle('Graph of accuracy and loss')\n",
        "ax[0].plot(losses)\n",
        "ax[1].plot(accuracies)"
      ],
      "execution_count": null,
      "outputs": []
    },
    {
      "cell_type": "code",
      "metadata": {
        "id": "VVXPT7Yt0dfh"
      },
      "source": [
        "show_accuracies(train_images, train_labels, val_images, val_labels, test_images, test_labels, W, B)"
      ],
      "execution_count": null,
      "outputs": []
    },
    {
      "cell_type": "code",
      "metadata": {
        "id": "XJPY9vki0djG"
      },
      "source": [
        ""
      ],
      "execution_count": null,
      "outputs": []
    },
    {
      "cell_type": "code",
      "metadata": {
        "id": "7Gnb6LyX0dpY"
      },
      "source": [
        ""
      ],
      "execution_count": null,
      "outputs": []
    },
    {
      "cell_type": "code",
      "metadata": {
        "id": "RAxsKck_0dsy"
      },
      "source": [
        ""
      ],
      "execution_count": null,
      "outputs": []
    },
    {
      "cell_type": "code",
      "metadata": {
        "id": "AQmjKaJk0dvn"
      },
      "source": [
        ""
      ],
      "execution_count": null,
      "outputs": []
    },
    {
      "cell_type": "code",
      "metadata": {
        "id": "lDzm0zn40d4H"
      },
      "source": [
        ""
      ],
      "execution_count": null,
      "outputs": []
    },
    {
      "cell_type": "code",
      "metadata": {
        "id": "C6DhuC5m0d7j"
      },
      "source": [
        ""
      ],
      "execution_count": null,
      "outputs": []
    },
    {
      "cell_type": "code",
      "metadata": {
        "id": "ex3Y9-0z0d-f"
      },
      "source": [
        ""
      ],
      "execution_count": null,
      "outputs": []
    },
    {
      "cell_type": "code",
      "metadata": {
        "id": "Vcg5biLx0eBb"
      },
      "source": [
        ""
      ],
      "execution_count": null,
      "outputs": []
    },
    {
      "cell_type": "code",
      "metadata": {
        "id": "16Aeyjos0eEL"
      },
      "source": [
        ""
      ],
      "execution_count": null,
      "outputs": []
    }
  ]
}