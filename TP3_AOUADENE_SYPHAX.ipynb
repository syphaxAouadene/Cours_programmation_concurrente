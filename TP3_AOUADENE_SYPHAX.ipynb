{
 "cells": [
  {
   "cell_type": "markdown",
   "metadata": {},
   "source": [
    "### EXO1 :"
   ]
  },
  {
   "cell_type": "code",
   "execution_count": 1,
   "metadata": {},
   "outputs": [],
   "source": [
    "# Enoncé :\n",
    "# Donner une définition, avec signature et\n",
    "# hypothèse(s) éventuelle(s), de la fonction\n",
    "# compte_mots qui, étant donné une chaîne de\n",
    "# caractères s, renvoie le nombre de mots que\n",
    "# contient cette chaîne.\n",
    "# On considère ici les mots “au sens large” : les mots\n",
    "# sont séparés par un ou des espaces.\n",
    "\n",
    "# Exemple :\n",
    "# >>> compte_mots(’’) => 0\n",
    "# >>> compte_mots(’il ingurgite impunément un iguane.’) => 5\n",
    "# >>> compte_mots(’coursdeprogrammation’) => 1\n",
    "# >>> compte_mots(\" Attention aux espaces consécutifs ou terminaux \") => 6"
   ]
  },
  {
   "cell_type": "code",
   "execution_count": 2,
   "metadata": {},
   "outputs": [],
   "source": [
    "def compte_mots(str):\n",
    "    str = str.strip()\n",
    "    if str=='':\n",
    "        return 0\n",
    "    else:\n",
    "        while '  ' in str:\n",
    "            str = str.replace('  ', ' ')\n",
    "        return len(str.split(' '))"
   ]
  },
  {
   "cell_type": "code",
   "execution_count": 3,
   "metadata": {},
   "outputs": [
    {
     "data": {
      "text/plain": [
       "9"
      ]
     },
     "execution_count": 3,
     "metadata": {},
     "output_type": "execute_result"
    }
   ],
   "source": [
    "compte_mots(\"a        b    c  s d tyer    j               i               p   \")"
   ]
  },
  {
   "cell_type": "code",
   "execution_count": 4,
   "metadata": {},
   "outputs": [
    {
     "data": {
      "text/plain": [
       "0"
      ]
     },
     "execution_count": 4,
     "metadata": {},
     "output_type": "execute_result"
    }
   ],
   "source": [
    "compte_mots(\"\")"
   ]
  },
  {
   "cell_type": "code",
   "execution_count": 5,
   "metadata": {},
   "outputs": [
    {
     "data": {
      "text/plain": [
       "5"
      ]
     },
     "execution_count": 5,
     "metadata": {},
     "output_type": "execute_result"
    }
   ],
   "source": [
    "compte_mots(\"il ingurgite impunément un iguane.\")"
   ]
  },
  {
   "cell_type": "code",
   "execution_count": 6,
   "metadata": {},
   "outputs": [
    {
     "data": {
      "text/plain": [
       "1"
      ]
     },
     "execution_count": 6,
     "metadata": {},
     "output_type": "execute_result"
    }
   ],
   "source": [
    "compte_mots(\"coursdeprogrammation\")"
   ]
  },
  {
   "cell_type": "code",
   "execution_count": 7,
   "metadata": {},
   "outputs": [
    {
     "data": {
      "text/plain": [
       "6"
      ]
     },
     "execution_count": 7,
     "metadata": {},
     "output_type": "execute_result"
    }
   ],
   "source": [
    "compte_mots(\" Attention aux espaces consécutifs ou terminaux \")"
   ]
  },
  {
   "cell_type": "markdown",
   "metadata": {},
   "source": [
    "### EXO2 :"
   ]
  },
  {
   "cell_type": "code",
   "execution_count": 8,
   "metadata": {},
   "outputs": [],
   "source": [
    "# Enoncé :\n",
    "# Donner une définition, avec signature et\n",
    "# hypothèse(s) éventuelle(s), de la fonction\n",
    "# remplace_multiple qui, étant donné\n",
    "# deux chaînes de caractères s1 et s2, ainsi qu’un\n",
    "# entier naturel n, renvoie la chaîne obtenue en\n",
    "# remplaçant le caractère en position n dans s1 par le\n",
    "# premier caractère de s2, puis le caractère en\n",
    "# position 2n dans s1 par le deuxième caractère de\n",
    "# s2, etc.. Le remplacement s’arrête quand il n’y a plus\n",
    "# de caractères dans s2. Une fois la fin de s1 atteinte,\n",
    "# s’il reste des caractères dans s2 non utilisés, on les\n",
    "# ajoute au bout de la chaîne obtenue.\n",
    "\n",
    "# Exemple :\n",
    "# >>> remplace_multiple(’’,’’,2) => ‘’\n",
    "# >>> remplace_multiple(’abacus’,’oiseau’,2) =>’abocisseau’\n",
    "# >>> remplace_multiple(’hirondelles’,’nid’,3) =>’hirnndillds’"
   ]
  },
  {
   "cell_type": "code",
   "execution_count": 9,
   "metadata": {},
   "outputs": [],
   "source": [
    "def remplace_multiple(s1, s2, n):\n",
    "    if len(s1)==0 or len(s2)==0 or n==0:\n",
    "        return s1\n",
    "    else:\n",
    "        t = []\n",
    "        a = n\n",
    "        for i in range(len(s1)):\n",
    "            t.append(a)\n",
    "            a = a+n\n",
    "        index_s2 = 0\n",
    "        t = [e for e in t if e<len(s1)]\n",
    "        new_str = s1\n",
    "        for i in t:\n",
    "            new_str = new_str[:i] + s2[index_s2] + new_str[i+1:]\n",
    "            if index_s2<len(s2)-1:\n",
    "                index_s2 = index_s2 + 1\n",
    "            else:\n",
    "                break\n",
    "        return new_str+s2[len(t):]\n",
    "        return t\n",
    "            \n",
    "    "
   ]
  },
  {
   "cell_type": "code",
   "execution_count": 10,
   "metadata": {},
   "outputs": [
    {
     "data": {
      "text/plain": [
       "''"
      ]
     },
     "execution_count": 10,
     "metadata": {},
     "output_type": "execute_result"
    }
   ],
   "source": [
    "remplace_multiple('', '', 2)"
   ]
  },
  {
   "cell_type": "code",
   "execution_count": 11,
   "metadata": {},
   "outputs": [
    {
     "data": {
      "text/plain": [
       "'abocisseau'"
      ]
     },
     "execution_count": 11,
     "metadata": {},
     "output_type": "execute_result"
    }
   ],
   "source": [
    "remplace_multiple('abacus', 'oiseau', 2)"
   ]
  },
  {
   "cell_type": "code",
   "execution_count": 12,
   "metadata": {},
   "outputs": [
    {
     "data": {
      "text/plain": [
       "'hirnndillds'"
      ]
     },
     "execution_count": 12,
     "metadata": {},
     "output_type": "execute_result"
    }
   ],
   "source": [
    "remplace_multiple('hirondelles', 'nid', 3)"
   ]
  },
  {
   "cell_type": "markdown",
   "metadata": {},
   "source": [
    "### EXO 3 :"
   ]
  },
  {
   "cell_type": "code",
   "execution_count": null,
   "metadata": {},
   "outputs": [],
   "source": [
    "# Enoncé 1 :\n",
    "# Donner une définition de la fonction termeU qui,\n",
    "# étant donné un entier naturel n, rend la valeur de Un\n",
    "# correspondante.\n",
    "\n",
    "# Exemple :\n",
    "# >>> termeU(0) => 1\n",
    "# >>> termeU(1) => 3\n",
    "# >>> termeU(5) => 59013\n",
    "# >>> termeU(10) => 64885583712887818"
   ]
  },
  {
   "cell_type": "code",
   "execution_count": 18,
   "metadata": {},
   "outputs": [],
   "source": [
    "from math import pow\n",
    "\n",
    "def termeU(n):\n",
    "    if n==0:\n",
    "        return 1\n",
    "    else:\n",
    "        return int(pow(2, n)*termeU(n-1) + n)"
   ]
  },
  {
   "cell_type": "code",
   "execution_count": 19,
   "metadata": {},
   "outputs": [
    {
     "data": {
      "text/plain": [
       "1"
      ]
     },
     "execution_count": 19,
     "metadata": {},
     "output_type": "execute_result"
    }
   ],
   "source": [
    "termeU(0)"
   ]
  },
  {
   "cell_type": "code",
   "execution_count": 20,
   "metadata": {},
   "outputs": [
    {
     "data": {
      "text/plain": [
       "3"
      ]
     },
     "execution_count": 20,
     "metadata": {},
     "output_type": "execute_result"
    }
   ],
   "source": [
    "termeU(1)"
   ]
  },
  {
   "cell_type": "code",
   "execution_count": 21,
   "metadata": {},
   "outputs": [
    {
     "data": {
      "text/plain": [
       "59013"
      ]
     },
     "execution_count": 21,
     "metadata": {},
     "output_type": "execute_result"
    }
   ],
   "source": [
    "termeU(5)"
   ]
  },
  {
   "cell_type": "code",
   "execution_count": 22,
   "metadata": {},
   "outputs": [
    {
     "data": {
      "text/plain": [
       "64885583712887816"
      ]
     },
     "execution_count": 22,
     "metadata": {},
     "output_type": "execute_result"
    }
   ],
   "source": [
    "termeU(10)"
   ]
  },
  {
   "cell_type": "markdown",
   "metadata": {},
   "source": [
    "### EXO 4 :"
   ]
  },
  {
   "cell_type": "code",
   "execution_count": null,
   "metadata": {},
   "outputs": [],
   "source": [
    "# Enoncé :\n",
    "# Donner une définition (avec une version\n",
    "# fonctionnelle et une version non fonctionnel) de la\n",
    "# fonction factorielle qui, étant donné un entier naturel\n",
    "# n, rend sa factorielle.\n",
    "\n",
    "# >>> factorielle(1) => 1\n",
    "# >>> factorielle(2) => 2\n",
    "# >>> factorielle(3) => 6\n",
    "# >>> factorielle(4) => 24"
   ]
  },
  {
   "cell_type": "code",
   "execution_count": 23,
   "metadata": {},
   "outputs": [],
   "source": [
    "def factorielle(n):\n",
    "    if n==0:\n",
    "        return 1\n",
    "    else:\n",
    "        return n*factorielle(n-1)"
   ]
  },
  {
   "cell_type": "code",
   "execution_count": 24,
   "metadata": {},
   "outputs": [
    {
     "data": {
      "text/plain": [
       "1"
      ]
     },
     "execution_count": 24,
     "metadata": {},
     "output_type": "execute_result"
    }
   ],
   "source": [
    "factorielle(1)"
   ]
  },
  {
   "cell_type": "code",
   "execution_count": 25,
   "metadata": {},
   "outputs": [
    {
     "data": {
      "text/plain": [
       "2"
      ]
     },
     "execution_count": 25,
     "metadata": {},
     "output_type": "execute_result"
    }
   ],
   "source": [
    "factorielle(2)"
   ]
  },
  {
   "cell_type": "code",
   "execution_count": 26,
   "metadata": {},
   "outputs": [
    {
     "data": {
      "text/plain": [
       "6"
      ]
     },
     "execution_count": 26,
     "metadata": {},
     "output_type": "execute_result"
    }
   ],
   "source": [
    "factorielle(3)"
   ]
  },
  {
   "cell_type": "code",
   "execution_count": 27,
   "metadata": {},
   "outputs": [
    {
     "data": {
      "text/plain": [
       "24"
      ]
     },
     "execution_count": 27,
     "metadata": {},
     "output_type": "execute_result"
    }
   ],
   "source": [
    "factorielle(4)"
   ]
  },
  {
   "cell_type": "code",
   "execution_count": 38,
   "metadata": {},
   "outputs": [],
   "source": [
    "# Autre Méthode :\n",
    "\n",
    "def factorielle(n):\n",
    "    if n==0:\n",
    "        return 1\n",
    "    else:\n",
    "        result = 1\n",
    "        for i in range(1, n+1):\n",
    "            result = result*i\n",
    "        return result"
   ]
  },
  {
   "cell_type": "code",
   "execution_count": 39,
   "metadata": {},
   "outputs": [
    {
     "data": {
      "text/plain": [
       "1"
      ]
     },
     "execution_count": 39,
     "metadata": {},
     "output_type": "execute_result"
    }
   ],
   "source": [
    "factorielle(1)"
   ]
  },
  {
   "cell_type": "code",
   "execution_count": 40,
   "metadata": {},
   "outputs": [
    {
     "data": {
      "text/plain": [
       "2"
      ]
     },
     "execution_count": 40,
     "metadata": {},
     "output_type": "execute_result"
    }
   ],
   "source": [
    "factorielle(2)"
   ]
  },
  {
   "cell_type": "code",
   "execution_count": 41,
   "metadata": {},
   "outputs": [
    {
     "data": {
      "text/plain": [
       "6"
      ]
     },
     "execution_count": 41,
     "metadata": {},
     "output_type": "execute_result"
    }
   ],
   "source": [
    "factorielle(3)"
   ]
  },
  {
   "cell_type": "code",
   "execution_count": 42,
   "metadata": {},
   "outputs": [
    {
     "data": {
      "text/plain": [
       "24"
      ]
     },
     "execution_count": 42,
     "metadata": {},
     "output_type": "execute_result"
    }
   ],
   "source": [
    "factorielle(4)"
   ]
  },
  {
   "cell_type": "code",
   "execution_count": null,
   "metadata": {},
   "outputs": [],
   "source": []
  }
 ],
 "metadata": {
  "kernelspec": {
   "display_name": "Python 3",
   "language": "python",
   "name": "python3"
  },
  "language_info": {
   "codemirror_mode": {
    "name": "ipython",
    "version": 3
   },
   "file_extension": ".py",
   "mimetype": "text/x-python",
   "name": "python",
   "nbconvert_exporter": "python",
   "pygments_lexer": "ipython3",
   "version": "3.8.3"
  }
 },
 "nbformat": 4,
 "nbformat_minor": 4
}
