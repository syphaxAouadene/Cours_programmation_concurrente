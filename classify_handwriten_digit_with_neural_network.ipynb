{
  "nbformat": 4,
  "nbformat_minor": 0,
  "metadata": {
    "accelerator": "GPU",
    "colab": {
      "name": "classify_handwriten_digit_with_neural_network.ipynb",
      "provenance": [],
      "include_colab_link": true
    },
    "kernelspec": {
      "display_name": "Python 3",
      "language": "python",
      "name": "python3"
    },
    "language_info": {
      "codemirror_mode": {
        "name": "ipython",
        "version": 3
      },
      "file_extension": ".py",
      "mimetype": "text/x-python",
      "name": "python",
      "nbconvert_exporter": "python",
      "pygments_lexer": "ipython3",
      "version": "3.8.3"
    }
  },
  "cells": [
    {
      "cell_type": "markdown",
      "metadata": {
        "id": "view-in-github",
        "colab_type": "text"
      },
      "source": [
        "<a href=\"https://colab.research.google.com/github/syphaxAouadene/Cours_programmation_concurrente/blob/main/classify_handwriten_digit_with_neural_network.ipynb\" target=\"_parent\"><img src=\"https://colab.research.google.com/assets/colab-badge.svg\" alt=\"Open In Colab\"/></a>"
      ]
    },
    {
      "cell_type": "code",
      "metadata": {
        "colab": {
          "base_uri": "https://localhost:8080/"
        },
        "id": "7tLOWPFj0R1E",
        "outputId": "c4e444e0-ed33-4ecb-b7c2-f903f14b0e14"
      },
      "source": [
        "import numpy as np\n",
        "import pandas as pd\n",
        "import time\n",
        "from IPython.display import clear_output\n",
        "# import findspark\n",
        "import json\n",
        "import matplotlib.pyplot as plt\n",
        "%pylab inline\n",
        "import os"
      ],
      "execution_count": null,
      "outputs": [
        {
          "output_type": "stream",
          "text": [
            "Populating the interactive namespace from numpy and matplotlib\n"
          ],
          "name": "stdout"
        }
      ]
    },
    {
      "cell_type": "code",
      "metadata": {
        "id": "81PFhNwL0R1K"
      },
      "source": [
        "from mlxtend.data import loadlocal_mnist\n",
        "import platform"
      ],
      "execution_count": null,
      "outputs": []
    },
    {
      "cell_type": "code",
      "metadata": {
        "colab": {
          "base_uri": "https://localhost:8080/"
        },
        "id": "6kxicsMn4bOr",
        "outputId": "52d2a688-cf49-49a1-af4d-b402b28d4d47"
      },
      "source": [
        "from google.colab import drive\n",
        "drive.mount('/content/drive')"
      ],
      "execution_count": null,
      "outputs": [
        {
          "output_type": "stream",
          "text": [
            "Mounted at /content/drive\n"
          ],
          "name": "stdout"
        }
      ]
    },
    {
      "cell_type": "code",
      "metadata": {
        "id": "sB9CcWpf0R1K"
      },
      "source": [
        "images_path = '/content/drive/MyDrive/Colab Notebooks/mnist_data/train-images.idx3-ubyte'\n",
        "labels_path = '/content/drive/MyDrive/Colab Notebooks/mnist_data/train-labels.idx1-ubyte'\n",
        "images, labels = loadlocal_mnist(images_path, labels_path)\n",
        "images = images.reshape(60000, 28, 28)"
      ],
      "execution_count": null,
      "outputs": []
    },
    {
      "cell_type": "code",
      "metadata": {
        "colab": {
          "base_uri": "https://localhost:8080/",
          "height": 265
        },
        "id": "ghlxO-Ew0R1L",
        "outputId": "ec50a157-ff31-47d1-8edb-1fa3bdd88c6d"
      },
      "source": [
        "plt.imshow(images[0], cmap=plt.cm.binary)\n",
        "plt.show()"
      ],
      "execution_count": null,
      "outputs": [
        {
          "output_type": "display_data",
          "data": {
            "image/png": "[encoded data removed]",
            "text/plain": [
              "<Figure size 432x288 with 1 Axes>"
            ]
          },
          "metadata": {
            "tags": []
          }
        }
      ]
    },
    {
      "cell_type": "code",
      "metadata": {
        "colab": {
          "base_uri": "https://localhost:8080/"
        },
        "id": "7iD1K4080R1M",
        "outputId": "c981e017-00af-42a8-ae1a-0afb0e745040"
      },
      "source": [
        "len(images)"
      ],
      "execution_count": null,
      "outputs": [
        {
          "output_type": "execute_result",
          "data": {
            "text/plain": [
              "60000"
            ]
          },
          "metadata": {
            "tags": []
          },
          "execution_count": 6
        }
      ]
    },
    {
      "cell_type": "markdown",
      "metadata": {
        "id": "b6XFYibr0R1X"
      },
      "source": [
        "# feedforward and backpropagation :"
      ]
    },
    {
      "cell_type": "code",
      "metadata": {
        "colab": {
          "background_save": true,
          "base_uri": "https://localhost:8080/"
        },
        "id": "1pjlFaAm0R1X",
        "outputId": "17699620-1f11-4d9c-8323-1e47c0eccff3"
      },
      "source": [
        "def fcl(inputs_layer, nbr_neurons, weights, biais, activation_type='ReLU'):\n",
        "    current_layer = []\n",
        "    current_layer = flatten(np.dot(weights, inputs_layer) + biais) \n",
        "    output_layer = activation_function(current_layer, activation_type)\n",
        "    \n",
        "    return output_layer.reshape(len(output_layer), 1)\n",
        "\n",
        "def fcl_softmax(inputs_layer, nbr_neurons, weights, biais, activation_type='ReLU'):\n",
        "    current_layer = []\n",
        "    current_layer = flatten(np.dot(weights, inputs_layer) + biais)\n",
        "#     output_layer = activation_function(current_layer, activation_type)\n",
        "    output_layer = current_layer\n",
        "    return output_layer.reshape(len(output_layer), 1)\n",
        "   \n",
        "def activation_function(layer, type_of_activation='relu'):\n",
        "    type_of_activation = type_of_activation.lower()\n",
        "    switcher = {\n",
        "        'relu': ReLU,\n",
        "        'tanh': tanh,\n",
        "        'segmoid': segmoid\n",
        "    }\n",
        "    # Get the function from switcher dictionary\n",
        "    activation_type = switcher.get(type_of_activation, lambda: \"Invalid type_of_activation_function, please choose either 'ReLU' or 'tanh' or 'segmoid' !\")\n",
        "    return activation_type(layer)\n",
        "    \n",
        "    \n",
        "def ReLU(layer):\n",
        "    return layer * (layer > 0)\n",
        "\n",
        "def d_ReLU(layer):\n",
        "    return 1. * (layer > 0)\n",
        "\n",
        "def tanh(layer):\n",
        "    r = (np.exp(layer)-np.exp(-1*layer))/(np.exp(layer)+np.exp(-1*layer))   \n",
        "    return np.array(r)\n",
        "\n",
        "def d_tanh(layer):\n",
        "  return 1 - tanh(layer) * tanh(layer)\n",
        "\n",
        "# def tanh(layer):\n",
        "#     result = []\n",
        "#     for y in layer:\n",
        "#         r = (np.exp(y)-np.exp(-1*y))/(np.exp(y)+np.exp(-1*y))\n",
        "#         result.append(r)\n",
        "#     return np.array(result)\n",
        "\n",
        "# def segmoid(layer):\n",
        "#     result = []\n",
        "#     for y in layer:\n",
        "#         r = 1/(1+np.exp(-1*y))\n",
        "#         result.append(r)\n",
        "#     return np.array(result)\n",
        "\n",
        "def segmoid(layer):\n",
        "    # print(layer)\n",
        "    return np.array(1/(1+np.exp(-1*layer)))\n",
        "\n",
        "def softmax(data):\n",
        "    output = []\n",
        "    for value in data:\n",
        "        proba_value = np.exp(value)/(np.sum(np.exp(data)))\n",
        "        output.append(proba_value)\n",
        "    return np.array(output)\n",
        "\n",
        "def categoricalCrossEntropy(generated_values, target_values):\n",
        "    somme = 0\n",
        "    for i in range(len(generated_values)):\n",
        "        somme = somme + target_values[i] * np.log(generated_values[i])\n",
        "    return (-1) * somme \n",
        "\n",
        "\n",
        "def update_weights(dL_dY, weights, biais, inputs, lrate):\n",
        "    \"\"\"\n",
        "    arguments :\n",
        "    dL_dY : un vecteur des dérivées de la couche supérieure par rapport a la couche de sortie Y de dimension n_outputs\n",
        "    weights : la matrice des poids de dimension (n_inputs x n_outputs)\n",
        "    inputs : le vecteur de sortie de la couche précedente de dimension n_inputs\n",
        "    lrate : learning rate (scalar)\n",
        "    \"\"\"\n",
        "    dL_dW = np.dot(dL_dY, np.transpose(inputs))\n",
        "    new_weights = flatten(weights) - lrate * flatten(dL_dW)\n",
        "    # if (weights.flatten() == new_weights.flatten()).all():\n",
        "    #   print('################## koko #################\"')\n",
        "    new_biais = biais - lrate * dL_dY\n",
        "    return new_weights.reshape(weights.shape), new_biais\n",
        "\n",
        "def calcul_dL_dX(dL_dY, weights):\n",
        "    \n",
        "    return np.dot(np.transpose(weights), dL_dY)\n",
        "\n",
        "def normelize(img):\n",
        "    return img/255\n",
        "\n",
        "def flatten(img):\n",
        "    return img.flatten()\n",
        "\n",
        "\n",
        "def d_segmoid(vector):\n",
        "    \"\"\"\n",
        "    cette fontion prend un vector en entrée et retourne la dérivée de segmoid par rapport a ce vector\n",
        "    \"\"\"\n",
        "    return segmoid(vector) * (1 - segmoid(vector))\n",
        "\n",
        "\n",
        "def show_image(img):\n",
        "    plt.imshow(img, cmap=plt.cm.binary)\n",
        "    plt.show()\n",
        "    \n",
        "\n",
        "\n",
        "# img = images[0]\n",
        "# # on normalize notre image en divisant par 255 pour avoir des valeurs entre 0 et 1\n",
        "# normelized_img = normelize(img)\n",
        "# flatten_normelized_img = flatten(normelized_img)\n",
        "# input_to_fcl_1 = np.array(flatten_normelized_img).reshape(len(flatten_normelized_img), 1)\n",
        "\n",
        "\n",
        "start_time = time.time()\n",
        "\n",
        "random.seed(10)\n",
        "w1 = np.random.randn(128, 28*28)\n",
        "random.seed(11)\n",
        "b1 = np.random.randn(128, 1)\n",
        "\n",
        "random.seed(12)\n",
        "w2 = np.random.randn(10, 128)\n",
        "random.seed(13)\n",
        "b2 = np.random.randn(10, 1)\n",
        "\n",
        "# random.seed(12)\n",
        "# w3 = np.random.randn(10, 40)\n",
        "# b3 = np.random.randn(10, 1)\n",
        "\n",
        "losses = []\n",
        "loss = 0\n",
        "for j in range(10):\n",
        "    batch_losses = []\n",
        "    start_batch_time = time.time()\n",
        "    for i in range(50000):\n",
        "        \n",
        "        img = images[i]\n",
        "        # on normalize notre image end ivisant par 255 pour avoir des valeurs entre 0 et 1\n",
        "        normelized_img = normelize(img)\n",
        "        flatten_normelized_img = flatten(normelized_img)\n",
        "        input_to_fcl_1 = np.array(flatten_normelized_img).reshape(len(flatten_normelized_img), 1)\n",
        "        output_of_fcl_1 = fcl(input_to_fcl_1, 128, w1, b1, 'relu')\n",
        "        input_to_fcl_2 = output_of_fcl_1\n",
        "#         output_of_fcl_2 = fcl(input_to_fcl_2, 10, w2, b2, 'segmoid')\n",
        "        output_of_fcl_2 = fcl_softmax(input_to_fcl_2, 10, w2, b2, 'relu')\n",
        "#         input_to_fcl_3 = output_of_fcl_2\n",
        "#         output_of_fcl_3 = fcl(input_to_fcl_3, 10, w3, b3, 'segmoid')\n",
        "        # SOFTMAX\n",
        "        input_to_softmax = output_of_fcl_2\n",
        "        output_of_softmax = softmax(input_to_softmax)\n",
        "        # CCE\n",
        "        \n",
        "        generated_values = output_of_softmax\n",
        "#         print(generated_values)\n",
        "        \n",
        "        target_values = np.eye(10)[labels[i]].reshape(10, 1)\n",
        "        loss = categoricalCrossEntropy(generated_values, target_values)\n",
        "        batch_losses.append(loss)\n",
        "        # BACKPROPAGATION\n",
        "        dl_dofcl2 = generated_values - target_values\n",
        "#         dl_dofcl2 = d_segmoid(dl_dofcl2)\n",
        "        \n",
        "#         new_w3 = update_weights(dl_dofcl3, w3, input_to_fcl_3, 0.1)\n",
        "#         print(loss)\n",
        "#         dl_dofcl2 = calcul_dL_dX(dl_dofcl3, w3)\n",
        "#         dl_dofcl2 = d_segmoid(dl_dofcl2)\n",
        "        # update w2\n",
        "        new_w2, new_b2 = update_weights(dl_dofcl2, w2, b2, input_to_fcl_2, 0.0005)\n",
        "        dl_dofcl1 = calcul_dL_dX(dl_dofcl2, w2)\n",
        "        # dl_dofcl1 = d_tanh(dl_dofcl1)\n",
        "        dl_dofcl1 = d_ReLU(dl_dofcl1)\n",
        "        # update w1\n",
        "        new_w1, new_b1 = update_weights(dl_dofcl1, w1, b1, input_to_fcl_1, 0.0005)\n",
        "        w1 = new_w1\n",
        "        w2 = new_w2\n",
        "        b1 = new_b1\n",
        "        b2 = new_b2\n",
        "#         w3 = new_w3\n",
        "    print('epoch ',j,' -------> loss : ',np.array(batch_losses).mean(), ' | time : ',(time.time() - start_batch_time))\n",
        "    losses.append(np.array(batch_losses).mean())\n",
        "\n",
        "print(\"--- %s seconds ---\" % (time.time() - start_time), ' | time : ',(time.time() - start_time)) \n",
        "# gpu : 458.5637192726135 seconds ---\n",
        "# tpu : --- 641.5484182834625 seconds ---\n",
        "# cpu_myLapTop : --- 602.4395906925201 seconds ---\n",
        "# cpu_googleColab : --- 583.7042846679688 seconds ---\n",
        "plt.plot(losses)"
      ],
      "execution_count": null,
      "outputs": [
        {
          "output_type": "stream",
          "text": [
            "epoch  0  -------> loss :  3.625925692120682  | time :  52.5753276348114\n",
            "epoch  1  -------> loss :  2.3025266694919098  | time :  52.471380949020386\n",
            "epoch  2  -------> loss :  2.301225821632795  | time :  52.84491443634033\n",
            "epoch  3  -------> loss :  2.3012124931813767  | time :  53.2004292011261\n",
            "epoch  4  -------> loss :  2.30121210410645  | time :  52.40338897705078\n",
            "epoch  5  -------> loss :  2.301212073005699  | time :  53.16133904457092\n",
            "epoch  6  -------> loss :  2.301212070071239  | time :  52.99147152900696\n",
            "epoch  7  -------> loss :  2.301212069791412  | time :  53.43586254119873\n",
            "epoch  8  -------> loss :  2.3012120697647154  | time :  51.93843078613281\n",
            "epoch  9  -------> loss :  2.3012120697621636  | time :  51.75092053413391\n",
            "--- 527.1399838924408 seconds ---  | time :  527.1399912834167\n"
          ],
          "name": "stdout"
        },
        {
          "output_type": "execute_result",
          "data": {
            "text/plain": [
              "[<matplotlib.lines.Line2D at 0x7fc158c0a6d0>]"
            ]
          },
          "metadata": {
            "tags": []
          },
          "execution_count": 0
        },
        {
          "output_type": "display_data",
          "data": {
            "image/png": "[encoded data removed]",
            "text/plain": [
              "<Figure size 432x288 with 1 Axes>"
            ]
          },
          "metadata": {
            "tags": []
          }
        }
      ]
    },
    {
      "cell_type": "code",
      "metadata": {
        "colab": {
          "base_uri": "https://localhost:8080/"
        },
        "id": "Qoyh6ROK7k2V",
        "outputId": "c9457d82-4e1a-453d-d3c9-b8cfc1046115"
      },
      "source": [
        "i, j"
      ],
      "execution_count": null,
      "outputs": [
        {
          "output_type": "execute_result",
          "data": {
            "text/plain": [
              "(49999, 5)"
            ]
          },
          "metadata": {
            "tags": []
          },
          "execution_count": 28
        }
      ]
    },
    {
      "cell_type": "code",
      "metadata": {
        "id": "bBI1Jl5x7lBs"
      },
      "source": [
        "def segmoid(layer):\n",
        "    print(layer)\n",
        "    return np.array(1/(1+np.exp(-1*layer)))\n",
        "\n",
        "for i in range(50000):\n",
        "  img = images[i]\n",
        "  # on normalize notre image end ivisant par 255 pour avoir des valeurs entre 0 et 1\n",
        "  normelized_img = normelize(img)\n",
        "  flatten_normelized_img = flatten(normelized_img)\n",
        "  input_to_fcl_1 = np.array(flatten_normelized_img).reshape(len(flatten_normelized_img), 1)\n",
        "  output_of_fcl_1 = fcl(input_to_fcl_1, 128, w1, b1, 'segmoid')\n",
        "  input_to_fcl_2 = output_of_fcl_1\n",
        "  #         output_of_fcl_2 = fcl(input_to_fcl_2, 10, w2, b2, 'segmoid')\n",
        "  output_of_fcl_2 = fcl_softmax(input_to_fcl_2, 10, w2, b2, 'segmoid')\n",
        "  #         input_to_fcl_3 = output_of_fcl_2\n",
        "  #         output_of_fcl_3 = fcl(input_to_fcl_3, 10, w3, b3, 'segmoid')\n",
        "  # SOFTMAX\n",
        "  input_to_softmax = output_of_fcl_2\n",
        "  output_of_softmax = softmax(input_to_softmax)\n",
        "  # CCE\n",
        "\n",
        "  generated_values = output_of_softmax\n",
        "  #         print(generated_values)\n",
        "\n",
        "  target_values = np.eye(10)[labels[i]].reshape(10, 1)\n",
        "  loss = categoricalCrossEntropy(generated_values, target_values)\n",
        "  batch_losses.append(loss)\n",
        "  # BACKPROPAGATION\n",
        "  dl_dofcl2 = generated_values - target_values\n",
        "  #         dl_dofcl2 = d_segmoid(dl_dofcl2)\n",
        "\n",
        "  #         new_w3 = update_weights(dl_dofcl3, w3, input_to_fcl_3, 0.1)\n",
        "  #         print(loss)\n",
        "  #         dl_dofcl2 = calcul_dL_dX(dl_dofcl3, w3)\n",
        "  #         dl_dofcl2 = d_segmoid(dl_dofcl2)\n",
        "  # update w2\n",
        "  new_w2, new_b2 = update_weights(dl_dofcl2, w2, b2, input_to_fcl_2, 0.0001)\n",
        "  dl_dofcl1 = calcul_dL_dX(dl_dofcl2, w2)\n",
        "  dl_dofcl1 = d_segmoid(dl_dofcl1)\n",
        "  # update w1\n",
        "  new_w1, new_b1 = update_weights(dl_dofcl1, w1, b1, input_to_fcl_1, 0.0001)\n",
        "  w1 = new_w1\n",
        "  w2 = new_w2\n",
        "  b1 = new_b1\n",
        "  b2 = new_b2\n",
        "  #         w3 = new_w3"
      ],
      "execution_count": null,
      "outputs": []
    },
    {
      "cell_type": "code",
      "metadata": {
        "colab": {
          "base_uri": "https://localhost:8080/"
        },
        "id": "kxrwfZes0R1d",
        "outputId": "65920a7b-d9dc-4987-b30a-e3b59e2c7c53"
      },
      "source": [
        "def classify(img, w1, w2, b1, b2):\n",
        "    # on normalize notre image end ivisant par 255 pour avoir des valeurs entre 0 et 1\n",
        "    normelized_img = normelize(img)\n",
        "    flatten_normelized_img = flatten(normelized_img)\n",
        "    input_to_fcl_1 = np.array(flatten_normelized_img).reshape(len(flatten_normelized_img), 1)\n",
        "#     print(input_to_fcl_1)\n",
        "    output_of_fcl_1 = fcl(input_to_fcl_1, 128, w1, b1, 'segmoid')\n",
        "    # print(output_of_fcl_1)\n",
        "    input_to_fcl_2 = output_of_fcl_1\n",
        "#     print(input_to_fcl_2)\n",
        "#         output_of_fcl_2 = fcl(input_to_fcl_2, 10, w2, b2, 'segmoid')\n",
        "    output_of_fcl_2 = fcl_softmax(input_to_fcl_2, 10, w2, b2, 'segmoid')\n",
        "#         input_to_fcl_3 = output_of_fcl_2\n",
        "#         output_of_fcl_3 = fcl(input_to_fcl_3, 10, w3, b3, 'segmoid')\n",
        "    # SOFTMAX\n",
        "    input_to_softmax = output_of_fcl_2\n",
        "#     print(input_to_softmax)\n",
        "    output_of_softmax = softmax(input_to_softmax)\n",
        "    # CCE\n",
        "    print(output_of_softmax)\n",
        "#     print(output_of_softmax)\n",
        "    return output_of_softmax.argmax()\n",
        "\n",
        "classify(images[50202], w1, w2, b1, b2)"
      ],
      "execution_count": null,
      "outputs": [
        {
          "output_type": "stream",
          "text": [
            "[[0.09927115]\n",
            " [0.11074163]\n",
            " [0.09954261]\n",
            " [0.10156663]\n",
            " [0.09729269]\n",
            " [0.09077401]\n",
            " [0.09981214]\n",
            " [0.103788  ]\n",
            " [0.09676999]\n",
            " [0.10044115]]\n"
          ],
          "name": "stdout"
        },
        {
          "output_type": "execute_result",
          "data": {
            "text/plain": [
              "1"
            ]
          },
          "metadata": {
            "tags": []
          },
          "execution_count": 11
        }
      ]
    },
    {
      "cell_type": "code",
      "metadata": {
        "colab": {
          "base_uri": "https://localhost:8080/"
        },
        "id": "LAid26u-0R1e",
        "outputId": "32df1383-916f-49a1-e6c0-2f0ff5b6f095"
      },
      "source": [
        "classify(images[50203], w1, w2, b1, b2)"
      ],
      "execution_count": null,
      "outputs": [
        {
          "output_type": "stream",
          "text": [
            "[[0.09927115]\n",
            " [0.11074163]\n",
            " [0.09954261]\n",
            " [0.10156663]\n",
            " [0.09729269]\n",
            " [0.09077401]\n",
            " [0.09981214]\n",
            " [0.103788  ]\n",
            " [0.09676999]\n",
            " [0.10044115]]\n"
          ],
          "name": "stdout"
        },
        {
          "output_type": "execute_result",
          "data": {
            "text/plain": [
              "1"
            ]
          },
          "metadata": {
            "tags": []
          },
          "execution_count": 12
        }
      ]
    },
    {
      "cell_type": "code",
      "metadata": {
        "id": "wXNcxdcb0R1g",
        "outputId": "5ed76524-ace5-4dce-eb27-922b8daa513a"
      },
      "source": [
        "show_image(images[1200])"
      ],
      "execution_count": null,
      "outputs": [
        {
          "output_type": "display_data",
          "data": {
            "image/png": "[encoded data removed]",
            "text/plain": [
              "<Figure size 432x288 with 1 Axes>"
            ]
          },
          "metadata": {
            "tags": []
          }
        }
      ]
    },
    {
      "cell_type": "code",
      "metadata": {
        "id": "Ucc5GvtL0R1x"
      },
      "source": [
        ""
      ],
      "execution_count": null,
      "outputs": []
    },
    {
      "cell_type": "code",
      "metadata": {
        "id": "vDp4U8Ks0R1x"
      },
      "source": [
        ""
      ],
      "execution_count": null,
      "outputs": []
    },
    {
      "cell_type": "code",
      "metadata": {
        "id": "pS8uK33r0R1x"
      },
      "source": [
        ""
      ],
      "execution_count": null,
      "outputs": []
    },
    {
      "cell_type": "code",
      "metadata": {
        "id": "Prmiavnh0R1x"
      },
      "source": [
        ""
      ],
      "execution_count": null,
      "outputs": []
    }
  ]
}