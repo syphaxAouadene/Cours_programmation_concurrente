{
  "nbformat": 4,
  "nbformat_minor": 0,
  "metadata": {
    "colab": {
      "name": "my_first_neural_network_for_handwritten_digit_classification version 4.0.ipynb",
      "provenance": [],
      "authorship_tag": "ABX9TyNAdvETgESdUbm74Wt7je6I",
      "include_colab_link": true
    },
    "kernelspec": {
      "name": "python3",
      "display_name": "Python 3"
    },
    "language_info": {
      "name": "python"
    }
  },
  "cells": [
    {
      "cell_type": "markdown",
      "metadata": {
        "id": "view-in-github",
        "colab_type": "text"
      },
      "source": [
        "<a href=\"https://colab.research.google.com/github/syphaxAouadene/Cours_programmation_concurrente/blob/main/my_first_neural_network_for_handwritten_digit_classification_version_4_0.ipynb\" target=\"_parent\"><img src=\"https://colab.research.google.com/assets/colab-badge.svg\" alt=\"Open In Colab\"/></a>"
      ]
    },
    {
      "cell_type": "markdown",
      "metadata": {
        "id": "0PuX7MmP3Ns9"
      },
      "source": [
        "# Here we can choose your own architecture such as :\n",
        "\n",
        "\n",
        "*   nbr of neurons per layer\n",
        "*   nbr of layers\n",
        "*   type of activation function per layer\n",
        "*   value of learning rate\n",
        "\n",
        "but you can't choose the activation function of the last layer because since it's a problem of classification so we decide to keep it always as softmax function\n",
        "\n",
        "same thing with the loss function, we always use CCE\n",
        "\n",
        "\n",
        "\n",
        "# Here we classify a dataset of handwritten digit(mnist) with a deep neural network with 3 layers : input_layer + hidden_layer + output_layer\n",
        "\n",
        "link to download the data : colab.research.google.com/drive/1PKLEsL9G7cSTSnANAf2J6McjRiTImUNk#scrollTo=91CcRAaq0dbD\n",
        "\n",
        "# Architecture :\n",
        "- my network = [input_layer = 28*28, 1st_hidden_layer = 128, output_layer = 10]\n",
        "- activation functions = [input_layer = None, 1st_hidden_layer = tanh, output_layer = softmax]**texte en gras** \n",
        "- Loss function: we use Categorical CrossEntropy (CCE)\n",
        "- Number of epochs : 50\n",
        "- Learning rate : 0.01\n",
        "- my data = [train-set = 60000, validation-set = 5000, test-set = 5000]\n",
        "\n",
        "# Accuracies :\n",
        "- train accuracy = 99.69333333333333 %\n",
        "- val accuracy = 94.44 %\n",
        "- test accuracy = 93.78 %"
      ]
    },
    {
      "cell_type": "code",
      "metadata": {
        "colab": {
          "base_uri": "https://localhost:8080/"
        },
        "id": "HJVQMAlSsyCc",
        "outputId": "4d98c14e-5c68-4551-ed07-1e23edf0c8d1"
      },
      "source": [
        "import numpy as np\n",
        "import pandas as pd\n",
        "import time\n",
        "from IPython.display import clear_output\n",
        "import json\n",
        "import matplotlib.pyplot as plt\n",
        "%pylab inline\n",
        "import os"
      ],
      "execution_count": 1,
      "outputs": [
        {
          "output_type": "stream",
          "text": [
            "Populating the interactive namespace from numpy and matplotlib\n"
          ],
          "name": "stdout"
        }
      ]
    },
    {
      "cell_type": "code",
      "metadata": {
        "id": "DAYSvMPYsy05"
      },
      "source": [
        "from mlxtend.data import loadlocal_mnist\n",
        "import platform"
      ],
      "execution_count": 2,
      "outputs": []
    },
    {
      "cell_type": "code",
      "metadata": {
        "colab": {
          "base_uri": "https://localhost:8080/"
        },
        "id": "Gg09QpqgtTza",
        "outputId": "a65dbceb-f9bc-45f3-b128-24eded2ab887"
      },
      "source": [
        "from google.colab import drive\n",
        "drive.mount('/content/drive')"
      ],
      "execution_count": 3,
      "outputs": [
        {
          "output_type": "stream",
          "text": [
            "Drive already mounted at /content/drive; to attempt to forcibly remount, call drive.mount(\"/content/drive\", force_remount=True).\n"
          ],
          "name": "stdout"
        }
      ]
    },
    {
      "cell_type": "code",
      "metadata": {
        "id": "Lin2XPzwsy7J"
      },
      "source": [
        "def activation_function(layer, type_of_activation='relu'):\n",
        "    type_of_activation = type_of_activation.lower()\n",
        "    switcher = {\n",
        "        'relu': ReLU,\n",
        "        'tanh': tanh,\n",
        "        'segmoid': segmoid\n",
        "    }\n",
        "    # Get the function from switcher dictionary\n",
        "    activation_type = switcher.get(type_of_activation, lambda: \"Invalid type_of_activation_function, please choose either 'ReLU' or 'tanh' or 'segmoid' !\")\n",
        "    return activation_type(layer)\n",
        "    \n",
        "\n",
        "def ReLU(layer):\n",
        "    return layer * (layer > 0)\n",
        "\n",
        "\n",
        "def d_ReLU(layer):\n",
        "    return 1. * (layer > 0)\n",
        "\n",
        "\n",
        "def tanh(layer):\n",
        "    r = (np.exp(layer)-np.exp(-1*layer))/(np.exp(layer)+np.exp(-1*layer))   \n",
        "    return np.array(r)\n",
        "\n",
        "\n",
        "def d_tanh(layer):\n",
        "    return 1 - tanh(layer) * tanh(layer)\n",
        "\n",
        "\n",
        "def segmoid(layer):\n",
        "    return np.array(1/(1+np.exp(-1*layer)))\n",
        "\n",
        "\n",
        "def d_segmoid(vector):\n",
        "    \"\"\"\n",
        "    cette fontion prend un vector en entrée et retourne la dérivée de segmoid par rapport a ce vector\n",
        "    \"\"\"\n",
        "    return segmoid(vector) * (1 - segmoid(vector))\n",
        "\n",
        "\n",
        "def softmax(data):\n",
        "    proba_values = np.exp(data)/(np.sum(np.exp(data)))   \n",
        "    return np.array(proba_values)\n",
        "\n",
        "\n",
        "def categoricalCrossEntropy(generated_values, target_values):\n",
        "    somme = 0\n",
        "    for i in range(len(generated_values)):\n",
        "        somme = somme + target_values[i] * np.log(generated_values[i])\n",
        "    return (-1) * somme \n",
        "\n",
        "\n",
        "def normelize(img):\n",
        "    return img/255\n",
        "\n",
        "\n",
        "def flatten(img):\n",
        "    return img.flatten()\n",
        "\n",
        "\n",
        "def show_image(img):\n",
        "    plt.imshow(img, cmap=plt.cm.binary)\n",
        "    plt.show()\n",
        "    \n",
        "\n",
        "def init_params(my_network):\n",
        "    nbr_layers = len(my_network) - 1\n",
        "    W, B = [], []\n",
        "    for i in range(nbr_layers):\n",
        "        W.append(np.random.randn(my_network[i+1], my_network[i]))\n",
        "        B.append(np.random.randn(my_network[i+1], 1))\n",
        "    return W, B\n",
        "\n",
        "\n",
        "def forward_pass(img, W, B):\n",
        "    \"\"\"\n",
        "    here we will use this notation :\n",
        "    Z[i] = W[i].X + B[i]\n",
        "    A[i] = activation_function(Z[i])\n",
        "    Z is a list that carries all the output of each layer\n",
        "    A is a list that carries all the output of each activation function\n",
        "    \"\"\"\n",
        "    act_functions = activation_functions[1:-1] # we omit the first element and the last one because the first activation will be None, and the last one will always be 'softmax'\n",
        "    act_functions = [type_of_activation.lower() for type_of_activation in act_functions] # lawercase all the items\n",
        "    switcher = {\n",
        "        'relu': ReLU,\n",
        "        'tanh': tanh,\n",
        "        'segmoid': segmoid\n",
        "    }\n",
        "    # Get the function from switcher dictionary\n",
        "    activation_types = [switcher.get(type_of_activation, lambda: \"Invalid type_of_activation_function\") for type_of_activation in act_functions]\n",
        "    Z, A = [], [img]\n",
        "    for i in range(len(W)):\n",
        "        if i == len(W)-1: # we have to use softmax as activation layer because we're in the last layer\n",
        "            Z.append(np.dot(W[i], A[i]) + B[i])\n",
        "            A.append(softmax(Z[i]))\n",
        "        else: # we're in hidden layer\n",
        "            Z.append(np.dot(W[i], A[i]) + B[i])\n",
        "            A.append(activation_types[i](Z[i]))\n",
        "    return Z, A\n",
        "\n",
        "\n",
        "def one_hot(y):\n",
        "    return np.eye(10)[y].reshape(10, 1)\n",
        "\n",
        "\n",
        "def update_W_and_B(W, dL_dW, B, dL_dB, lr):\n",
        "    \"\"\"\n",
        "    this function update the weights and Biais of myNetwork\n",
        "    arguments : \n",
        "    - W : it is a list that contains each Weight vector ([W1, W2, ...])\n",
        "    - dL_dW : derivatives of loss with respect to Weights (it is a list that contains Weights derivatives vectors [dL_dW1, dL_dW2, ...])\n",
        "    - B : it is a list that contains each Biais vector ([B1, B2, ...])\n",
        "    - dL_dB : derivatives of loss with respect to Biais (it is a list that contains Biais derivatives vectors [dL_dB1, dL_dB2, ...])\n",
        "    - lr : learning rate (real number)\n",
        "    \"\"\"\n",
        "    new_W = []\n",
        "    new_B = []\n",
        "    for w, dw in zip(W, dL_dW):\n",
        "        w = w - lr * dw\n",
        "        new_W.append(w)\n",
        "    for b, db in zip(B, dL_dB):\n",
        "        b = b - lr * db\n",
        "        new_B.append(b)\n",
        "    return new_W, new_B\n",
        "\n",
        "\n",
        "def compute_accuracy(x_val, y_val, W, B):\n",
        "    '''\n",
        "        This function does a forward pass of x_validation, then checks if the indices\n",
        "        of the maximum value in the output equals the indices in the label\n",
        "        y. Then it sums over each prediction and calculates the accuracy.\n",
        "    '''\n",
        "    predictions = []\n",
        "\n",
        "    for x, y in zip(x_val, y_val):\n",
        "        # prepare the input image\n",
        "        X = flatten(x)\n",
        "        X = X.reshape(len(X), 1)\n",
        "        Y = one_hot(y)\n",
        "        # forward-propagation\n",
        "        Z, A = forward_pass(X, W, B)\n",
        "        output = A[-1]\n",
        "        pred = np.argmax(output)\n",
        "        predictions.append(pred == np.argmax(Y))\n",
        "\n",
        "    return np.mean(predictions)\n",
        "\n",
        "\n",
        "def classify(img, W, B):\n",
        "    \"\"\"\n",
        "    cette fonction recois une seule image en parametre\n",
        "    et elle reçois les poids W et les Biais B et la liste des fonctions d'activations\n",
        "    et elle retourne la catégorie de l'image en entier 0..9\n",
        "    \"\"\"\n",
        "    predictions = []\n",
        "    X = flatten(img)\n",
        "    X = X.reshape(len(X), 1)\n",
        "    # forward-propagation\n",
        "    Z, A = forward_pass(X, W, B)\n",
        "    output = A[-1]\n",
        "    pred = np.argmax(output)\n",
        "    return pred\n",
        "\n",
        "\n",
        "def show_accuracies(train_images, train_labels, val_images, val_labels, test_images, test_labels, W, B):\n",
        "    \"\"\"\n",
        "    this function compute accuracy for each train-set, validation-set, and test-set\n",
        "    then print them all.\n",
        "    arguments : train_images, train_labels, val_images, val_labels, test_images, test_labels, W, B\n",
        "    \"\"\"\n",
        "    train_accuracy = compute_accuracy(train_images, train_labels, W, B)\n",
        "    val_accuracy = compute_accuracy(val_images, val_labels, W, B)\n",
        "    test_accuracy = compute_accuracy(test_images, test_labels, W, B)\n",
        "    print(\"Accuracies :\\n\\\n",
        "    - train accuracy = {} %\\n\\\n",
        "    - val accuracy = {} %\\n\\\n",
        "    - test accuracy = {} %\".format(train_accuracy*100, val_accuracy*100, test_accuracy*100))\n",
        "\n",
        "\n",
        "def backpro_pass(dL_dZ, A, Z, W, indice, indx_act_func):\n",
        "    # we omit the first element and the last one because the first activation will be None, and the last one will always be 'softmax'\n",
        "    act_functions = activation_functions[1:-1] \n",
        "    # lawercase all the items\n",
        "    act_functions = [type_of_activation.lower() for type_of_activation in act_functions] \n",
        "    switcher = {\n",
        "        'relu': d_ReLU,\n",
        "        'tanh': d_tanh,\n",
        "        'segmoid': d_segmoid\n",
        "    }\n",
        "    # Get the function from switcher dictionary\n",
        "    activation_types = [switcher.get(type_of_activation, lambda: \"Invalid type_of_activation_function\") for type_of_activation in act_functions]\n",
        "    \n",
        "    dl_dw = np.dot(dL_dZ, np.transpose(A[indice]))\n",
        "    dl_db = dL_dZ\n",
        "    dl_dz = 0\n",
        "    if indice*(-1) != len(Z)+1:\n",
        "      dl_da = np.dot(np.transpose(W[indice+1]), dL_dZ)\n",
        "      da_dz = activation_types[indx_act_func](Z[indice])\n",
        "      dl_dz = dl_da * da_dz\n",
        "    return dl_dw, dl_db, dl_dz"
      ],
      "execution_count": 20,
      "outputs": []
    },
    {
      "cell_type": "code",
      "metadata": {
        "id": "YJQfMoEksy91"
      },
      "source": [
        "images_path = '/content/drive/MyDrive/Colab Notebooks/mnist_data/train-images.idx3-ubyte'\n",
        "labels_path = '/content/drive/MyDrive/Colab Notebooks/mnist_data/train-labels.idx1-ubyte'\n",
        "test_images_path = '/content/drive/MyDrive/Colab Notebooks/mnist_data/test-images.idx3-ubyte'\n",
        "test_labels_path = '/content/drive/MyDrive/Colab Notebooks/mnist_data/test-labels.idx1-ubyte'\n",
        "test_images, test_labels = loadlocal_mnist(test_images_path, test_labels_path)\n",
        "train_images, train_labels = loadlocal_mnist(images_path, labels_path)\n",
        "# group all the images in one list\n",
        "# then normelize all the images\n",
        "images = np.concatenate([train_images, test_images])\n",
        "labels = np.concatenate([train_labels, test_labels])\n",
        "images = normelize(images)\n",
        "# shuffle all the images and all labels randomly\n",
        "random.seed(12)\n",
        "indices = np.arange(len(labels))\n",
        "np.random.shuffle(indices)\n",
        "labels = labels[indices]\n",
        "images = images[indices]\n",
        "# change shape of the images\n",
        "images = images.reshape(len(images), 28, 28)\n",
        "# split the data into train, validation and test \n",
        "train_images, val_images, test_images = images[:60000], images[60000:65000], images[65000:]\n",
        "train_labels, val_labels, test_labels = labels[:60000], labels[60000:65000], labels[65000:]"
      ],
      "execution_count": 21,
      "outputs": []
    },
    {
      "cell_type": "code",
      "metadata": {
        "colab": {
          "base_uri": "https://localhost:8080/",
          "height": 1000
        },
        "id": "91CcRAaq0dbD",
        "outputId": "aa518d4c-64f6-4399-e791-c429a4b42eb0"
      },
      "source": [
        "# Initialize my network\n",
        "my_network = [28*28, 128, 10]\n",
        "activation_functions = [None, 'tanh', 'softmax']\n",
        "number_epochs = 50\n",
        "lr = 0.01\n",
        "# Initialize weights and biais of my_network\n",
        "W, B = init_params(my_network)\n",
        "\n",
        "# training\n",
        "start_time = time.time()\n",
        "losses = []\n",
        "accuracies = []\n",
        "for epoch in range(number_epochs):\n",
        "    epoch_losses = np.array([])\n",
        "    start_epoch_time = time.time()\n",
        "    for i in range(len(train_labels)):\n",
        "        # prepare the input image\n",
        "        X = flatten(train_images[i])\n",
        "        X = X.reshape(len(X), 1)\n",
        "        Y = one_hot(train_labels[i])\n",
        "        # forward-propagation\n",
        "        Z, A = forward_pass(X, W, B)\n",
        "        loss = categoricalCrossEntropy(A[-1], Y)\n",
        "        epoch_losses = np.concatenate([epoch_losses, loss])\n",
        "# example of neural network architecture that helps to understand my notation:\n",
        "        # 28*28 ---->| 128          --->| 20           --->| 10\n",
        "        # A[0] ----->| {Z[0], A[1]} --->| {Z[1], A[2]} --->| {Z[2], A[3]}\n",
        "        # ---------->| {W[0], B[0]} --->| {W[1], B[1]} --->| {W[2], B[2]}\n",
        "        # 1st_layer->| 1st_h_layer  --->| 2nd_h_layer  --->| outpyt_layer\n",
        "\n",
        "# example of functions :\n",
        "        # A[0] = input_layer = X\n",
        "        # Z[t] = W[t] @ A[t] + B[t]    ---------> '@' means produit matriciel\n",
        "        # A[t] = act_func(Z[t-1])\n",
        "        \n",
        "\n",
        "        # backpropagation\n",
        "        dL_dZ2 = A[-1] - Y\n",
        "        dL_dW, dL_dB, dL_dZ = [], [], [dL_dZ2]\n",
        "        # here the variable indice has for aim to keep truck to which layer are we\n",
        "        # and the variable indx_act_func has the objectif to tell us which activation function should we use in each layer\n",
        "        indice, indx_act_func = 0, -1\n",
        "        for layer in range(len(my_network)-1):\n",
        "          dl_dw, dl_db, dl_dz = backpro_pass(dL_dZ[-1], A, Z, W, indice - 2, indx_act_func)\n",
        "          dL_dW.append(dl_dw)\n",
        "          dL_dB.append(dl_db)\n",
        "          dL_dZ.append(dl_dz)\n",
        "          indice = indice - 1 \n",
        "          indx_act_func = indx_act_func - 1\n",
        "          \n",
        "        # update weights W and Biais B  \n",
        "        dL_dW.reverse()\n",
        "        dL_dB.reverse()\n",
        "        W, B = update_W_and_B(W, dL_dW, B, dL_dB, lr)\n",
        "      \n",
        "    # Test my model at epoch = gama    \n",
        "    if (epoch % 5 == 0):\n",
        "        accuracy = compute_accuracy(val_images, val_labels, W, B)\n",
        "        accuracies.append(accuracy)\n",
        "        print('---------------------------------------------------------------------------> Accuracy : ',accuracies[-1])\n",
        "\n",
        "    print('epoch ',epoch,' -------> loss : ',np.array(epoch_losses).mean(), ' | time : ',(time.time() - start_epoch_time))\n",
        "    losses.append(np.array(epoch_losses).mean())\n",
        "\n",
        "print(\"--- %s seconds ---\" % (time.time() - start_time), ' | time : ',(time.time() - start_time)) \n",
        "fig, ax = plt.subplots(2)\n",
        "fig.suptitle('Graph of accuracy and loss')\n",
        "ax[0].plot(losses)\n",
        "ax[1].plot(accuracies)"
      ],
      "execution_count": 25,
      "outputs": [
        {
          "output_type": "stream",
          "text": [
            "---------------------------------------------------------------------------> Accuracy :  0.8966\n",
            "epoch  0  -------> loss :  0.8390493598120258  | time :  64.74926209449768\n",
            "epoch  1  -------> loss :  0.3404889643428423  | time :  64.09603810310364\n",
            "epoch  2  -------> loss :  0.26349823412878404  | time :  63.50837206840515\n",
            "epoch  3  -------> loss :  0.22203373388668354  | time :  63.412933111190796\n",
            "epoch  4  -------> loss :  0.1946955972228019  | time :  63.458892583847046\n",
            "---------------------------------------------------------------------------> Accuracy :  0.929\n",
            "epoch  5  -------> loss :  0.1727025950760941  | time :  64.2703754901886\n",
            "epoch  6  -------> loss :  0.155249918230738  | time :  63.67026734352112\n",
            "epoch  7  -------> loss :  0.1410472131197574  | time :  63.39596486091614\n",
            "epoch  8  -------> loss :  0.1288779469672694  | time :  63.52583694458008\n",
            "epoch  9  -------> loss :  0.11821330265881691  | time :  63.56246376037598\n",
            "---------------------------------------------------------------------------> Accuracy :  0.9402\n",
            "epoch  10  -------> loss :  0.1085696010727483  | time :  64.3902895450592\n",
            "epoch  11  -------> loss :  0.09984904406310458  | time :  63.61401891708374\n",
            "epoch  12  -------> loss :  0.09191209432446859  | time :  63.40864324569702\n",
            "epoch  13  -------> loss :  0.08456450011512269  | time :  63.80045700073242\n",
            "epoch  14  -------> loss :  0.07793103758866166  | time :  63.71895170211792\n",
            "---------------------------------------------------------------------------> Accuracy :  0.9426\n",
            "epoch  15  -------> loss :  0.0719207842624626  | time :  64.11705899238586\n",
            "epoch  16  -------> loss :  0.0665382512229613  | time :  63.59957242012024\n",
            "epoch  17  -------> loss :  0.06173911918840217  | time :  63.4404399394989\n",
            "epoch  18  -------> loss :  0.05742764901793359  | time :  63.35372066497803\n",
            "epoch  19  -------> loss :  0.0534400592006467  | time :  63.68409442901611\n",
            "---------------------------------------------------------------------------> Accuracy :  0.943\n",
            "epoch  20  -------> loss :  0.049788687873556094  | time :  64.00218081474304\n",
            "epoch  21  -------> loss :  0.04643160905430735  | time :  63.604706048965454\n",
            "epoch  22  -------> loss :  0.04332826416296601  | time :  63.82453370094299\n",
            "epoch  23  -------> loss :  0.04048451666331679  | time :  63.67143201828003\n",
            "epoch  24  -------> loss :  0.03785971657547018  | time :  63.31999182701111\n",
            "---------------------------------------------------------------------------> Accuracy :  0.9458\n",
            "epoch  25  -------> loss :  0.03540260079068579  | time :  63.63195180892944\n",
            "epoch  26  -------> loss :  0.03309271828038538  | time :  63.39952254295349\n",
            "epoch  27  -------> loss :  0.030956583789865193  | time :  63.44507193565369\n",
            "epoch  28  -------> loss :  0.028944148121534386  | time :  63.32655715942383\n",
            "epoch  29  -------> loss :  0.02704660773789669  | time :  63.59115529060364\n",
            "---------------------------------------------------------------------------> Accuracy :  0.9448\n",
            "epoch  30  -------> loss :  0.02527397002970746  | time :  64.07827687263489\n",
            "epoch  31  -------> loss :  0.023664910510959397  | time :  63.4854781627655\n",
            "epoch  32  -------> loss :  0.022127958470629393  | time :  63.37947177886963\n",
            "epoch  33  -------> loss :  0.020733681624191116  | time :  63.389628648757935\n",
            "epoch  34  -------> loss :  0.0194030535215788  | time :  63.00039744377136\n",
            "---------------------------------------------------------------------------> Accuracy :  0.946\n",
            "epoch  35  -------> loss :  0.018201110967898004  | time :  63.727197885513306\n",
            "epoch  36  -------> loss :  0.017122494348428816  | time :  63.505043029785156\n",
            "epoch  37  -------> loss :  0.01612388383138104  | time :  63.12991809844971\n",
            "epoch  38  -------> loss :  0.015211280215162682  | time :  63.15040063858032\n",
            "epoch  39  -------> loss :  0.014364538826563219  | time :  63.34376096725464\n",
            "---------------------------------------------------------------------------> Accuracy :  0.9442\n",
            "epoch  40  -------> loss :  0.013557040522069038  | time :  63.60213494300842\n",
            "epoch  41  -------> loss :  0.012797783676193135  | time :  63.35032868385315\n",
            "epoch  42  -------> loss :  0.01211807670247508  | time :  63.33260488510132\n",
            "epoch  43  -------> loss :  0.011488387894613108  | time :  63.57106971740723\n",
            "epoch  44  -------> loss :  0.010931553606860288  | time :  63.39894938468933\n",
            "---------------------------------------------------------------------------> Accuracy :  0.9442\n",
            "epoch  45  -------> loss :  0.010420629056459805  | time :  64.07929110527039\n",
            "epoch  46  -------> loss :  0.009948255378984812  | time :  63.4331214427948\n",
            "epoch  47  -------> loss :  0.009505903794897163  | time :  63.51010084152222\n",
            "epoch  48  -------> loss :  0.009090376683802087  | time :  63.756407499313354\n",
            "epoch  49  -------> loss :  0.008691071278245577  | time :  63.76275396347046\n",
            "--- 3180.7177834510803 seconds ---  | time :  3180.7177929878235\n"
          ],
          "name": "stdout"
        },
        {
          "output_type": "execute_result",
          "data": {
            "text/plain": [
              "[<matplotlib.lines.Line2D at 0x7fa16ba8b490>]"
            ]
          },
          "metadata": {
            "tags": []
          },
          "execution_count": 25
        },
        {
          "output_type": "display_data",
          "data": {
            "image/png": "[encoded data removed]",
            "text/plain": [
              "<Figure size 432x288 with 2 Axes>"
            ]
          },
          "metadata": {
            "tags": [],
            "needs_background": "light"
          }
        }
      ]
    },
    {
      "cell_type": "code",
      "metadata": {
        "colab": {
          "base_uri": "https://localhost:8080/"
        },
        "id": "VVXPT7Yt0dfh",
        "outputId": "3f21f956-ceb8-4992-d4ba-76c62942dbd7"
      },
      "source": [
        "show_accuracies(train_images, train_labels, val_images, val_labels, test_images, test_labels, W, B)"
      ],
      "execution_count": 26,
      "outputs": [
        {
          "output_type": "stream",
          "text": [
            "Accuracies :\n",
            "    - train accuracy = 99.69333333333333 %\n",
            "    - val accuracy = 94.44 %\n",
            "    - test accuracy = 93.78 %\n"
          ],
          "name": "stdout"
        }
      ]
    },
    {
      "cell_type": "code",
      "metadata": {
        "id": "XJPY9vki0djG"
      },
      "source": [
        ""
      ],
      "execution_count": null,
      "outputs": []
    },
    {
      "cell_type": "code",
      "metadata": {
        "id": "7Gnb6LyX0dpY"
      },
      "source": [
        ""
      ],
      "execution_count": null,
      "outputs": []
    },
    {
      "cell_type": "code",
      "metadata": {
        "id": "RAxsKck_0dsy"
      },
      "source": [
        ""
      ],
      "execution_count": null,
      "outputs": []
    },
    {
      "cell_type": "code",
      "metadata": {
        "id": "AQmjKaJk0dvn"
      },
      "source": [
        ""
      ],
      "execution_count": null,
      "outputs": []
    },
    {
      "cell_type": "code",
      "metadata": {
        "id": "lDzm0zn40d4H"
      },
      "source": [
        ""
      ],
      "execution_count": null,
      "outputs": []
    },
    {
      "cell_type": "code",
      "metadata": {
        "id": "C6DhuC5m0d7j"
      },
      "source": [
        ""
      ],
      "execution_count": null,
      "outputs": []
    },
    {
      "cell_type": "code",
      "metadata": {
        "id": "ex3Y9-0z0d-f"
      },
      "source": [
        ""
      ],
      "execution_count": null,
      "outputs": []
    },
    {
      "cell_type": "code",
      "metadata": {
        "id": "Vcg5biLx0eBb"
      },
      "source": [
        ""
      ],
      "execution_count": null,
      "outputs": []
    },
    {
      "cell_type": "code",
      "metadata": {
        "id": "16Aeyjos0eEL"
      },
      "source": [
        ""
      ],
      "execution_count": null,
      "outputs": []
    }
  ]
}