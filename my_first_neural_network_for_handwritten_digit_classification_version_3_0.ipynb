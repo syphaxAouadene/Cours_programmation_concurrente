{
  "nbformat": 4,
  "nbformat_minor": 0,
  "metadata": {
    "colab": {
      "name": "my_first_neural_network_for_handwritten_digit_classification version 3.0.ipynb",
      "provenance": [],
      "authorship_tag": "ABX9TyMYeP8APf+qOKPHW9j5reZp",
      "include_colab_link": true
    },
    "kernelspec": {
      "name": "python3",
      "display_name": "Python 3"
    },
    "language_info": {
      "name": "python"
    }
  },
  "cells": [
    {
      "cell_type": "markdown",
      "metadata": {
        "id": "view-in-github",
        "colab_type": "text"
      },
      "source": [
        "<a href=\"https://colab.research.google.com/github/syphaxAouadene/Cours_programmation_concurrente/blob/main/my_first_neural_network_for_handwritten_digit_classification_version_3_0.ipynb\" target=\"_parent\"><img src=\"https://colab.research.google.com/assets/colab-badge.svg\" alt=\"Open In Colab\"/></a>"
      ]
    },
    {
      "cell_type": "markdown",
      "metadata": {
        "id": "0PuX7MmP3Ns9"
      },
      "source": [
        "Here we classify a dataset of handwritten digit(mnist) with a deep neural network with 4 layers :\n",
        "\n",
        "link to download the data : colab.research.google.com/drive/1PKLEsL9G7cSTSnANAf2J6McjRiTImUNk#scrollTo=91CcRAaq0dbD\n",
        "\n",
        "Architecture :\n",
        "- my network = [input_layer = 28*28, 1st_hidden_layer = 10, 2nd_hidden_layer = 20, output_layer = 10]\n",
        "- activation functions = [input_layer = None, 1st_hidden_layer = segmoid, 2nd_hidden_layer = segmoid, output_layer = softmax]**texte en gras** \n",
        "- Loss function: we use Categorical CrossEntropy (CCE)\n",
        "- Number of epochs : 50\n",
        "- Learning rate : 0.01\n",
        "- my data = [train-set = 60000, validation-set = 5000, test-set = 5000]\n",
        "\n",
        "Accuracies :\n",
        "- train accuracy = 94.12166666666667 %\n",
        "- val accuracy = 92.42 %\n",
        "- test accuracy = 92.47999999999999 % **texte en gras**"
      ]
    },
    {
      "cell_type": "code",
      "metadata": {
        "colab": {
          "base_uri": "https://localhost:8080/"
        },
        "id": "HJVQMAlSsyCc",
        "outputId": "08a2a195-7441-46bf-b875-17f4ada95c70"
      },
      "source": [
        "import numpy as np\n",
        "import pandas as pd\n",
        "import time\n",
        "from IPython.display import clear_output\n",
        "import json\n",
        "import matplotlib.pyplot as plt\n",
        "%pylab inline\n",
        "import os"
      ],
      "execution_count": 1,
      "outputs": [
        {
          "output_type": "stream",
          "text": [
            "Populating the interactive namespace from numpy and matplotlib\n"
          ],
          "name": "stdout"
        }
      ]
    },
    {
      "cell_type": "code",
      "metadata": {
        "id": "DAYSvMPYsy05"
      },
      "source": [
        "from mlxtend.data import loadlocal_mnist\n",
        "import platform"
      ],
      "execution_count": 2,
      "outputs": []
    },
    {
      "cell_type": "code",
      "metadata": {
        "colab": {
          "base_uri": "https://localhost:8080/"
        },
        "id": "Gg09QpqgtTza",
        "outputId": "c5dc89be-5db4-43d3-9638-0b18a613e053"
      },
      "source": [
        "from google.colab import drive\n",
        "drive.mount('/content/drive')"
      ],
      "execution_count": 3,
      "outputs": [
        {
          "output_type": "stream",
          "text": [
            "Mounted at /content/drive\n"
          ],
          "name": "stdout"
        }
      ]
    },
    {
      "cell_type": "code",
      "metadata": {
        "id": "Lin2XPzwsy7J"
      },
      "source": [
        "def activation_function(layer, type_of_activation='relu'):\n",
        "    type_of_activation = type_of_activation.lower()\n",
        "    switcher = {\n",
        "        'relu': ReLU,\n",
        "        'tanh': tanh,\n",
        "        'segmoid': segmoid\n",
        "    }\n",
        "    # Get the function from switcher dictionary\n",
        "    activation_type = switcher.get(type_of_activation, lambda: \"Invalid type_of_activation_function, please choose either 'ReLU' or 'tanh' or 'segmoid' !\")\n",
        "    return activation_type(layer)\n",
        "    \n",
        "    \n",
        "def ReLU(layer):\n",
        "    return layer * (layer > 0)\n",
        "\n",
        "def d_ReLU(layer):\n",
        "    return 1. * (layer > 0)\n",
        "\n",
        "def tanh(layer):\n",
        "    r = (np.exp(layer)-np.exp(-1*layer))/(np.exp(layer)+np.exp(-1*layer))   \n",
        "    return np.array(r)\n",
        "\n",
        "def d_tanh(layer):\n",
        "    return 1 - tanh(layer) * tanh(layer)\n",
        "\n",
        "def segmoid(layer):\n",
        "    return np.array(1/(1+np.exp(-1*layer)))\n",
        "\n",
        "def d_segmoid(vector):\n",
        "    \"\"\"\n",
        "    cette fontion prend un vector en entrée et retourne la dérivée de segmoid par rapport a ce vector\n",
        "    \"\"\"\n",
        "    return segmoid(vector) * (1 - segmoid(vector))\n",
        "\n",
        "def softmax(data):\n",
        "    proba_values = np.exp(data)/(np.sum(np.exp(data)))   \n",
        "    return np.array(proba_values)\n",
        "\n",
        "def categoricalCrossEntropy(generated_values, target_values):\n",
        "    somme = 0\n",
        "    for i in range(len(generated_values)):\n",
        "        somme = somme + target_values[i] * np.log(generated_values[i])\n",
        "    return (-1) * somme \n",
        "\n",
        "def normelize(img):\n",
        "    return img/255\n",
        "\n",
        "def flatten(img):\n",
        "    return img.flatten()\n",
        "\n",
        "def show_image(img):\n",
        "    plt.imshow(img, cmap=plt.cm.binary)\n",
        "    plt.show()\n",
        "    \n",
        "def init_params(my_network):\n",
        "    nbr_layers = len(my_network) - 1\n",
        "    W, B = [], []\n",
        "    for i in range(nbr_layers):\n",
        "        W.append(np.random.randn(my_network[i+1], my_network[i]))\n",
        "        B.append(np.random.randn(my_network[i+1], 1))\n",
        "    return W, B\n",
        "\n",
        "def forward_pass(img, W, B):\n",
        "    \"\"\"\n",
        "    here we will use this notation :\n",
        "    Z[i] = W[i].X + B[i]\n",
        "    A[i] = activation_function(Z[i])\n",
        "    Z is a list that carries all the output of each layer\n",
        "    A is a list that carries all the output of each activation function\n",
        "    \"\"\"\n",
        "    Z, A = [], [img]\n",
        "    for i in range(len(W)):\n",
        "        if i == 0: # we have to multiply input layer with weights because we're in the first layer\n",
        "            Z.append(np.dot(W[i], img) + B[i])\n",
        "            A.append(segmoid(Z[i]))\n",
        "        elif i == len(W)-1: # we have to use softmax as activation layer because we're in the last layer\n",
        "            Z.append(np.dot(W[i], A[i]) + B[i])\n",
        "            A.append(softmax(Z[i]))\n",
        "        else: # we're in the hidden layer\n",
        "            Z.append(np.dot(W[i], A[i]) + B[i])\n",
        "            A.append(segmoid(Z[i]))\n",
        "    return Z, A\n",
        "\n",
        "def one_hot(y):\n",
        "    return np.eye(10)[y].reshape(10, 1)\n",
        "\n",
        "def update_W_and_B(W, dL_dW, B, dL_dB, lr):\n",
        "    \"\"\"\n",
        "    this function update the weights and Biais of myNetwork\n",
        "    arguments : \n",
        "    - W : it is a list that contains each Weight vector ([W1, W2, ...])\n",
        "    - dL_dW : derivatives of loss with respect to Weights (it is a list that contains Weights derivatives vectors [dL_dW1, dL_dW2, ...])\n",
        "    - B : it is a list that contains each Biais vector ([B1, B2, ...])\n",
        "    - dL_dB : derivatives of loss with respect to Biais (it is a list that contains Biais derivatives vectors [dL_dB1, dL_dB2, ...])\n",
        "    - lr : learning rate (real number)\n",
        "    \"\"\"\n",
        "    new_W = []\n",
        "    new_B = []\n",
        "    for w, dw in zip(W, dL_dW):\n",
        "        w = w - lr * dw\n",
        "        new_W.append(w)\n",
        "    for b, db in zip(B, dL_dB):\n",
        "        b = b - lr * db\n",
        "        new_B.append(b)\n",
        "    return new_W, new_B\n",
        "\n",
        "def compute_accuracy(x_val, y_val, W, B):\n",
        "    '''\n",
        "        This function does a forward pass of x_validation, then checks if the indices\n",
        "        of the maximum value in the output equals the indices in the label\n",
        "        y. Then it sums over each prediction and calculates the accuracy.\n",
        "    '''\n",
        "    predictions = []\n",
        "\n",
        "    for x, y in zip(x_val, y_val):\n",
        "        # prepare the input image\n",
        "        X = flatten(x)\n",
        "        X = X.reshape(len(X), 1)\n",
        "        Y = one_hot(y)\n",
        "        # forward-propagation\n",
        "        Z, A = forward_pass(X, W, B)\n",
        "        output = A[-1]\n",
        "        pred = np.argmax(output)\n",
        "        predictions.append(pred == np.argmax(Y))\n",
        "\n",
        "    return np.mean(predictions)\n",
        "\n",
        "def classify(img, W, B):\n",
        "    \"\"\"\n",
        "    cette fonction recois une seule image en parametre\n",
        "    et elle reçois les poids W et les Biais B\n",
        "    et elle retourne la catégorie de l'image en entier 0..9\n",
        "    \"\"\"\n",
        "    predictions = []\n",
        "    X = flatten(img)\n",
        "    X = X.reshape(len(X), 1)\n",
        "    # forward-propagation\n",
        "    Z, A = forward_pass(X, W, B)\n",
        "    output = A[-1]\n",
        "    pred = np.argmax(output)\n",
        "    return pred\n",
        "\n",
        "def show_accuracies(train_images, train_labels, val_images, val_labels, test_images, test_labels, W, B):\n",
        "    \"\"\"\n",
        "    this function compute accuracy for each train-set, validation-set, and test-set\n",
        "    then print them all.\n",
        "    arguments : train_images, train_labels, val_images, val_labels, test_images, test_labels, W, B\n",
        "    \"\"\"\n",
        "    train_accuracy = compute_accuracy(train_images, train_labels, W, B)\n",
        "    val_accuracy = compute_accuracy(val_images, val_labels, W, B)\n",
        "    test_accuracy = compute_accuracy(test_images, test_labels, W, B)\n",
        "    print(\"Accuracies :\\n\\\n",
        "    - train accuracy = {} %\\n\\\n",
        "    - val accuracy = {} %\\n\\\n",
        "    - test accuracy = {} %\".format(train_accuracy*100, val_accuracy*100, test_accuracy*100))\n",
        "\n",
        "def backpro_pass(dL_dZ, A, Z, W, indice):\n",
        "    dl_dw = np.dot(dL_dZ, np.transpose(A[indice]))\n",
        "    dl_db = dL_dZ\n",
        "    dl_dz = 0\n",
        "    if indice*(-1) != len(Z)+1:\n",
        "      dl_da = np.dot(np.transpose(W[indice+1]), dL_dZ)\n",
        "      da_dz = d_segmoid(Z[indice])\n",
        "      dl_dz = dl_da * da_dz\n",
        "    return dl_dw, dl_db, dl_dz"
      ],
      "execution_count": 10,
      "outputs": []
    },
    {
      "cell_type": "code",
      "metadata": {
        "id": "YJQfMoEksy91"
      },
      "source": [
        "images_path = '/content/drive/MyDrive/Colab Notebooks/mnist_data/train-images.idx3-ubyte'\n",
        "labels_path = '/content/drive/MyDrive/Colab Notebooks/mnist_data/train-labels.idx1-ubyte'\n",
        "test_images_path = '/content/drive/MyDrive/Colab Notebooks/mnist_data/test-images.idx3-ubyte'\n",
        "test_labels_path = '/content/drive/MyDrive/Colab Notebooks/mnist_data/test-labels.idx1-ubyte'\n",
        "test_images, test_labels = loadlocal_mnist(test_images_path, test_labels_path)\n",
        "train_images, train_labels = loadlocal_mnist(images_path, labels_path)\n",
        "# group all the images in one list\n",
        "# then normelize all the images\n",
        "images = np.concatenate([train_images, test_images])\n",
        "labels = np.concatenate([train_labels, test_labels])\n",
        "images = normelize(images)\n",
        "# shuffle all the images and all labels randomly\n",
        "random.seed(12)\n",
        "indices = np.arange(len(labels))\n",
        "np.random.shuffle(indices)\n",
        "labels = labels[indices]\n",
        "images = images[indices]\n",
        "# change shape of the images\n",
        "images = images.reshape(len(images), 28, 28)\n",
        "# split the data into train, validation and test \n",
        "train_images, val_images, test_images = images[:60000], images[60000:65000], images[65000:]\n",
        "train_labels, val_labels, test_labels = labels[:60000], labels[60000:65000], labels[65000:]"
      ],
      "execution_count": 11,
      "outputs": []
    },
    {
      "cell_type": "code",
      "metadata": {
        "colab": {
          "base_uri": "https://localhost:8080/",
          "height": 1000
        },
        "id": "91CcRAaq0dbD",
        "outputId": "dc4a6f09-e67c-4c81-e2b4-6e8c9da04a2d"
      },
      "source": [
        "# Initialize my network\n",
        "my_network = [28*28, 10, 20, 10]\n",
        "number_epochs = 50\n",
        "# Initialize weights and biais of my_network\n",
        "W, B = init_params(my_network)\n",
        "\n",
        "# training\n",
        "start_time = time.time()\n",
        "losses = []\n",
        "accuracies = []\n",
        "for epoch in range(number_epochs):\n",
        "    epoch_losses = np.array([])\n",
        "    start_epoch_time = time.time()\n",
        "    for i in range(len(train_labels)):\n",
        "        # prepare the input image\n",
        "        X = flatten(train_images[i])\n",
        "        X = X.reshape(len(X), 1)\n",
        "        Y = one_hot(train_labels[i])\n",
        "        # forward-propagation\n",
        "        Z, A = forward_pass(X, W, B)\n",
        "        loss = categoricalCrossEntropy(A[-1], Y)\n",
        "        epoch_losses = np.concatenate([epoch_losses, loss])\n",
        "# example of neural network architecture :\n",
        "        # 28*28 ---> 128        ---> 20         ---> 10\n",
        "        # A[0] ----> Z[0], A[1] ---> Z[1], A[2] ---> Z[2], A[3]\n",
        "        # ---------> W[0], B[0] ---> W[1], B[1] ---> W[2], B[2]\n",
        "\n",
        "        # backpropagation\n",
        "        dL_dZ2 = A[-1] - Y\n",
        "        dL_dW, dL_dB, dL_dZ = [], [], [dL_dZ2]\n",
        "\n",
        "        indice = 0\n",
        "        for layer in range(len(my_network)-1):\n",
        "          dl_dw, dl_db, dl_dz = backpro_pass(dL_dZ[-1], A, Z, W, indice - 2)\n",
        "          dL_dW.append(dl_dw)\n",
        "          dL_dB.append(dl_db)\n",
        "          dL_dZ.append(dl_dz)\n",
        "          indice = indice - 1 \n",
        "          \n",
        "        # update weights W and Biais B  \n",
        "        dL_dW.reverse()\n",
        "        dL_dB.reverse()\n",
        "        W, B = update_W_and_B(W, dL_dW, B, dL_dB, 0.01)\n",
        "      \n",
        "    # Test my model at epoch = gama    \n",
        "    if (epoch % 5 == 0):\n",
        "        accuracy = compute_accuracy(val_images, val_labels, W, B)\n",
        "        accuracies.append(accuracy)\n",
        "        print('---------------------------------------------------------------------------> Accuracy : ',accuracies[-1])\n",
        "\n",
        "    print('epoch ',epoch,' -------> loss : ',np.array(epoch_losses).mean(), ' | time : ',(time.time() - start_epoch_time))\n",
        "    losses.append(np.array(epoch_losses).mean())\n",
        "\n",
        "print(\"--- %s seconds ---\" % (time.time() - start_time), ' | time : ',(time.time() - start_time)) \n",
        "fig, ax = plt.subplots(2)\n",
        "fig.suptitle('Graph of accuracy and loss')\n",
        "ax[0].plot(losses)\n",
        "ax[1].plot(accuracies)"
      ],
      "execution_count": 16,
      "outputs": [
        {
          "output_type": "stream",
          "text": [
            "-------------------------------------------------------------------------> Accuracy :  0.7988\n",
            "epoch  0  -------> loss :  0.9562329975587689  | time :  15.457793235778809\n",
            "epoch  1  -------> loss :  0.5391314975378341  | time :  14.859726428985596\n",
            "epoch  2  -------> loss :  0.44900872223172783  | time :  15.335623264312744\n",
            "epoch  3  -------> loss :  0.40385835482325316  | time :  15.101619720458984\n",
            "epoch  4  -------> loss :  0.3745452275283966  | time :  14.780211448669434\n",
            "-------------------------------------------------------------------------> Accuracy :  0.8932\n",
            "epoch  5  -------> loss :  0.3537843541114567  | time :  15.452855825424194\n",
            "epoch  6  -------> loss :  0.3381788998903906  | time :  14.94437575340271\n",
            "epoch  7  -------> loss :  0.3257723264593369  | time :  15.295384407043457\n",
            "epoch  8  -------> loss :  0.31517752523829906  | time :  14.92522382736206\n",
            "epoch  9  -------> loss :  0.3061431750756033  | time :  15.00167465209961\n",
            "-------------------------------------------------------------------------> Accuracy :  0.9044\n",
            "epoch  10  -------> loss :  0.2982588322146558  | time :  15.284597635269165\n",
            "epoch  11  -------> loss :  0.2913928851700121  | time :  15.176032304763794\n",
            "epoch  12  -------> loss :  0.28524381369801916  | time :  15.295130014419556\n",
            "epoch  13  -------> loss :  0.27958253199305594  | time :  15.176211595535278\n",
            "epoch  14  -------> loss :  0.2743052375722447  | time :  15.092965364456177\n",
            "-------------------------------------------------------------------------> Accuracy :  0.9132\n",
            "epoch  15  -------> loss :  0.2693515407251132  | time :  15.596148014068604\n",
            "epoch  16  -------> loss :  0.26475266518084334  | time :  14.935130596160889\n",
            "epoch  17  -------> loss :  0.2603324018375159  | time :  15.472637414932251\n",
            "epoch  18  -------> loss :  0.25613093413462784  | time :  15.155616044998169\n",
            "epoch  19  -------> loss :  0.2522332309636569  | time :  15.210534811019897\n",
            "-------------------------------------------------------------------------> Accuracy :  0.9176\n",
            "epoch  20  -------> loss :  0.24861988934187387  | time :  15.226897716522217\n",
            "epoch  21  -------> loss :  0.2452484246392083  | time :  15.149288892745972\n",
            "epoch  22  -------> loss :  0.2421548617425824  | time :  15.437962293624878\n",
            "epoch  23  -------> loss :  0.23929158788000396  | time :  15.287339687347412\n",
            "epoch  24  -------> loss :  0.23662407752092496  | time :  15.052146196365356\n",
            "-------------------------------------------------------------------------> Accuracy :  0.919\n",
            "epoch  25  -------> loss :  0.2340696306617885  | time :  15.560680150985718\n",
            "epoch  26  -------> loss :  0.23159369073996192  | time :  15.510127544403076\n",
            "epoch  27  -------> loss :  0.2292148769607564  | time :  15.44088363647461\n",
            "epoch  28  -------> loss :  0.22696003060708736  | time :  15.30043911933899\n",
            "epoch  29  -------> loss :  0.22476071898541575  | time :  15.062187910079956\n",
            "-------------------------------------------------------------------------> Accuracy :  0.9198\n",
            "epoch  30  -------> loss :  0.22266810832451855  | time :  15.241173028945923\n",
            "epoch  31  -------> loss :  0.2207087311039983  | time :  15.298503875732422\n",
            "epoch  32  -------> loss :  0.21887646834615243  | time :  15.120744943618774\n",
            "epoch  33  -------> loss :  0.2171640954753622  | time :  14.988759517669678\n",
            "epoch  34  -------> loss :  0.21554309217813983  | time :  15.257957696914673\n",
            "-------------------------------------------------------------------------> Accuracy :  0.9234\n",
            "epoch  35  -------> loss :  0.21398321597500744  | time :  15.506786108016968\n",
            "epoch  36  -------> loss :  0.2124690315290757  | time :  15.330121994018555\n",
            "epoch  37  -------> loss :  0.210997550868985  | time :  15.204254388809204\n",
            "epoch  38  -------> loss :  0.20957808562749677  | time :  15.154627799987793\n",
            "epoch  39  -------> loss :  0.20821121593051517  | time :  14.995838165283203\n",
            "-------------------------------------------------------------------------> Accuracy :  0.9226\n",
            "epoch  40  -------> loss :  0.2068916006017622  | time :  15.391093492507935\n",
            "epoch  41  -------> loss :  0.20562321210616546  | time :  15.168283939361572\n",
            "epoch  42  -------> loss :  0.20440633319817547  | time :  14.964987516403198\n",
            "epoch  43  -------> loss :  0.20323794087257133  | time :  15.094728946685791\n",
            "epoch  44  -------> loss :  0.20211829279486035  | time :  15.243921756744385\n",
            "-------------------------------------------------------------------------> Accuracy :  0.9236\n",
            "epoch  45  -------> loss :  0.2010403855155305  | time :  15.396204948425293\n",
            "epoch  46  -------> loss :  0.1999978527911548  | time :  14.85591983795166\n",
            "epoch  47  -------> loss :  0.1989799974395415  | time :  15.193072080612183\n",
            "epoch  48  -------> loss :  0.19797657102140181  | time :  15.082671642303467\n",
            "epoch  49  -------> loss :  0.1969886994708523  | time :  15.132532596588135\n",
            "--- 760.3260576725006 seconds ---  | time :  760.3260650634766\n"
          ],
          "name": "stdout"
        },
        {
          "output_type": "execute_result",
          "data": {
            "text/plain": [
              "[<matplotlib.lines.Line2D at 0x7f61eff70d50>]"
            ]
          },
          "metadata": {
            "tags": []
          },
          "execution_count": 16
        },
        {
          "output_type": "display_data",
          "data": {
            "image/png": "[encoded data removed]",
            "text/plain": [
              "<Figure size 432x288 with 2 Axes>"
            ]
          },
          "metadata": {
            "tags": [],
            "needs_background": "light"
          }
        }
      ]
    },
    {
      "cell_type": "code",
      "metadata": {
        "colab": {
          "base_uri": "https://localhost:8080/"
        },
        "id": "VVXPT7Yt0dfh",
        "outputId": "36de158f-b0f5-4980-f2f6-a42b55f5364b"
      },
      "source": [
        "show_accuracies(train_images, train_labels, val_images, val_labels, test_images, test_labels, W, B)"
      ],
      "execution_count": 17,
      "outputs": [
        {
          "output_type": "stream",
          "text": [
            "Accuracies :\n",
            "    - train accuracy = 94.12166666666667 %\n",
            "    - val accuracy = 92.42 %\n",
            "    - test accuracy = 92.47999999999999 %\n"
          ],
          "name": "stdout"
        }
      ]
    },
    {
      "cell_type": "code",
      "metadata": {
        "id": "XJPY9vki0djG"
      },
      "source": [
        ""
      ],
      "execution_count": null,
      "outputs": []
    },
    {
      "cell_type": "code",
      "metadata": {
        "id": "7Gnb6LyX0dpY"
      },
      "source": [
        ""
      ],
      "execution_count": null,
      "outputs": []
    },
    {
      "cell_type": "code",
      "metadata": {
        "id": "RAxsKck_0dsy"
      },
      "source": [
        ""
      ],
      "execution_count": null,
      "outputs": []
    },
    {
      "cell_type": "code",
      "metadata": {
        "id": "AQmjKaJk0dvn"
      },
      "source": [
        ""
      ],
      "execution_count": null,
      "outputs": []
    },
    {
      "cell_type": "code",
      "metadata": {
        "id": "lDzm0zn40d4H"
      },
      "source": [
        ""
      ],
      "execution_count": null,
      "outputs": []
    },
    {
      "cell_type": "code",
      "metadata": {
        "id": "C6DhuC5m0d7j"
      },
      "source": [
        ""
      ],
      "execution_count": null,
      "outputs": []
    },
    {
      "cell_type": "code",
      "metadata": {
        "id": "ex3Y9-0z0d-f"
      },
      "source": [
        ""
      ],
      "execution_count": null,
      "outputs": []
    },
    {
      "cell_type": "code",
      "metadata": {
        "id": "Vcg5biLx0eBb"
      },
      "source": [
        ""
      ],
      "execution_count": null,
      "outputs": []
    },
    {
      "cell_type": "code",
      "metadata": {
        "id": "16Aeyjos0eEL"
      },
      "source": [
        ""
      ],
      "execution_count": null,
      "outputs": []
    }
  ]
}